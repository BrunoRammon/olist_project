{
 "cells": [
  {
   "cell_type": "markdown",
   "metadata": {},
   "source": [
    "# Setting enviroment"
   ]
  },
  {
   "cell_type": "code",
   "execution_count": null,
   "metadata": {},
   "outputs": [
    {
     "data": {
      "text/html": [
       "<pre style=\"white-space:pre;overflow-x:auto;line-height:normal;font-family:Menlo,'DejaVu Sans Mono',consolas,'Courier New',monospace\"><span style=\"color: #7fbfbf; text-decoration-color: #7fbfbf\">[12/31/24 12:22:41] </span><span style=\"color: #000080; text-decoration-color: #000080\">INFO    </span> Using                                                                  <a href=\"file:///home/bruno/Documents/Programming/Programming_projects/olist_project/.venv/lib/python3.11/site-packages/kedro/framework/project/__init__.py\" target=\"_blank\"><span style=\"color: #7f7f7f; text-decoration-color: #7f7f7f\">__init__.py</span></a><span style=\"color: #7f7f7f; text-decoration-color: #7f7f7f\">:</span><a href=\"file:///home/bruno/Documents/Programming/Programming_projects/olist_project/.venv/lib/python3.11/site-packages/kedro/framework/project/__init__.py#270\" target=\"_blank\"><span style=\"color: #7f7f7f; text-decoration-color: #7f7f7f\">270</span></a>\n",
       "<span style=\"color: #7fbfbf; text-decoration-color: #7fbfbf\">                    </span>         <span style=\"color: #008000; text-decoration-color: #008000\">'/home/bruno/Documents/Programming/Programming_projects/olist_project/</span> <span style=\"color: #7f7f7f; text-decoration-color: #7f7f7f\">               </span>\n",
       "<span style=\"color: #7fbfbf; text-decoration-color: #7fbfbf\">                    </span>         <span style=\"color: #008000; text-decoration-color: #008000\">.venv/lib/python3.11/site-packages/kedro/framework/project/rich_loggin</span> <span style=\"color: #7f7f7f; text-decoration-color: #7f7f7f\">               </span>\n",
       "<span style=\"color: #7fbfbf; text-decoration-color: #7fbfbf\">                    </span>         <span style=\"color: #008000; text-decoration-color: #008000\">g.yml'</span> as logging configuration.                                       <span style=\"color: #7f7f7f; text-decoration-color: #7f7f7f\">               </span>\n",
       "</pre>\n"
      ],
      "text/plain": [
       "\u001b[2;36m[12/31/24 12:22:41]\u001b[0m\u001b[2;36m \u001b[0m\u001b[34mINFO    \u001b[0m Using                                                                  \u001b]8;id=307920;file:///home/bruno/Documents/Programming/Programming_projects/olist_project/.venv/lib/python3.11/site-packages/kedro/framework/project/__init__.py\u001b\\\u001b[2m__init__.py\u001b[0m\u001b]8;;\u001b\\\u001b[2m:\u001b[0m\u001b]8;id=776175;file:///home/bruno/Documents/Programming/Programming_projects/olist_project/.venv/lib/python3.11/site-packages/kedro/framework/project/__init__.py#270\u001b\\\u001b[2m270\u001b[0m\u001b]8;;\u001b\\\n",
       "\u001b[2;36m                    \u001b[0m         \u001b[32m'/home/bruno/Documents/Programming/Programming_projects/olist_project/\u001b[0m \u001b[2m               \u001b[0m\n",
       "\u001b[2;36m                    \u001b[0m         \u001b[32m.venv/lib/python3.11/site-packages/kedro/framework/project/rich_loggin\u001b[0m \u001b[2m               \u001b[0m\n",
       "\u001b[2;36m                    \u001b[0m         \u001b[32mg.yml'\u001b[0m as logging configuration.                                       \u001b[2m               \u001b[0m\n"
      ]
     },
     "metadata": {},
     "output_type": "display_data"
    },
    {
     "data": {
      "text/html": [
       "<pre style=\"white-space:pre;overflow-x:auto;line-height:normal;font-family:Menlo,'DejaVu Sans Mono',consolas,'Courier New',monospace\"><span style=\"color: #7fbfbf; text-decoration-color: #7fbfbf\">                    </span><span style=\"color: #000080; text-decoration-color: #000080\">INFO    </span> Registered line magic <span style=\"color: #008000; text-decoration-color: #008000\">'%reload_kedro'</span>                                   <a href=\"file:///home/bruno/Documents/Programming/Programming_projects/olist_project/.venv/lib/python3.11/site-packages/kedro/ipython/__init__.py\" target=\"_blank\"><span style=\"color: #7f7f7f; text-decoration-color: #7f7f7f\">__init__.py</span></a><span style=\"color: #7f7f7f; text-decoration-color: #7f7f7f\">:</span><a href=\"file:///home/bruno/Documents/Programming/Programming_projects/olist_project/.venv/lib/python3.11/site-packages/kedro/ipython/__init__.py#61\" target=\"_blank\"><span style=\"color: #7f7f7f; text-decoration-color: #7f7f7f\">61</span></a>\n",
       "</pre>\n"
      ],
      "text/plain": [
       "\u001b[2;36m                   \u001b[0m\u001b[2;36m \u001b[0m\u001b[34mINFO    \u001b[0m Registered line magic \u001b[32m'%reload_kedro'\u001b[0m                                   \u001b]8;id=734280;file:///home/bruno/Documents/Programming/Programming_projects/olist_project/.venv/lib/python3.11/site-packages/kedro/ipython/__init__.py\u001b\\\u001b[2m__init__.py\u001b[0m\u001b]8;;\u001b\\\u001b[2m:\u001b[0m\u001b]8;id=232029;file:///home/bruno/Documents/Programming/Programming_projects/olist_project/.venv/lib/python3.11/site-packages/kedro/ipython/__init__.py#61\u001b\\\u001b[2m61\u001b[0m\u001b]8;;\u001b\\\n"
      ]
     },
     "metadata": {},
     "output_type": "display_data"
    },
    {
     "data": {
      "text/html": [
       "<pre style=\"white-space:pre;overflow-x:auto;line-height:normal;font-family:Menlo,'DejaVu Sans Mono',consolas,'Courier New',monospace\"><span style=\"color: #7fbfbf; text-decoration-color: #7fbfbf\">                    </span><span style=\"color: #000080; text-decoration-color: #000080\">INFO    </span> Registered line magic <span style=\"color: #008000; text-decoration-color: #008000\">'%load_node'</span>                                      <a href=\"file:///home/bruno/Documents/Programming/Programming_projects/olist_project/.venv/lib/python3.11/site-packages/kedro/ipython/__init__.py\" target=\"_blank\"><span style=\"color: #7f7f7f; text-decoration-color: #7f7f7f\">__init__.py</span></a><span style=\"color: #7f7f7f; text-decoration-color: #7f7f7f\">:</span><a href=\"file:///home/bruno/Documents/Programming/Programming_projects/olist_project/.venv/lib/python3.11/site-packages/kedro/ipython/__init__.py#63\" target=\"_blank\"><span style=\"color: #7f7f7f; text-decoration-color: #7f7f7f\">63</span></a>\n",
       "</pre>\n"
      ],
      "text/plain": [
       "\u001b[2;36m                   \u001b[0m\u001b[2;36m \u001b[0m\u001b[34mINFO    \u001b[0m Registered line magic \u001b[32m'%load_node'\u001b[0m                                      \u001b]8;id=639247;file:///home/bruno/Documents/Programming/Programming_projects/olist_project/.venv/lib/python3.11/site-packages/kedro/ipython/__init__.py\u001b\\\u001b[2m__init__.py\u001b[0m\u001b]8;;\u001b\\\u001b[2m:\u001b[0m\u001b]8;id=882680;file:///home/bruno/Documents/Programming/Programming_projects/olist_project/.venv/lib/python3.11/site-packages/kedro/ipython/__init__.py#63\u001b\\\u001b[2m63\u001b[0m\u001b]8;;\u001b\\\n"
      ]
     },
     "metadata": {},
     "output_type": "display_data"
    },
    {
     "data": {
      "text/html": [
       "<pre style=\"white-space:pre;overflow-x:auto;line-height:normal;font-family:Menlo,'DejaVu Sans Mono',consolas,'Courier New',monospace\"><span style=\"color: #7fbfbf; text-decoration-color: #7fbfbf\">                    </span><span style=\"color: #000080; text-decoration-color: #000080\">INFO    </span> Resolved project path as:                                              <a href=\"file:///home/bruno/Documents/Programming/Programming_projects/olist_project/.venv/lib/python3.11/site-packages/kedro/ipython/__init__.py\" target=\"_blank\"><span style=\"color: #7f7f7f; text-decoration-color: #7f7f7f\">__init__.py</span></a><span style=\"color: #7f7f7f; text-decoration-color: #7f7f7f\">:</span><a href=\"file:///home/bruno/Documents/Programming/Programming_projects/olist_project/.venv/lib/python3.11/site-packages/kedro/ipython/__init__.py#178\" target=\"_blank\"><span style=\"color: #7f7f7f; text-decoration-color: #7f7f7f\">178</span></a>\n",
       "<span style=\"color: #7fbfbf; text-decoration-color: #7fbfbf\">                    </span>         <span style=\"color: #800080; text-decoration-color: #800080\">/home/bruno/Documents/Programming/Programming_projects/</span><span style=\"color: #ff00ff; text-decoration-color: #ff00ff\">olist_project.</span>  <span style=\"color: #7f7f7f; text-decoration-color: #7f7f7f\">               </span>\n",
       "<span style=\"color: #7fbfbf; text-decoration-color: #7fbfbf\">                    </span>         To set a different path, run <span style=\"color: #008000; text-decoration-color: #008000\">'%reload_kedro &lt;project_root&gt;'</span>            <span style=\"color: #7f7f7f; text-decoration-color: #7f7f7f\">               </span>\n",
       "</pre>\n"
      ],
      "text/plain": [
       "\u001b[2;36m                   \u001b[0m\u001b[2;36m \u001b[0m\u001b[34mINFO    \u001b[0m Resolved project path as:                                              \u001b]8;id=331893;file:///home/bruno/Documents/Programming/Programming_projects/olist_project/.venv/lib/python3.11/site-packages/kedro/ipython/__init__.py\u001b\\\u001b[2m__init__.py\u001b[0m\u001b]8;;\u001b\\\u001b[2m:\u001b[0m\u001b]8;id=460201;file:///home/bruno/Documents/Programming/Programming_projects/olist_project/.venv/lib/python3.11/site-packages/kedro/ipython/__init__.py#178\u001b\\\u001b[2m178\u001b[0m\u001b]8;;\u001b\\\n",
       "\u001b[2;36m                    \u001b[0m         \u001b[35m/home/bruno/Documents/Programming/Programming_projects/\u001b[0m\u001b[95molist_project.\u001b[0m  \u001b[2m               \u001b[0m\n",
       "\u001b[2;36m                    \u001b[0m         To set a different path, run \u001b[32m'%reload_kedro \u001b[0m\u001b[32m<\u001b[0m\u001b[32mproject_root\u001b[0m\u001b[32m>\u001b[0m\u001b[32m'\u001b[0m            \u001b[2m               \u001b[0m\n"
      ]
     },
     "metadata": {},
     "output_type": "display_data"
    },
    {
     "data": {
      "text/html": [
       "<pre style=\"white-space:pre;overflow-x:auto;line-height:normal;font-family:Menlo,'DejaVu Sans Mono',consolas,'Courier New',monospace\"><span style=\"color: #7fbfbf; text-decoration-color: #7fbfbf\">[12/31/24 12:22:44] </span><span style=\"color: #000080; text-decoration-color: #000080\">INFO    </span> Kedro is sending anonymous usage data with the sole purpose of improving <a href=\"file:///home/bruno/Documents/Programming/Programming_projects/olist_project/.venv/lib/python3.11/site-packages/kedro_telemetry/plugin.py\" target=\"_blank\"><span style=\"color: #7f7f7f; text-decoration-color: #7f7f7f\">plugin.py</span></a><span style=\"color: #7f7f7f; text-decoration-color: #7f7f7f\">:</span><a href=\"file:///home/bruno/Documents/Programming/Programming_projects/olist_project/.venv/lib/python3.11/site-packages/kedro_telemetry/plugin.py#233\" target=\"_blank\"><span style=\"color: #7f7f7f; text-decoration-color: #7f7f7f\">233</span></a>\n",
       "<span style=\"color: #7fbfbf; text-decoration-color: #7fbfbf\">                    </span>         the product. No personal data or IP addresses are stored on our side. If <span style=\"color: #7f7f7f; text-decoration-color: #7f7f7f\">             </span>\n",
       "<span style=\"color: #7fbfbf; text-decoration-color: #7fbfbf\">                    </span>         you want to opt out, set the `KEDRO_DISABLE_TELEMETRY` or `DO_NOT_TRACK` <span style=\"color: #7f7f7f; text-decoration-color: #7f7f7f\">             </span>\n",
       "<span style=\"color: #7fbfbf; text-decoration-color: #7fbfbf\">                    </span>         environment variables, or create a `.telemetry` file in the current      <span style=\"color: #7f7f7f; text-decoration-color: #7f7f7f\">             </span>\n",
       "<span style=\"color: #7fbfbf; text-decoration-color: #7fbfbf\">                    </span>         working directory with the contents `consent: false`. Read more at       <span style=\"color: #7f7f7f; text-decoration-color: #7f7f7f\">             </span>\n",
       "<span style=\"color: #7fbfbf; text-decoration-color: #7fbfbf\">                    </span>         <span style=\"color: #0000ff; text-decoration-color: #0000ff; text-decoration: underline\">https://docs.kedro.org/en/stable/configuration/telemetry.html</span>            <span style=\"color: #7f7f7f; text-decoration-color: #7f7f7f\">             </span>\n",
       "</pre>\n"
      ],
      "text/plain": [
       "\u001b[2;36m[12/31/24 12:22:44]\u001b[0m\u001b[2;36m \u001b[0m\u001b[34mINFO    \u001b[0m Kedro is sending anonymous usage data with the sole purpose of improving \u001b]8;id=319747;file:///home/bruno/Documents/Programming/Programming_projects/olist_project/.venv/lib/python3.11/site-packages/kedro_telemetry/plugin.py\u001b\\\u001b[2mplugin.py\u001b[0m\u001b]8;;\u001b\\\u001b[2m:\u001b[0m\u001b]8;id=94661;file:///home/bruno/Documents/Programming/Programming_projects/olist_project/.venv/lib/python3.11/site-packages/kedro_telemetry/plugin.py#233\u001b\\\u001b[2m233\u001b[0m\u001b]8;;\u001b\\\n",
       "\u001b[2;36m                    \u001b[0m         the product. No personal data or IP addresses are stored on our side. If \u001b[2m             \u001b[0m\n",
       "\u001b[2;36m                    \u001b[0m         you want to opt out, set the `KEDRO_DISABLE_TELEMETRY` or `DO_NOT_TRACK` \u001b[2m             \u001b[0m\n",
       "\u001b[2;36m                    \u001b[0m         environment variables, or create a `.telemetry` file in the current      \u001b[2m             \u001b[0m\n",
       "\u001b[2;36m                    \u001b[0m         working directory with the contents `consent: false`. Read more at       \u001b[2m             \u001b[0m\n",
       "\u001b[2;36m                    \u001b[0m         \u001b[4;94mhttps://docs.kedro.org/en/stable/configuration/telemetry.html\u001b[0m            \u001b[2m             \u001b[0m\n"
      ]
     },
     "metadata": {},
     "output_type": "display_data"
    },
    {
     "data": {
      "text/html": [
       "<pre style=\"white-space:pre;overflow-x:auto;line-height:normal;font-family:Menlo,'DejaVu Sans Mono',consolas,'Courier New',monospace\"><span style=\"color: #7fbfbf; text-decoration-color: #7fbfbf\">                    </span><span style=\"color: #000080; text-decoration-color: #000080\">INFO    </span> Kedro project olist_project                                            <a href=\"file:///home/bruno/Documents/Programming/Programming_projects/olist_project/.venv/lib/python3.11/site-packages/kedro/ipython/__init__.py\" target=\"_blank\"><span style=\"color: #7f7f7f; text-decoration-color: #7f7f7f\">__init__.py</span></a><span style=\"color: #7f7f7f; text-decoration-color: #7f7f7f\">:</span><a href=\"file:///home/bruno/Documents/Programming/Programming_projects/olist_project/.venv/lib/python3.11/site-packages/kedro/ipython/__init__.py#144\" target=\"_blank\"><span style=\"color: #7f7f7f; text-decoration-color: #7f7f7f\">144</span></a>\n",
       "</pre>\n"
      ],
      "text/plain": [
       "\u001b[2;36m                   \u001b[0m\u001b[2;36m \u001b[0m\u001b[34mINFO    \u001b[0m Kedro project olist_project                                            \u001b]8;id=291744;file:///home/bruno/Documents/Programming/Programming_projects/olist_project/.venv/lib/python3.11/site-packages/kedro/ipython/__init__.py\u001b\\\u001b[2m__init__.py\u001b[0m\u001b]8;;\u001b\\\u001b[2m:\u001b[0m\u001b]8;id=506525;file:///home/bruno/Documents/Programming/Programming_projects/olist_project/.venv/lib/python3.11/site-packages/kedro/ipython/__init__.py#144\u001b\\\u001b[2m144\u001b[0m\u001b]8;;\u001b\\\n"
      ]
     },
     "metadata": {},
     "output_type": "display_data"
    },
    {
     "data": {
      "text/html": [
       "<pre style=\"white-space:pre;overflow-x:auto;line-height:normal;font-family:Menlo,'DejaVu Sans Mono',consolas,'Courier New',monospace\"><span style=\"color: #7fbfbf; text-decoration-color: #7fbfbf\">                    </span><span style=\"color: #000080; text-decoration-color: #000080\">INFO    </span> Defined global variable <span style=\"color: #008000; text-decoration-color: #008000\">'context'</span>, <span style=\"color: #008000; text-decoration-color: #008000\">'session'</span>, <span style=\"color: #008000; text-decoration-color: #008000\">'catalog'</span> and            <a href=\"file:///home/bruno/Documents/Programming/Programming_projects/olist_project/.venv/lib/python3.11/site-packages/kedro/ipython/__init__.py\" target=\"_blank\"><span style=\"color: #7f7f7f; text-decoration-color: #7f7f7f\">__init__.py</span></a><span style=\"color: #7f7f7f; text-decoration-color: #7f7f7f\">:</span><a href=\"file:///home/bruno/Documents/Programming/Programming_projects/olist_project/.venv/lib/python3.11/site-packages/kedro/ipython/__init__.py#145\" target=\"_blank\"><span style=\"color: #7f7f7f; text-decoration-color: #7f7f7f\">145</span></a>\n",
       "<span style=\"color: #7fbfbf; text-decoration-color: #7fbfbf\">                    </span>         <span style=\"color: #008000; text-decoration-color: #008000\">'pipelines'</span>                                                            <span style=\"color: #7f7f7f; text-decoration-color: #7f7f7f\">               </span>\n",
       "</pre>\n"
      ],
      "text/plain": [
       "\u001b[2;36m                   \u001b[0m\u001b[2;36m \u001b[0m\u001b[34mINFO    \u001b[0m Defined global variable \u001b[32m'context'\u001b[0m, \u001b[32m'session'\u001b[0m, \u001b[32m'catalog'\u001b[0m and            \u001b]8;id=200512;file:///home/bruno/Documents/Programming/Programming_projects/olist_project/.venv/lib/python3.11/site-packages/kedro/ipython/__init__.py\u001b\\\u001b[2m__init__.py\u001b[0m\u001b]8;;\u001b\\\u001b[2m:\u001b[0m\u001b]8;id=738198;file:///home/bruno/Documents/Programming/Programming_projects/olist_project/.venv/lib/python3.11/site-packages/kedro/ipython/__init__.py#145\u001b\\\u001b[2m145\u001b[0m\u001b]8;;\u001b\\\n",
       "\u001b[2;36m                    \u001b[0m         \u001b[32m'pipelines'\u001b[0m                                                            \u001b[2m               \u001b[0m\n"
      ]
     },
     "metadata": {},
     "output_type": "display_data"
    },
    {
     "data": {
      "text/html": [
       "<pre style=\"white-space:pre;overflow-x:auto;line-height:normal;font-family:Menlo,'DejaVu Sans Mono',consolas,'Courier New',monospace\"><span style=\"color: #7fbfbf; text-decoration-color: #7fbfbf\">[12/31/24 12:22:45] </span><span style=\"color: #000080; text-decoration-color: #000080\">INFO    </span> Registered line magic <span style=\"color: #008000; text-decoration-color: #008000\">'run_viz'</span>                                        <a href=\"file:///home/bruno/Documents/Programming/Programming_projects/olist_project/.venv/lib/python3.11/site-packages/kedro/ipython/__init__.py\" target=\"_blank\"><span style=\"color: #7f7f7f; text-decoration-color: #7f7f7f\">__init__.py</span></a><span style=\"color: #7f7f7f; text-decoration-color: #7f7f7f\">:</span><a href=\"file:///home/bruno/Documents/Programming/Programming_projects/olist_project/.venv/lib/python3.11/site-packages/kedro/ipython/__init__.py#151\" target=\"_blank\"><span style=\"color: #7f7f7f; text-decoration-color: #7f7f7f\">151</span></a>\n",
       "</pre>\n"
      ],
      "text/plain": [
       "\u001b[2;36m[12/31/24 12:22:45]\u001b[0m\u001b[2;36m \u001b[0m\u001b[34mINFO    \u001b[0m Registered line magic \u001b[32m'run_viz'\u001b[0m                                        \u001b]8;id=927321;file:///home/bruno/Documents/Programming/Programming_projects/olist_project/.venv/lib/python3.11/site-packages/kedro/ipython/__init__.py\u001b\\\u001b[2m__init__.py\u001b[0m\u001b]8;;\u001b\\\u001b[2m:\u001b[0m\u001b]8;id=404239;file:///home/bruno/Documents/Programming/Programming_projects/olist_project/.venv/lib/python3.11/site-packages/kedro/ipython/__init__.py#151\u001b\\\u001b[2m151\u001b[0m\u001b]8;;\u001b\\\n"
      ]
     },
     "metadata": {},
     "output_type": "display_data"
    }
   ],
   "source": [
    "%reload_ext kedro.ipython"
   ]
  },
  {
   "cell_type": "code",
   "execution_count": null,
   "metadata": {},
   "outputs": [],
   "source": [
    "import pandas as pd\n",
    "import numpy as np\n",
    "# import shap\n",
    "\n",
    "from sklearn.pipeline import Pipeline\n",
    "from sklearn.preprocessing import FunctionTransformer\n",
    "from feature_engine.imputation import CategoricalImputer,ArbitraryNumberImputer,MeanMedianImputer\n",
    "from feature_engine.encoding import RareLabelEncoder, CountFrequencyEncoder\n",
    "from feature_engine.creation import MathFeatures, RelativeFeatures\n",
    "from feature_engine.wrappers import SklearnTransformerWrapper\n",
    "from feature_engine.selection import (\n",
    "    DropDuplicateFeatures, \n",
    "    DropConstantFeatures,\n",
    "    DropHighPSIFeatures,\n",
    "    SelectByInformationValue,\n",
    "    SmartCorrelatedSelection,\n",
    "    RecursiveFeatureElimination,\n",
    "    RecursiveFeatureAddition,\n",
    "    SelectByShuffling\n",
    ")\n",
    "\n",
    "from sklearn.metrics import roc_auc_score, average_precision_score\n",
    "from sklearn.model_selection import train_test_split, cross_val_predict, StratifiedKFold\n",
    "from scipy.stats import ks_2samp\n",
    "\n",
    "import matplotlib.pyplot as plt\n",
    "import seaborn as sns\n",
    "\n",
    "import mlflow\n",
    "\n",
    "import warnings\n",
    "from catboost import CatBoostClassifier\n",
    "from lightgbm import LGBMClassifier\n",
    "from xgboost import XGBClassifier\n",
    "from sklearn.ensemble import (\n",
    "    RandomForestClassifier, ExtraTreesClassifier,\n",
    "    HistGradientBoostingClassifier, GradientBoostingClassifier\n",
    ")\n",
    "from sklearn.linear_model import LogisticRegression\n",
    "from olist_project.utils.model import mlflow_experiment_run_cv\n",
    "from category_encoders.cat_boost import CatBoostEncoder\n",
    "from catboost import Pool, EShapCalcType, EFeaturesSelectionAlgorithm\n",
    "\n",
    "from olist_project.utils.model import (\n",
    "    mlflow_experiment_run_cv, ModelType, get_model,\n",
    "    MetricType, objective\n",
    ")\n",
    "\n",
    "import copy\n",
    "\n",
    "import optuna\n",
    "from optuna.storages import JournalStorage, JournalFileStorage\n",
    "from optuna.storages.journal import JournalFileBackend\n",
    "from optuna.samplers import TPESampler"
   ]
  },
  {
   "cell_type": "code",
   "execution_count": null,
   "metadata": {},
   "outputs": [],
   "source": [
    "pd.set_option('display.max_columns', 110)\n",
    "pd.set_option('display.max_rows', 110)"
   ]
  },
  {
   "cell_type": "code",
   "execution_count": null,
   "metadata": {},
   "outputs": [
    {
     "data": {
      "text/html": [
       "<pre style=\"white-space:pre;overflow-x:auto;line-height:normal;font-family:Menlo,'DejaVu Sans Mono',consolas,'Courier New',monospace\"></pre>\n"
      ],
      "text/plain": []
     },
     "metadata": {},
     "output_type": "display_data"
    },
    {
     "data": {
      "text/plain": [
       "\u001b[1m<\u001b[0m\u001b[1;95mExperiment:\u001b[0m\u001b[39m \u001b[0m\u001b[33martifact_location\u001b[0m\u001b[39m=\u001b[0m\u001b[32m'file:///home/bruno/Documents/Programming/Programming_projects/olist_project/mlflow/661832313454193859'\u001b[0m\u001b[39m, \u001b[0m\u001b[33mcreation_time\u001b[0m\u001b[39m=\u001b[0m\u001b[1;36m1735658302073\u001b[0m\u001b[39m, \u001b[0m\u001b[33mexperiment_id\u001b[0m\u001b[39m=\u001b[0m\u001b[32m'661832313454193859'\u001b[0m\u001b[39m, \u001b[0m\u001b[33mlast_update_time\u001b[0m\u001b[39m=\u001b[0m\u001b[1;36m1735658302073\u001b[0m\u001b[39m, \u001b[0m\u001b[33mlifecycle_stage\u001b[0m\u001b[39m=\u001b[0m\u001b[32m'active'\u001b[0m\u001b[39m, \u001b[0m\u001b[33mname\u001b[0m\u001b[39m=\u001b[0m\u001b[32m'feature_selection'\u001b[0m\u001b[39m, \u001b[0m\u001b[33mtags\u001b[0m\u001b[39m=\u001b[0m\u001b[1;39m{\u001b[0m\u001b[1;39m}\u001b[0m\u001b[1m>\u001b[0m"
      ]
     },
     "metadata": {},
     "output_type": "display_data"
    }
   ],
   "source": [
    "experiment_name = 'hyperparameters_tuning'\n",
    "mlflow_tracking_uri = context.project_path.as_uri()+'/mlflow'\n",
    "mlflow.set_tracking_uri(mlflow_tracking_uri)\n",
    "mlflow.set_experiment(experiment_name)"
   ]
  },
  {
   "cell_type": "markdown",
   "metadata": {},
   "source": [
    "# Functions"
   ]
  },
  {
   "cell_type": "code",
   "execution_count": null,
   "metadata": {},
   "outputs": [],
   "source": [
    "def _get_trial_by_id(study, trial_id):\n",
    "    for trial in study.trials:\n",
    "        if trial._trial_id == trial_id:\n",
    "            return trial\n",
    "    message = f'Trial ID {trial_id} not found'\n",
    "    raise ValueError(message)\n",
    "\n",
    "def _get_top_n_trials(study, n_top_trials, feature_selection, validation_type):\n",
    "    if feature_selection:\n",
    "        sel_trials  = [trial for trial in study.trials if trial.params['n_features']>0]\n",
    "    else:\n",
    "        sel_trials  = [trial for trial in study.trials if (trial.value is not None) and (trial.value<1)]\n",
    "    if validation_type == 'all':\n",
    "        max_metrics = [0]*4\n",
    "        id_max_metrics = [0]*4\n",
    "        for trial in sel_trials:\n",
    "            for i in range(4):\n",
    "                max_metrics[i], id_max_metrics[i] = (\n",
    "                    (trial.values[i], trial._trial_id ) if trial.values[i]>max_metrics[i] \n",
    "                            else (max_metrics[i],id_max_metrics[i])\n",
    "                )\n",
    "        top_n_trials = []\n",
    "        id_max_metrics = list(set(id_max_metrics))\n",
    "        for id_max_metric in id_max_metrics:\n",
    "            top_n_trials.append(_get_trial_by_id(study,id_max_metric))\n",
    "    else:\n",
    "        top_n_trials = sorted(sel_trials, key=lambda trial: trial.value)[-n_top_trials:]\n",
    "    return top_n_trials"
   ]
  },
  {
   "cell_type": "code",
   "execution_count": null,
   "metadata": {},
   "outputs": [],
   "source": [
    "def _optimize(validation_type,\n",
    "              X_dev,\n",
    "              y_dev,\n",
    "              cohort_dev,\n",
    "              features,\n",
    "              feat_set_name,\n",
    "              with_std_penalization,\n",
    "              feature_selection,\n",
    "              base_model_type,\n",
    "              get_model_func,\n",
    "              min_n_features,\n",
    "              n_folds,\n",
    "              random_state,\n",
    "              n_trials,\n",
    "              performance_group=None):\n",
    "    posfix_std_pen = f'_with_std_penalization' if with_std_penalization else ''\n",
    "    posfix_feat = f'_with_feature_selection_min{min_n_features}' if feature_selection else ''\n",
    "    name_run = f'{validation_type}_{feat_set_name}{posfix_std_pen}{posfix_feat}_opt_{base_model_type.value}'.lower()\n",
    "    print(name_run)\n",
    "    storage = JournalStorage(JournalFileBackend(f\"./tmp/optuna-journal-{name_run}.log\"))\n",
    "    sampler = TPESampler(seed=random_state)\n",
    "    if validation_type == 'all':\n",
    "        study = optuna.create_study(study_name=f'study_{name_run}',storage=storage, \n",
    "                                    directions=['maximize','maximize','maximize','maximize'],\n",
    "                                    load_if_exists=True,\n",
    "                                    sampler=sampler)\n",
    "    else: \n",
    "        study = optuna.create_study(study_name=f'study_{name_run}',storage=storage, \n",
    "                                    directions=['maximize'], load_if_exists=True,\n",
    "                                    sampler=sampler)\n",
    "    with warnings.catch_warnings():\n",
    "        warnings.simplefilter(\"ignore\")\n",
    "        X_dev_new = X_dev[features].copy()\n",
    "        obj_func = lambda trial: objective(trial,\n",
    "                                           X_dev_new, y_dev, cohort_dev,\n",
    "                                           validation_type = validation_type,\n",
    "                                           with_std_penalization = with_std_penalization,\n",
    "                                           feature_selection = feature_selection,\n",
    "                                           model_type = base_model_type,\n",
    "                                           get_model_function = get_model_func,\n",
    "                                           min_n_features = min_n_features,\n",
    "                                           cv_n_folds = n_folds,\n",
    "                                           performance_group = performance_group)\n",
    "        if validation_type == MetricType.ALL:\n",
    "            study.optimize(obj_func, n_trials=n_trials*7//10)\n",
    "        else:\n",
    "            study.optimize(obj_func,n_trials=n_trials)\n",
    "\n",
    "    return name_run,study\n",
    "\n",
    "def _save_top_n_trials_to_mlflow(\n",
    "    study,\n",
    "    save_n_top_trials,\n",
    "    mlflow_log,\n",
    "    nested_run,\n",
    "    parent_run_name,\n",
    "    parent_run_id,\n",
    "    child_run_name,\n",
    "    feature_selection,\n",
    "    base_model_type,\n",
    "    validation_type,\n",
    "    n_percentiles,\n",
    "    shap_plots,\n",
    "    X_dev,\n",
    "    y_dev,\n",
    "    cohort_dev,\n",
    "    X_oot,\n",
    "    y_oot,\n",
    "    cohort_oot,\n",
    "    features,\n",
    "    n_folds,\n",
    "    get_model_func,\n",
    "    group_dev=None,\n",
    "    group_oot=None\n",
    "):\n",
    "    top_n_trials = _get_top_n_trials(study, save_n_top_trials, feature_selection, validation_type)\n",
    "    if mlflow_log and nested_run:\n",
    "        mlflow.start_run(run_name=parent_run_name,\n",
    "                         run_id=parent_run_id)\n",
    "    for best_trial in top_n_trials:\n",
    "        id = best_trial._trial_id\n",
    "        best_params = best_trial.params\n",
    "        best_params.pop('n_features',None)\n",
    "        child_run_name = f'{child_run_name}_id_{id}'\n",
    "        if feature_selection:\n",
    "            sel_features = best_trial.user_attrs['sel_features']\n",
    "        else:\n",
    "            sel_features = features\n",
    "        X_dev_new = X_dev[sel_features].copy()\n",
    "        X_oot_new = X_oot[sel_features].copy()\n",
    "        model = get_model_func(X_dev[sel_features],best_params,model_type=base_model_type)\n",
    "        print(f'\\033[92mTrial {id}\\033[0m')\n",
    "        if validation_type == 'all':\n",
    "            mlflow_experiment_run_cv(model, X_dev_new, X_oot_new,\n",
    "                                        y_dev, y_oot,\n",
    "                                        cohort_dev, cohort_oot,\n",
    "                                        n_percentiles=n_percentiles,\n",
    "                                        optuna_study=None,\n",
    "                                        metric_plots=True,\n",
    "                                        n_folds=n_folds,\n",
    "                                        shap_plots=shap_plots,\n",
    "                                        mlflow_log=mlflow_log,\n",
    "                                        run_name=child_run_name,\n",
    "                                        nested_run=nested_run,\n",
    "                                        log_datasets=False,\n",
    "                                        log_model=True,\n",
    "                                        features=None,\n",
    "                                        group_dev=group_dev,\n",
    "                                        group_oot=group_oot)\n",
    "        else:\n",
    "            mlflow_experiment_run_cv(model, X_dev_new, X_oot_new,\n",
    "                                    y_dev, y_oot,\n",
    "                                    cohort_dev, cohort_oot,\n",
    "                                    n_percentiles=n_percentiles,\n",
    "                                    n_folds=n_folds,\n",
    "                                    optuna_study=study,\n",
    "                                    metric_plots=True,\n",
    "                                    shap_plots=shap_plots,\n",
    "                                    mlflow_log=mlflow_log,\n",
    "                                    run_name=child_run_name,\n",
    "                                    nested_run=nested_run,\n",
    "                                    log_datasets=False,\n",
    "                                    log_model=True,\n",
    "                                    features=None,\n",
    "                                    group_dev=group_dev,\n",
    "                                    group_oot=group_oot)\n",
    "    if mlflow_log and nested_run:\n",
    "        mlflow.end_run()"
   ]
  },
  {
   "cell_type": "code",
   "execution_count": null,
   "metadata": {},
   "outputs": [],
   "source": [
    "def download_mlflow_model(run_id):\n",
    "    model_uri = f'runs:/{run_id}/model'\n",
    "    model = mlflow.sklearn.load_model(model_uri=model_uri)\n",
    "    return model\n",
    "\n",
    "def get_feature_names_in_model(run_id):\n",
    "    return list(download_mlflow_model(run_id).feature_names_in_)"
   ]
  },
  {
   "cell_type": "markdown",
   "metadata": {},
   "source": [
    "# Retrieving runs"
   ]
  },
  {
   "cell_type": "code",
   "execution_count": null,
   "metadata": {},
   "outputs": [],
   "source": [
    "exp_ids = ['52d22bf5-de12-4351-a2b4-87190001e5d7']\n",
    "filter_string = \"tags.mlflow.runName = 'dcf95_ddf_psi10_smartRFECorr80_lgbm'\"\n",
    "feature_sel_parent_run_id = [\n",
    "    \"88f05110-afd1-4cb1-ae63-9c9ffe138482\",\n",
    "    \"69cb1e1e-09b3-47fe-abbe-b32a8a167119\"\n",
    "]\n",
    "feature_sel_child_run_id = (\n",
    "    mlflow.search_runs(experiment_ids=exp_ids)\n",
    "    .query(f'`tags.mlflow.parentRunId`.isin({feature_sel_parent_run_id})')\n",
    "    [['tags.mlflow.runName','run_id']].set_index('run_id')\n",
    "    .to_dict(orient='dict')['tags.mlflow.runName']\n",
    ")\n",
    "feature_sel_child_run_id"
   ]
  },
  {
   "cell_type": "markdown",
   "metadata": {},
   "source": [
    "# Load data"
   ]
  },
  {
   "cell_type": "code",
   "execution_count": null,
   "metadata": {},
   "outputs": [],
   "source": [
    "random_state = catalog.load('params:random_state')\n",
    "id_col = catalog.load('params:audience_building.id_col')\n",
    "cohort_col = catalog.load('params:audience_building.cohort_col')\n",
    "target_name = catalog.load('params:modeling.target')\n",
    "X_dev = catalog.load(\"X_train\")\n",
    "y_dev = catalog.load(\"y_train\")\n",
    "y_dev = y_dev[target_name]\n",
    "id_model_dev = catalog.load(\"id_model_train\")\n",
    "cohort_dev = pd.to_datetime(id_model_dev[cohort_col], format='%Y%m')\n",
    "\n",
    "X_oot = catalog.load(\"X_test_oot\")\n",
    "y_oot = catalog.load(\"y_test_oot\")\n",
    "y_oot = y_oot[target_name]\n",
    "id_model_oot = catalog.load(\"id_model_test_oot\")\n",
    "cohort_oot = pd.to_datetime(id_model_oot[cohort_col], format='%Y%m')"
   ]
  },
  {
   "cell_type": "markdown",
   "metadata": {},
   "source": [
    "# Tuning"
   ]
  },
  {
   "cell_type": "code",
   "execution_count": null,
   "metadata": {},
   "outputs": [],
   "source": [
    "WITH_STD_PENALIZATION = False\n",
    "FEATURE_SELECTION = False\n",
    "min_n_features = 10\n",
    "base_model_type = ModelType.LGBM\n",
    "validation_type = MetricType.TEST_CV_PREDICT\n",
    "mlflow_log = True\n",
    "n_trials = 70\n",
    "top_n_trials = 1\n",
    "parent_run_name = f\"model_optimization\"\n",
    "nested_run = False\n",
    "shap_plots = True\n",
    "n_percentiles = 5\n",
    "n_folds = 5\n",
    "get_model_func = get_model\n",
    "for run_id, feat_set_name in list(feature_sel_child_run_id.items()):\n",
    "    features = get_feature_names_in_model(run_id)\n",
    "    child_run_name, study = _optimize(\n",
    "        X_dev=X_dev,\n",
    "        y_dev=y_dev,\n",
    "        cohort_dev=cohort_dev,\n",
    "        features=features,\n",
    "        validation_type=validation_type,\n",
    "        with_std_penalization=WITH_STD_PENALIZATION,\n",
    "        feat_set_name=feat_set_name,\n",
    "        feature_selection=FEATURE_SELECTION,\n",
    "        base_model_type=base_model_type,\n",
    "        get_model_func=get_model_func,\n",
    "        min_n_features=min_n_features,\n",
    "        n_folds=n_folds,\n",
    "        random_state=random_state,\n",
    "        n_trials=n_trials\n",
    "    )\n",
    "    _save_top_n_trials_to_mlflow(\n",
    "        study=study,\n",
    "        save_n_top_trials=top_n_trials,\n",
    "        mlflow_log=mlflow_log,\n",
    "        nested_run=nested_run,\n",
    "        parent_run_name=parent_run_name,\n",
    "        parent_run_id='',\n",
    "        child_run_name=child_run_name,\n",
    "        feature_selection=FEATURE_SELECTION,\n",
    "        base_model_type=base_model_type,\n",
    "        validation_type=validation_type,\n",
    "        n_percentiles=n_percentiles,\n",
    "        shap_plots=shap_plots,\n",
    "        X_dev=X_dev,\n",
    "        y_dev=y_dev,\n",
    "        cohort_dev=cohort_dev,\n",
    "        X_oot=X_oot,\n",
    "        y_oot=y_oot,\n",
    "        cohort_oot=cohort_oot,\n",
    "        features=features,\n",
    "        n_folds=n_folds,\n",
    "        get_model_func=get_model_func,\n",
    "        group_dev = X_dev.CAD_TIPO_NEGOCIO.map(map_tn),\n",
    "        group_oot = X_oot.CAD_TIPO_NEGOCIO.map(map_tn)\n",
    "    )"
   ]
  }
 ],
 "metadata": {
  "language_info": {
   "name": "python"
  }
 },
 "nbformat": 4,
 "nbformat_minor": 2
}
