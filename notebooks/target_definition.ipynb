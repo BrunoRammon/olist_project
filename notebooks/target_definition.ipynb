{
 "cells": [
  {
   "cell_type": "markdown",
   "metadata": {},
   "source": [
    "# Setting enviroment"
   ]
  },
  {
   "cell_type": "code",
   "execution_count": 1,
   "metadata": {},
   "outputs": [
    {
     "data": {
      "text/html": [
       "<pre style=\"white-space:pre;overflow-x:auto;line-height:normal;font-family:Menlo,'DejaVu Sans Mono',consolas,'Courier New',monospace\"><span style=\"color: #7fbfbf; text-decoration-color: #7fbfbf\">[12/26/24 06:56:14] </span><span style=\"color: #000080; text-decoration-color: #000080\">INFO    </span> Using                                                                  <a href=\"file:///home/bruno/Documents/Programming/Programming_projects/olist_project/.venv/lib/python3.11/site-packages/kedro/framework/project/__init__.py\" target=\"_blank\"><span style=\"color: #7f7f7f; text-decoration-color: #7f7f7f\">__init__.py</span></a><span style=\"color: #7f7f7f; text-decoration-color: #7f7f7f\">:</span><a href=\"file:///home/bruno/Documents/Programming/Programming_projects/olist_project/.venv/lib/python3.11/site-packages/kedro/framework/project/__init__.py#270\" target=\"_blank\"><span style=\"color: #7f7f7f; text-decoration-color: #7f7f7f\">270</span></a>\n",
       "<span style=\"color: #7fbfbf; text-decoration-color: #7fbfbf\">                    </span>         <span style=\"color: #008000; text-decoration-color: #008000\">'/home/bruno/Documents/Programming/Programming_projects/olist_project/</span> <span style=\"color: #7f7f7f; text-decoration-color: #7f7f7f\">               </span>\n",
       "<span style=\"color: #7fbfbf; text-decoration-color: #7fbfbf\">                    </span>         <span style=\"color: #008000; text-decoration-color: #008000\">.venv/lib/python3.11/site-packages/kedro/framework/project/rich_loggin</span> <span style=\"color: #7f7f7f; text-decoration-color: #7f7f7f\">               </span>\n",
       "<span style=\"color: #7fbfbf; text-decoration-color: #7fbfbf\">                    </span>         <span style=\"color: #008000; text-decoration-color: #008000\">g.yml'</span> as logging configuration.                                       <span style=\"color: #7f7f7f; text-decoration-color: #7f7f7f\">               </span>\n",
       "</pre>\n"
      ],
      "text/plain": [
       "\u001b[2;36m[12/26/24 06:56:14]\u001b[0m\u001b[2;36m \u001b[0m\u001b[34mINFO    \u001b[0m Using                                                                  \u001b]8;id=104428;file:///home/bruno/Documents/Programming/Programming_projects/olist_project/.venv/lib/python3.11/site-packages/kedro/framework/project/__init__.py\u001b\\\u001b[2m__init__.py\u001b[0m\u001b]8;;\u001b\\\u001b[2m:\u001b[0m\u001b]8;id=750006;file:///home/bruno/Documents/Programming/Programming_projects/olist_project/.venv/lib/python3.11/site-packages/kedro/framework/project/__init__.py#270\u001b\\\u001b[2m270\u001b[0m\u001b]8;;\u001b\\\n",
       "\u001b[2;36m                    \u001b[0m         \u001b[32m'/home/bruno/Documents/Programming/Programming_projects/olist_project/\u001b[0m \u001b[2m               \u001b[0m\n",
       "\u001b[2;36m                    \u001b[0m         \u001b[32m.venv/lib/python3.11/site-packages/kedro/framework/project/rich_loggin\u001b[0m \u001b[2m               \u001b[0m\n",
       "\u001b[2;36m                    \u001b[0m         \u001b[32mg.yml'\u001b[0m as logging configuration.                                       \u001b[2m               \u001b[0m\n"
      ]
     },
     "metadata": {},
     "output_type": "display_data"
    },
    {
     "data": {
      "text/html": [
       "<pre style=\"white-space:pre;overflow-x:auto;line-height:normal;font-family:Menlo,'DejaVu Sans Mono',consolas,'Courier New',monospace\"><span style=\"color: #7fbfbf; text-decoration-color: #7fbfbf\">[12/26/24 06:56:15] </span><span style=\"color: #000080; text-decoration-color: #000080\">INFO    </span> Registered line magic <span style=\"color: #008000; text-decoration-color: #008000\">'%reload_kedro'</span>                                   <a href=\"file:///home/bruno/Documents/Programming/Programming_projects/olist_project/.venv/lib/python3.11/site-packages/kedro/ipython/__init__.py\" target=\"_blank\"><span style=\"color: #7f7f7f; text-decoration-color: #7f7f7f\">__init__.py</span></a><span style=\"color: #7f7f7f; text-decoration-color: #7f7f7f\">:</span><a href=\"file:///home/bruno/Documents/Programming/Programming_projects/olist_project/.venv/lib/python3.11/site-packages/kedro/ipython/__init__.py#61\" target=\"_blank\"><span style=\"color: #7f7f7f; text-decoration-color: #7f7f7f\">61</span></a>\n",
       "</pre>\n"
      ],
      "text/plain": [
       "\u001b[2;36m[12/26/24 06:56:15]\u001b[0m\u001b[2;36m \u001b[0m\u001b[34mINFO    \u001b[0m Registered line magic \u001b[32m'%reload_kedro'\u001b[0m                                   \u001b]8;id=911569;file:///home/bruno/Documents/Programming/Programming_projects/olist_project/.venv/lib/python3.11/site-packages/kedro/ipython/__init__.py\u001b\\\u001b[2m__init__.py\u001b[0m\u001b]8;;\u001b\\\u001b[2m:\u001b[0m\u001b]8;id=115833;file:///home/bruno/Documents/Programming/Programming_projects/olist_project/.venv/lib/python3.11/site-packages/kedro/ipython/__init__.py#61\u001b\\\u001b[2m61\u001b[0m\u001b]8;;\u001b\\\n"
      ]
     },
     "metadata": {},
     "output_type": "display_data"
    },
    {
     "data": {
      "text/html": [
       "<pre style=\"white-space:pre;overflow-x:auto;line-height:normal;font-family:Menlo,'DejaVu Sans Mono',consolas,'Courier New',monospace\"><span style=\"color: #7fbfbf; text-decoration-color: #7fbfbf\">                    </span><span style=\"color: #000080; text-decoration-color: #000080\">INFO    </span> Registered line magic <span style=\"color: #008000; text-decoration-color: #008000\">'%load_node'</span>                                      <a href=\"file:///home/bruno/Documents/Programming/Programming_projects/olist_project/.venv/lib/python3.11/site-packages/kedro/ipython/__init__.py\" target=\"_blank\"><span style=\"color: #7f7f7f; text-decoration-color: #7f7f7f\">__init__.py</span></a><span style=\"color: #7f7f7f; text-decoration-color: #7f7f7f\">:</span><a href=\"file:///home/bruno/Documents/Programming/Programming_projects/olist_project/.venv/lib/python3.11/site-packages/kedro/ipython/__init__.py#63\" target=\"_blank\"><span style=\"color: #7f7f7f; text-decoration-color: #7f7f7f\">63</span></a>\n",
       "</pre>\n"
      ],
      "text/plain": [
       "\u001b[2;36m                   \u001b[0m\u001b[2;36m \u001b[0m\u001b[34mINFO    \u001b[0m Registered line magic \u001b[32m'%load_node'\u001b[0m                                      \u001b]8;id=903936;file:///home/bruno/Documents/Programming/Programming_projects/olist_project/.venv/lib/python3.11/site-packages/kedro/ipython/__init__.py\u001b\\\u001b[2m__init__.py\u001b[0m\u001b]8;;\u001b\\\u001b[2m:\u001b[0m\u001b]8;id=795390;file:///home/bruno/Documents/Programming/Programming_projects/olist_project/.venv/lib/python3.11/site-packages/kedro/ipython/__init__.py#63\u001b\\\u001b[2m63\u001b[0m\u001b]8;;\u001b\\\n"
      ]
     },
     "metadata": {},
     "output_type": "display_data"
    },
    {
     "data": {
      "text/html": [
       "<pre style=\"white-space:pre;overflow-x:auto;line-height:normal;font-family:Menlo,'DejaVu Sans Mono',consolas,'Courier New',monospace\"><span style=\"color: #7fbfbf; text-decoration-color: #7fbfbf\">                    </span><span style=\"color: #000080; text-decoration-color: #000080\">INFO    </span> Resolved project path as:                                              <a href=\"file:///home/bruno/Documents/Programming/Programming_projects/olist_project/.venv/lib/python3.11/site-packages/kedro/ipython/__init__.py\" target=\"_blank\"><span style=\"color: #7f7f7f; text-decoration-color: #7f7f7f\">__init__.py</span></a><span style=\"color: #7f7f7f; text-decoration-color: #7f7f7f\">:</span><a href=\"file:///home/bruno/Documents/Programming/Programming_projects/olist_project/.venv/lib/python3.11/site-packages/kedro/ipython/__init__.py#178\" target=\"_blank\"><span style=\"color: #7f7f7f; text-decoration-color: #7f7f7f\">178</span></a>\n",
       "<span style=\"color: #7fbfbf; text-decoration-color: #7fbfbf\">                    </span>         <span style=\"color: #800080; text-decoration-color: #800080\">/home/bruno/Documents/Programming/Programming_projects/</span><span style=\"color: #ff00ff; text-decoration-color: #ff00ff\">olist_project.</span>  <span style=\"color: #7f7f7f; text-decoration-color: #7f7f7f\">               </span>\n",
       "<span style=\"color: #7fbfbf; text-decoration-color: #7fbfbf\">                    </span>         To set a different path, run <span style=\"color: #008000; text-decoration-color: #008000\">'%reload_kedro &lt;project_root&gt;'</span>            <span style=\"color: #7f7f7f; text-decoration-color: #7f7f7f\">               </span>\n",
       "</pre>\n"
      ],
      "text/plain": [
       "\u001b[2;36m                   \u001b[0m\u001b[2;36m \u001b[0m\u001b[34mINFO    \u001b[0m Resolved project path as:                                              \u001b]8;id=985340;file:///home/bruno/Documents/Programming/Programming_projects/olist_project/.venv/lib/python3.11/site-packages/kedro/ipython/__init__.py\u001b\\\u001b[2m__init__.py\u001b[0m\u001b]8;;\u001b\\\u001b[2m:\u001b[0m\u001b]8;id=287073;file:///home/bruno/Documents/Programming/Programming_projects/olist_project/.venv/lib/python3.11/site-packages/kedro/ipython/__init__.py#178\u001b\\\u001b[2m178\u001b[0m\u001b]8;;\u001b\\\n",
       "\u001b[2;36m                    \u001b[0m         \u001b[35m/home/bruno/Documents/Programming/Programming_projects/\u001b[0m\u001b[95molist_project.\u001b[0m  \u001b[2m               \u001b[0m\n",
       "\u001b[2;36m                    \u001b[0m         To set a different path, run \u001b[32m'%reload_kedro \u001b[0m\u001b[32m<\u001b[0m\u001b[32mproject_root\u001b[0m\u001b[32m>\u001b[0m\u001b[32m'\u001b[0m            \u001b[2m               \u001b[0m\n"
      ]
     },
     "metadata": {},
     "output_type": "display_data"
    },
    {
     "data": {
      "text/html": [
       "<pre style=\"white-space:pre;overflow-x:auto;line-height:normal;font-family:Menlo,'DejaVu Sans Mono',consolas,'Courier New',monospace\"><span style=\"color: #7fbfbf; text-decoration-color: #7fbfbf\">[12/26/24 06:57:05] </span><span style=\"color: #000080; text-decoration-color: #000080\">INFO    </span> Kedro is sending anonymous usage data with the sole purpose of improving <a href=\"file:///home/bruno/Documents/Programming/Programming_projects/olist_project/.venv/lib/python3.11/site-packages/kedro_telemetry/plugin.py\" target=\"_blank\"><span style=\"color: #7f7f7f; text-decoration-color: #7f7f7f\">plugin.py</span></a><span style=\"color: #7f7f7f; text-decoration-color: #7f7f7f\">:</span><a href=\"file:///home/bruno/Documents/Programming/Programming_projects/olist_project/.venv/lib/python3.11/site-packages/kedro_telemetry/plugin.py#233\" target=\"_blank\"><span style=\"color: #7f7f7f; text-decoration-color: #7f7f7f\">233</span></a>\n",
       "<span style=\"color: #7fbfbf; text-decoration-color: #7fbfbf\">                    </span>         the product. No personal data or IP addresses are stored on our side. If <span style=\"color: #7f7f7f; text-decoration-color: #7f7f7f\">             </span>\n",
       "<span style=\"color: #7fbfbf; text-decoration-color: #7fbfbf\">                    </span>         you want to opt out, set the `KEDRO_DISABLE_TELEMETRY` or `DO_NOT_TRACK` <span style=\"color: #7f7f7f; text-decoration-color: #7f7f7f\">             </span>\n",
       "<span style=\"color: #7fbfbf; text-decoration-color: #7fbfbf\">                    </span>         environment variables, or create a `.telemetry` file in the current      <span style=\"color: #7f7f7f; text-decoration-color: #7f7f7f\">             </span>\n",
       "<span style=\"color: #7fbfbf; text-decoration-color: #7fbfbf\">                    </span>         working directory with the contents `consent: false`. Read more at       <span style=\"color: #7f7f7f; text-decoration-color: #7f7f7f\">             </span>\n",
       "<span style=\"color: #7fbfbf; text-decoration-color: #7fbfbf\">                    </span>         <span style=\"color: #0000ff; text-decoration-color: #0000ff; text-decoration: underline\">https://docs.kedro.org/en/stable/configuration/telemetry.html</span>            <span style=\"color: #7f7f7f; text-decoration-color: #7f7f7f\">             </span>\n",
       "</pre>\n"
      ],
      "text/plain": [
       "\u001b[2;36m[12/26/24 06:57:05]\u001b[0m\u001b[2;36m \u001b[0m\u001b[34mINFO    \u001b[0m Kedro is sending anonymous usage data with the sole purpose of improving \u001b]8;id=433114;file:///home/bruno/Documents/Programming/Programming_projects/olist_project/.venv/lib/python3.11/site-packages/kedro_telemetry/plugin.py\u001b\\\u001b[2mplugin.py\u001b[0m\u001b]8;;\u001b\\\u001b[2m:\u001b[0m\u001b]8;id=415092;file:///home/bruno/Documents/Programming/Programming_projects/olist_project/.venv/lib/python3.11/site-packages/kedro_telemetry/plugin.py#233\u001b\\\u001b[2m233\u001b[0m\u001b]8;;\u001b\\\n",
       "\u001b[2;36m                    \u001b[0m         the product. No personal data or IP addresses are stored on our side. If \u001b[2m             \u001b[0m\n",
       "\u001b[2;36m                    \u001b[0m         you want to opt out, set the `KEDRO_DISABLE_TELEMETRY` or `DO_NOT_TRACK` \u001b[2m             \u001b[0m\n",
       "\u001b[2;36m                    \u001b[0m         environment variables, or create a `.telemetry` file in the current      \u001b[2m             \u001b[0m\n",
       "\u001b[2;36m                    \u001b[0m         working directory with the contents `consent: false`. Read more at       \u001b[2m             \u001b[0m\n",
       "\u001b[2;36m                    \u001b[0m         \u001b[4;94mhttps://docs.kedro.org/en/stable/configuration/telemetry.html\u001b[0m            \u001b[2m             \u001b[0m\n"
      ]
     },
     "metadata": {},
     "output_type": "display_data"
    },
    {
     "data": {
      "text/html": [
       "<pre style=\"white-space:pre;overflow-x:auto;line-height:normal;font-family:Menlo,'DejaVu Sans Mono',consolas,'Courier New',monospace\"><span style=\"color: #7fbfbf; text-decoration-color: #7fbfbf\">[12/26/24 06:57:06] </span><span style=\"color: #000080; text-decoration-color: #000080\">INFO    </span> Kedro project olist_project                                            <a href=\"file:///home/bruno/Documents/Programming/Programming_projects/olist_project/.venv/lib/python3.11/site-packages/kedro/ipython/__init__.py\" target=\"_blank\"><span style=\"color: #7f7f7f; text-decoration-color: #7f7f7f\">__init__.py</span></a><span style=\"color: #7f7f7f; text-decoration-color: #7f7f7f\">:</span><a href=\"file:///home/bruno/Documents/Programming/Programming_projects/olist_project/.venv/lib/python3.11/site-packages/kedro/ipython/__init__.py#144\" target=\"_blank\"><span style=\"color: #7f7f7f; text-decoration-color: #7f7f7f\">144</span></a>\n",
       "</pre>\n"
      ],
      "text/plain": [
       "\u001b[2;36m[12/26/24 06:57:06]\u001b[0m\u001b[2;36m \u001b[0m\u001b[34mINFO    \u001b[0m Kedro project olist_project                                            \u001b]8;id=606584;file:///home/bruno/Documents/Programming/Programming_projects/olist_project/.venv/lib/python3.11/site-packages/kedro/ipython/__init__.py\u001b\\\u001b[2m__init__.py\u001b[0m\u001b]8;;\u001b\\\u001b[2m:\u001b[0m\u001b]8;id=283419;file:///home/bruno/Documents/Programming/Programming_projects/olist_project/.venv/lib/python3.11/site-packages/kedro/ipython/__init__.py#144\u001b\\\u001b[2m144\u001b[0m\u001b]8;;\u001b\\\n"
      ]
     },
     "metadata": {},
     "output_type": "display_data"
    },
    {
     "data": {
      "text/html": [
       "<pre style=\"white-space:pre;overflow-x:auto;line-height:normal;font-family:Menlo,'DejaVu Sans Mono',consolas,'Courier New',monospace\"><span style=\"color: #7fbfbf; text-decoration-color: #7fbfbf\">                    </span><span style=\"color: #000080; text-decoration-color: #000080\">INFO    </span> Defined global variable <span style=\"color: #008000; text-decoration-color: #008000\">'context'</span>, <span style=\"color: #008000; text-decoration-color: #008000\">'session'</span>, <span style=\"color: #008000; text-decoration-color: #008000\">'catalog'</span> and            <a href=\"file:///home/bruno/Documents/Programming/Programming_projects/olist_project/.venv/lib/python3.11/site-packages/kedro/ipython/__init__.py\" target=\"_blank\"><span style=\"color: #7f7f7f; text-decoration-color: #7f7f7f\">__init__.py</span></a><span style=\"color: #7f7f7f; text-decoration-color: #7f7f7f\">:</span><a href=\"file:///home/bruno/Documents/Programming/Programming_projects/olist_project/.venv/lib/python3.11/site-packages/kedro/ipython/__init__.py#145\" target=\"_blank\"><span style=\"color: #7f7f7f; text-decoration-color: #7f7f7f\">145</span></a>\n",
       "<span style=\"color: #7fbfbf; text-decoration-color: #7fbfbf\">                    </span>         <span style=\"color: #008000; text-decoration-color: #008000\">'pipelines'</span>                                                            <span style=\"color: #7f7f7f; text-decoration-color: #7f7f7f\">               </span>\n",
       "</pre>\n"
      ],
      "text/plain": [
       "\u001b[2;36m                   \u001b[0m\u001b[2;36m \u001b[0m\u001b[34mINFO    \u001b[0m Defined global variable \u001b[32m'context'\u001b[0m, \u001b[32m'session'\u001b[0m, \u001b[32m'catalog'\u001b[0m and            \u001b]8;id=640508;file:///home/bruno/Documents/Programming/Programming_projects/olist_project/.venv/lib/python3.11/site-packages/kedro/ipython/__init__.py\u001b\\\u001b[2m__init__.py\u001b[0m\u001b]8;;\u001b\\\u001b[2m:\u001b[0m\u001b]8;id=692022;file:///home/bruno/Documents/Programming/Programming_projects/olist_project/.venv/lib/python3.11/site-packages/kedro/ipython/__init__.py#145\u001b\\\u001b[2m145\u001b[0m\u001b]8;;\u001b\\\n",
       "\u001b[2;36m                    \u001b[0m         \u001b[32m'pipelines'\u001b[0m                                                            \u001b[2m               \u001b[0m\n"
      ]
     },
     "metadata": {},
     "output_type": "display_data"
    },
    {
     "data": {
      "text/html": [
       "<pre style=\"white-space:pre;overflow-x:auto;line-height:normal;font-family:Menlo,'DejaVu Sans Mono',consolas,'Courier New',monospace\"><span style=\"color: #7fbfbf; text-decoration-color: #7fbfbf\">[12/26/24 06:57:13] </span><span style=\"color: #000080; text-decoration-color: #000080\">INFO    </span> Registered line magic <span style=\"color: #008000; text-decoration-color: #008000\">'run_viz'</span>                                        <a href=\"file:///home/bruno/Documents/Programming/Programming_projects/olist_project/.venv/lib/python3.11/site-packages/kedro/ipython/__init__.py\" target=\"_blank\"><span style=\"color: #7f7f7f; text-decoration-color: #7f7f7f\">__init__.py</span></a><span style=\"color: #7f7f7f; text-decoration-color: #7f7f7f\">:</span><a href=\"file:///home/bruno/Documents/Programming/Programming_projects/olist_project/.venv/lib/python3.11/site-packages/kedro/ipython/__init__.py#151\" target=\"_blank\"><span style=\"color: #7f7f7f; text-decoration-color: #7f7f7f\">151</span></a>\n",
       "</pre>\n"
      ],
      "text/plain": [
       "\u001b[2;36m[12/26/24 06:57:13]\u001b[0m\u001b[2;36m \u001b[0m\u001b[34mINFO    \u001b[0m Registered line magic \u001b[32m'run_viz'\u001b[0m                                        \u001b]8;id=281540;file:///home/bruno/Documents/Programming/Programming_projects/olist_project/.venv/lib/python3.11/site-packages/kedro/ipython/__init__.py\u001b\\\u001b[2m__init__.py\u001b[0m\u001b]8;;\u001b\\\u001b[2m:\u001b[0m\u001b]8;id=593670;file:///home/bruno/Documents/Programming/Programming_projects/olist_project/.venv/lib/python3.11/site-packages/kedro/ipython/__init__.py#151\u001b\\\u001b[2m151\u001b[0m\u001b]8;;\u001b\\\n"
      ]
     },
     "metadata": {},
     "output_type": "display_data"
    }
   ],
   "source": [
    "%load_ext kedro.ipython"
   ]
  },
  {
   "cell_type": "code",
   "execution_count": 2,
   "metadata": {},
   "outputs": [],
   "source": [
    "import pandas as pd\n",
    "import numpy as np\n",
    "import seaborn as sns"
   ]
  },
  {
   "cell_type": "markdown",
   "metadata": {},
   "source": [
    "# functions"
   ]
  },
  {
   "cell_type": "code",
   "execution_count": 97,
   "metadata": {},
   "outputs": [],
   "source": [
    "def cohort_to_date(cohort: pd.Series|int)-> pd.Series:\n",
    "    if isinstance(cohort, pd.Series):\n",
    "        return pd.to_datetime(cohort.astype('string'),format='%Y%m')\n",
    "    elif isinstance(cohort, int):\n",
    "        return pd.to_datetime(str(cohort),format='%Y%m')\n",
    "    else:\n",
    "        raise TypeError()\n",
    "\n",
    "def date_to_cohort(dt_cohort:pd.Series|pd.Timestamp)-> pd.Series:\n",
    "    \n",
    "    if isinstance(dt_cohort, pd.Series):\n",
    "        return dt_cohort.dt.strftime(\"%Y%m\").astype('Int64')\n",
    "    elif isinstance(dt_cohort, pd.Timestamp):\n",
    "        return int(dt_cohort.strftime(\"%Y%m\"))\n",
    "    else:\n",
    "        raise TypeError()\n",
    "\n",
    "def months_between_cohort(cohort_1,cohort_2):\n",
    "    dt_cohort_1 = cohort_to_date(cohort_1)\n",
    "    dt_cohort_2 = cohort_to_date(cohort_2.astype('string'))\n",
    "    return (dt_cohort_2.dt.to_period('M').astype(int) - dt_cohort_1.dt.to_period('M').astype(int))\n",
    "\n",
    "def list_cohort_between(x, start_cohort_col, end_cohort_col):\n",
    "    start_dt_cohort = cohort_to_date(x[start_cohort_col])\n",
    "    end_dt_cohort = cohort_to_date(x[end_cohort_col])\n",
    "    return [\n",
    "        date_to_cohort(dt_cohort)\n",
    "            for dt_cohort in list(pd.date_range(start=start_dt_cohort,end=end_dt_cohort,freq='MS'))\n",
    "    ]\n"
   ]
  },
  {
   "cell_type": "code",
   "execution_count": 61,
   "metadata": {},
   "outputs": [
    {
     "data": {
      "text/html": [
       "<pre style=\"white-space:pre;overflow-x:auto;line-height:normal;font-family:Menlo,'DejaVu Sans Mono',consolas,'Courier New',monospace\"></pre>\n"
      ],
      "text/plain": []
     },
     "metadata": {},
     "output_type": "display_data"
    },
    {
     "data": {
      "text/plain": [
       "\n",
       "\u001b[1m[\u001b[0m\n",
       "    \u001b[1;35mTimestamp\u001b[0m\u001b[1m(\u001b[0m\u001b[32m'2023-02-01 00:00:00'\u001b[0m\u001b[1m)\u001b[0m,\n",
       "    \u001b[1;35mTimestamp\u001b[0m\u001b[1m(\u001b[0m\u001b[32m'2023-03-01 00:00:00'\u001b[0m\u001b[1m)\u001b[0m,\n",
       "    \u001b[1;35mTimestamp\u001b[0m\u001b[1m(\u001b[0m\u001b[32m'2023-04-01 00:00:00'\u001b[0m\u001b[1m)\u001b[0m,\n",
       "    \u001b[1;35mTimestamp\u001b[0m\u001b[1m(\u001b[0m\u001b[32m'2023-05-01 00:00:00'\u001b[0m\u001b[1m)\u001b[0m,\n",
       "    \u001b[1;35mTimestamp\u001b[0m\u001b[1m(\u001b[0m\u001b[32m'2023-06-01 00:00:00'\u001b[0m\u001b[1m)\u001b[0m,\n",
       "    \u001b[1;35mTimestamp\u001b[0m\u001b[1m(\u001b[0m\u001b[32m'2023-07-01 00:00:00'\u001b[0m\u001b[1m)\u001b[0m\n",
       "\u001b[1m]\u001b[0m"
      ]
     },
     "execution_count": 61,
     "metadata": {},
     "output_type": "execute_result"
    }
   ],
   "source": [
    "list(pd.date_range(start='2023-02-01',end='2023-07-01',freq='MS'))"
   ]
  },
  {
   "cell_type": "markdown",
   "metadata": {},
   "source": [
    "# Load data"
   ]
  },
  {
   "cell_type": "code",
   "execution_count": 3,
   "metadata": {},
   "outputs": [
    {
     "data": {
      "text/html": [
       "<pre style=\"white-space:pre;overflow-x:auto;line-height:normal;font-family:Menlo,'DejaVu Sans Mono',consolas,'Courier New',monospace\"><span style=\"color: #7fbfbf; text-decoration-color: #7fbfbf\">[12/26/24 06:57:51] </span><span style=\"color: #000080; text-decoration-color: #000080\">INFO    </span> Loading data from <span style=\"color: #ff8700; text-decoration-color: #ff8700\">pre_orders</span> <span style=\"font-weight: bold\">(</span>ParquetDataset<span style=\"font-weight: bold\">)</span><span style=\"color: #808000; text-decoration-color: #808000\">...</span>                   <a href=\"file:///home/bruno/Documents/Programming/Programming_projects/olist_project/.venv/lib/python3.11/site-packages/kedro/io/data_catalog.py\" target=\"_blank\"><span style=\"color: #7f7f7f; text-decoration-color: #7f7f7f\">data_catalog.py</span></a><span style=\"color: #7f7f7f; text-decoration-color: #7f7f7f\">:</span><a href=\"file:///home/bruno/Documents/Programming/Programming_projects/olist_project/.venv/lib/python3.11/site-packages/kedro/io/data_catalog.py#389\" target=\"_blank\"><span style=\"color: #7f7f7f; text-decoration-color: #7f7f7f\">389</span></a>\n",
       "</pre>\n"
      ],
      "text/plain": [
       "\u001b[2;36m[12/26/24 06:57:51]\u001b[0m\u001b[2;36m \u001b[0m\u001b[34mINFO    \u001b[0m Loading data from \u001b[38;5;208mpre_orders\u001b[0m \u001b[1m(\u001b[0mParquetDataset\u001b[1m)\u001b[0m\u001b[33m...\u001b[0m                   \u001b]8;id=88532;file:///home/bruno/Documents/Programming/Programming_projects/olist_project/.venv/lib/python3.11/site-packages/kedro/io/data_catalog.py\u001b\\\u001b[2mdata_catalog.py\u001b[0m\u001b]8;;\u001b\\\u001b[2m:\u001b[0m\u001b]8;id=826565;file:///home/bruno/Documents/Programming/Programming_projects/olist_project/.venv/lib/python3.11/site-packages/kedro/io/data_catalog.py#389\u001b\\\u001b[2m389\u001b[0m\u001b]8;;\u001b\\\n"
      ]
     },
     "metadata": {},
     "output_type": "display_data"
    }
   ],
   "source": [
    "df_orders = catalog.load(\"pre_orders\")"
   ]
  },
  {
   "cell_type": "code",
   "execution_count": 4,
   "metadata": {},
   "outputs": [
    {
     "data": {
      "text/html": [
       "<pre style=\"white-space:pre;overflow-x:auto;line-height:normal;font-family:Menlo,'DejaVu Sans Mono',consolas,'Courier New',monospace\"></pre>\n"
      ],
      "text/plain": []
     },
     "metadata": {},
     "output_type": "display_data"
    },
    {
     "data": {
      "text/html": [
       "<div>\n",
       "<style scoped>\n",
       "    .dataframe tbody tr th:only-of-type {\n",
       "        vertical-align: middle;\n",
       "    }\n",
       "\n",
       "    .dataframe tbody tr th {\n",
       "        vertical-align: top;\n",
       "    }\n",
       "\n",
       "    .dataframe thead th {\n",
       "        text-align: right;\n",
       "    }\n",
       "</style>\n",
       "<table border=\"1\" class=\"dataframe\">\n",
       "  <thead>\n",
       "    <tr style=\"text-align: right;\">\n",
       "      <th></th>\n",
       "      <th>order_id</th>\n",
       "      <th>order_status</th>\n",
       "      <th>order_purchase_timestamp</th>\n",
       "      <th>order_approved_at</th>\n",
       "      <th>order_delivered_carrier_date</th>\n",
       "      <th>order_delivered_customer_date</th>\n",
       "      <th>order_estimated_delivery_date</th>\n",
       "      <th>seller_id</th>\n",
       "      <th>cohort_info</th>\n",
       "    </tr>\n",
       "  </thead>\n",
       "  <tbody>\n",
       "    <tr>\n",
       "      <th>0</th>\n",
       "      <td>e481f51cbdc54678b7cc49136f2d6af7</td>\n",
       "      <td>delivered</td>\n",
       "      <td>2017-10-02 10:56:33</td>\n",
       "      <td>2017-10-02 11:07:15</td>\n",
       "      <td>2017-10-04 19:55:00</td>\n",
       "      <td>2017-10-10 21:25:13</td>\n",
       "      <td>2017-10-18</td>\n",
       "      <td>3504c0cb71d7fa48d967e0e4c94d59d9</td>\n",
       "      <td>201710</td>\n",
       "    </tr>\n",
       "    <tr>\n",
       "      <th>1</th>\n",
       "      <td>53cdb2fc8bc7dce0b6741e2150273451</td>\n",
       "      <td>delivered</td>\n",
       "      <td>2018-07-24 20:41:37</td>\n",
       "      <td>2018-07-26 03:24:27</td>\n",
       "      <td>2018-07-26 14:31:00</td>\n",
       "      <td>2018-08-07 15:27:45</td>\n",
       "      <td>2018-08-13</td>\n",
       "      <td>289cdb325fb7e7f891c38608bf9e0962</td>\n",
       "      <td>201807</td>\n",
       "    </tr>\n",
       "    <tr>\n",
       "      <th>2</th>\n",
       "      <td>47770eb9100c2d0c44946d9cf07ec65d</td>\n",
       "      <td>delivered</td>\n",
       "      <td>2018-08-08 08:38:49</td>\n",
       "      <td>2018-08-08 08:55:23</td>\n",
       "      <td>2018-08-08 13:50:00</td>\n",
       "      <td>2018-08-17 18:06:29</td>\n",
       "      <td>2018-09-04</td>\n",
       "      <td>4869f7a5dfa277a7dca6462dcf3b52b2</td>\n",
       "      <td>201808</td>\n",
       "    </tr>\n",
       "    <tr>\n",
       "      <th>3</th>\n",
       "      <td>949d5b44dbf5de918fe9c16f97b45f8a</td>\n",
       "      <td>delivered</td>\n",
       "      <td>2017-11-18 19:28:06</td>\n",
       "      <td>2017-11-18 19:45:59</td>\n",
       "      <td>2017-11-22 13:39:59</td>\n",
       "      <td>2017-12-02 00:28:42</td>\n",
       "      <td>2017-12-15</td>\n",
       "      <td>66922902710d126a0e7d26b0e3805106</td>\n",
       "      <td>201711</td>\n",
       "    </tr>\n",
       "    <tr>\n",
       "      <th>4</th>\n",
       "      <td>ad21c59c0840e6cb83a9ceb5573f8159</td>\n",
       "      <td>delivered</td>\n",
       "      <td>2018-02-13 21:18:39</td>\n",
       "      <td>2018-02-13 22:20:29</td>\n",
       "      <td>2018-02-14 19:46:34</td>\n",
       "      <td>2018-02-16 18:17:02</td>\n",
       "      <td>2018-02-26</td>\n",
       "      <td>2c9e548be18521d1c43cde1c582c6de8</td>\n",
       "      <td>201802</td>\n",
       "    </tr>\n",
       "    <tr>\n",
       "      <th>...</th>\n",
       "      <td>...</td>\n",
       "      <td>...</td>\n",
       "      <td>...</td>\n",
       "      <td>...</td>\n",
       "      <td>...</td>\n",
       "      <td>...</td>\n",
       "      <td>...</td>\n",
       "      <td>...</td>\n",
       "      <td>...</td>\n",
       "    </tr>\n",
       "    <tr>\n",
       "      <th>100005</th>\n",
       "      <td>9c5dedf39a927c1b2549525ed64a053c</td>\n",
       "      <td>delivered</td>\n",
       "      <td>2017-03-09 09:54:05</td>\n",
       "      <td>2017-03-09 09:54:05</td>\n",
       "      <td>2017-03-10 11:18:03</td>\n",
       "      <td>2017-03-17 15:08:01</td>\n",
       "      <td>2017-03-28</td>\n",
       "      <td>e24fc9fcd865784fb25705606fe3dfe7</td>\n",
       "      <td>201703</td>\n",
       "    </tr>\n",
       "    <tr>\n",
       "      <th>100006</th>\n",
       "      <td>63943bddc261676b46f01ca7ac2f7bd8</td>\n",
       "      <td>delivered</td>\n",
       "      <td>2018-02-06 12:58:58</td>\n",
       "      <td>2018-02-06 13:10:37</td>\n",
       "      <td>2018-02-07 23:22:42</td>\n",
       "      <td>2018-02-28 17:37:56</td>\n",
       "      <td>2018-03-02</td>\n",
       "      <td>1f9ab4708f3056ede07124aad39a2554</td>\n",
       "      <td>201802</td>\n",
       "    </tr>\n",
       "    <tr>\n",
       "      <th>100007</th>\n",
       "      <td>83c1379a015df1e13d02aae0204711ab</td>\n",
       "      <td>delivered</td>\n",
       "      <td>2017-08-27 14:46:43</td>\n",
       "      <td>2017-08-27 15:04:16</td>\n",
       "      <td>2017-08-28 20:52:26</td>\n",
       "      <td>2017-09-21 11:24:17</td>\n",
       "      <td>2017-09-27</td>\n",
       "      <td>d50d79cb34e38265a8649c383dcffd48</td>\n",
       "      <td>201708</td>\n",
       "    </tr>\n",
       "    <tr>\n",
       "      <th>100008</th>\n",
       "      <td>11c177c8e97725db2631073c19f07b62</td>\n",
       "      <td>delivered</td>\n",
       "      <td>2018-01-08 21:28:27</td>\n",
       "      <td>2018-01-08 21:36:21</td>\n",
       "      <td>2018-01-12 15:35:03</td>\n",
       "      <td>2018-01-25 23:32:54</td>\n",
       "      <td>2018-02-15</td>\n",
       "      <td>a1043bafd471dff536d0c462352beb48</td>\n",
       "      <td>201801</td>\n",
       "    </tr>\n",
       "    <tr>\n",
       "      <th>100009</th>\n",
       "      <td>66dea50a8b16d9b4dee7af250b4be1a5</td>\n",
       "      <td>delivered</td>\n",
       "      <td>2018-03-08 20:57:30</td>\n",
       "      <td>2018-03-09 11:20:28</td>\n",
       "      <td>2018-03-09 22:11:59</td>\n",
       "      <td>2018-03-16 13:08:30</td>\n",
       "      <td>2018-04-03</td>\n",
       "      <td>ececbfcff9804a2d6b40f589df8eef2b</td>\n",
       "      <td>201803</td>\n",
       "    </tr>\n",
       "  </tbody>\n",
       "</table>\n",
       "<p>100010 rows × 9 columns</p>\n",
       "</div>"
      ],
      "text/plain": [
       "\n",
       "                                order_id order_status  \\\n",
       "\u001b[1;36m0\u001b[0m       e481f51cbdc54678b7cc49136f2d6af7    delivered   \n",
       "\u001b[1;36m1\u001b[0m       53cdb2fc8bc7dce0b6741e2150273451    delivered   \n",
       "\u001b[1;36m2\u001b[0m       47770eb9100c2d0c44946d9cf07ec65d    delivered   \n",
       "\u001b[1;36m3\u001b[0m       949d5b44dbf5de918fe9c16f97b45f8a    delivered   \n",
       "\u001b[1;36m4\u001b[0m       ad21c59c0840e6cb83a9ceb5573f8159    delivered   \n",
       "\u001b[33m...\u001b[0m                                  \u001b[33m...\u001b[0m          \u001b[33m...\u001b[0m   \n",
       "\u001b[1;36m100005\u001b[0m  9c5dedf39a927c1b2549525ed64a053c    delivered   \n",
       "\u001b[1;36m100006\u001b[0m  63943bddc261676b46f01ca7ac2f7bd8    delivered   \n",
       "\u001b[1;36m100007\u001b[0m  83c1379a015df1e13d02aae0204711ab    delivered   \n",
       "\u001b[1;36m100008\u001b[0m  11c177c8e97725db2631073c19f07b62    delivered   \n",
       "\u001b[1;36m100009\u001b[0m  66dea50a8b16d9b4dee7af250b4be1a5    delivered   \n",
       "\n",
       "       order_purchase_timestamp   order_approved_at  \\\n",
       "\u001b[1;36m0\u001b[0m           \u001b[1;36m2017\u001b[0m-\u001b[1;36m10\u001b[0m-\u001b[1;36m02\u001b[0m \u001b[1;92m10:56:33\u001b[0m \u001b[1;36m2017\u001b[0m-\u001b[1;36m10\u001b[0m-\u001b[1;36m02\u001b[0m \u001b[1;92m11:07:15\u001b[0m   \n",
       "\u001b[1;36m1\u001b[0m           \u001b[1;36m2018\u001b[0m-\u001b[1;36m07\u001b[0m-\u001b[1;36m24\u001b[0m \u001b[1;92m20:41:37\u001b[0m \u001b[1;36m2018\u001b[0m-\u001b[1;36m07\u001b[0m-\u001b[1;36m26\u001b[0m \u001b[1;92m03:24:27\u001b[0m   \n",
       "\u001b[1;36m2\u001b[0m           \u001b[1;36m2018\u001b[0m-\u001b[1;36m08\u001b[0m-\u001b[1;36m08\u001b[0m \u001b[1;92m08:38:49\u001b[0m \u001b[1;36m2018\u001b[0m-\u001b[1;36m08\u001b[0m-\u001b[1;36m08\u001b[0m \u001b[1;92m08:55:23\u001b[0m   \n",
       "\u001b[1;36m3\u001b[0m           \u001b[1;36m2017\u001b[0m-\u001b[1;36m11\u001b[0m-\u001b[1;36m18\u001b[0m \u001b[1;92m19:28:06\u001b[0m \u001b[1;36m2017\u001b[0m-\u001b[1;36m11\u001b[0m-\u001b[1;36m18\u001b[0m \u001b[1;92m19:45:59\u001b[0m   \n",
       "\u001b[1;36m4\u001b[0m           \u001b[1;36m2018\u001b[0m-\u001b[1;36m02\u001b[0m-\u001b[1;36m13\u001b[0m \u001b[1;92m21:18:39\u001b[0m \u001b[1;36m2018\u001b[0m-\u001b[1;36m02\u001b[0m-\u001b[1;36m13\u001b[0m \u001b[1;92m22:20:29\u001b[0m   \n",
       "\u001b[33m...\u001b[0m                         \u001b[33m...\u001b[0m                 \u001b[33m...\u001b[0m   \n",
       "\u001b[1;36m100005\u001b[0m      \u001b[1;36m2017\u001b[0m-\u001b[1;36m03\u001b[0m-\u001b[1;36m09\u001b[0m \u001b[1;92m09:54:05\u001b[0m \u001b[1;36m2017\u001b[0m-\u001b[1;36m03\u001b[0m-\u001b[1;36m09\u001b[0m \u001b[1;92m09:54:05\u001b[0m   \n",
       "\u001b[1;36m100006\u001b[0m      \u001b[1;36m2018\u001b[0m-\u001b[1;36m02\u001b[0m-\u001b[1;36m06\u001b[0m \u001b[1;92m12:58:58\u001b[0m \u001b[1;36m2018\u001b[0m-\u001b[1;36m02\u001b[0m-\u001b[1;36m06\u001b[0m \u001b[1;92m13:10:37\u001b[0m   \n",
       "\u001b[1;36m100007\u001b[0m      \u001b[1;36m2017\u001b[0m-\u001b[1;36m08\u001b[0m-\u001b[1;36m27\u001b[0m \u001b[1;92m14:46:43\u001b[0m \u001b[1;36m2017\u001b[0m-\u001b[1;36m08\u001b[0m-\u001b[1;36m27\u001b[0m \u001b[1;92m15:04:16\u001b[0m   \n",
       "\u001b[1;36m100008\u001b[0m      \u001b[1;36m2018\u001b[0m-\u001b[1;36m01\u001b[0m-\u001b[1;36m08\u001b[0m \u001b[1;92m21:28:27\u001b[0m \u001b[1;36m2018\u001b[0m-\u001b[1;36m01\u001b[0m-\u001b[1;36m08\u001b[0m \u001b[1;92m21:36:21\u001b[0m   \n",
       "\u001b[1;36m100009\u001b[0m      \u001b[1;36m2018\u001b[0m-\u001b[1;36m03\u001b[0m-\u001b[1;36m08\u001b[0m \u001b[1;92m20:57:30\u001b[0m \u001b[1;36m2018\u001b[0m-\u001b[1;36m03\u001b[0m-\u001b[1;36m09\u001b[0m \u001b[1;92m11:20:28\u001b[0m   \n",
       "\n",
       "       order_delivered_carrier_date order_delivered_customer_date  \\\n",
       "\u001b[1;36m0\u001b[0m               \u001b[1;36m2017\u001b[0m-\u001b[1;36m10\u001b[0m-\u001b[1;36m04\u001b[0m \u001b[1;92m19:55:00\u001b[0m           \u001b[1;36m2017\u001b[0m-\u001b[1;36m10\u001b[0m-\u001b[1;36m10\u001b[0m \u001b[1;92m21:25:13\u001b[0m   \n",
       "\u001b[1;36m1\u001b[0m               \u001b[1;36m2018\u001b[0m-\u001b[1;36m07\u001b[0m-\u001b[1;36m26\u001b[0m \u001b[1;92m14:31:00\u001b[0m           \u001b[1;36m2018\u001b[0m-\u001b[1;36m08\u001b[0m-\u001b[1;36m07\u001b[0m \u001b[1;92m15:27:45\u001b[0m   \n",
       "\u001b[1;36m2\u001b[0m               \u001b[1;36m2018\u001b[0m-\u001b[1;36m08\u001b[0m-\u001b[1;36m08\u001b[0m \u001b[1;92m13:50:00\u001b[0m           \u001b[1;36m2018\u001b[0m-\u001b[1;36m08\u001b[0m-\u001b[1;36m17\u001b[0m \u001b[1;92m18:06:29\u001b[0m   \n",
       "\u001b[1;36m3\u001b[0m               \u001b[1;36m2017\u001b[0m-\u001b[1;36m11\u001b[0m-\u001b[1;36m22\u001b[0m \u001b[1;92m13:39:59\u001b[0m           \u001b[1;36m2017\u001b[0m-\u001b[1;36m12\u001b[0m-\u001b[1;36m02\u001b[0m \u001b[1;92m00:28:42\u001b[0m   \n",
       "\u001b[1;36m4\u001b[0m               \u001b[1;36m2018\u001b[0m-\u001b[1;36m02\u001b[0m-\u001b[1;36m14\u001b[0m \u001b[1;92m19:46:34\u001b[0m           \u001b[1;36m2018\u001b[0m-\u001b[1;36m02\u001b[0m-\u001b[1;36m16\u001b[0m \u001b[1;92m18:17:02\u001b[0m   \n",
       "\u001b[33m...\u001b[0m                             \u001b[33m...\u001b[0m                           \u001b[33m...\u001b[0m   \n",
       "\u001b[1;36m100005\u001b[0m          \u001b[1;36m2017\u001b[0m-\u001b[1;36m03\u001b[0m-\u001b[1;36m10\u001b[0m \u001b[1;92m11:18:03\u001b[0m           \u001b[1;36m2017\u001b[0m-\u001b[1;36m03\u001b[0m-\u001b[1;36m17\u001b[0m \u001b[1;92m15:08:01\u001b[0m   \n",
       "\u001b[1;36m100006\u001b[0m          \u001b[1;36m2018\u001b[0m-\u001b[1;36m02\u001b[0m-\u001b[1;36m07\u001b[0m \u001b[1;92m23:22:42\u001b[0m           \u001b[1;36m2018\u001b[0m-\u001b[1;36m02\u001b[0m-\u001b[1;36m28\u001b[0m \u001b[1;92m17:37:56\u001b[0m   \n",
       "\u001b[1;36m100007\u001b[0m          \u001b[1;36m2017\u001b[0m-\u001b[1;36m08\u001b[0m-\u001b[1;36m28\u001b[0m \u001b[1;92m20:52:26\u001b[0m           \u001b[1;36m2017\u001b[0m-\u001b[1;36m09\u001b[0m-\u001b[1;36m21\u001b[0m \u001b[1;92m11:24:17\u001b[0m   \n",
       "\u001b[1;36m100008\u001b[0m          \u001b[1;36m2018\u001b[0m-\u001b[1;36m01\u001b[0m-\u001b[1;36m12\u001b[0m \u001b[1;92m15:35:03\u001b[0m           \u001b[1;36m2018\u001b[0m-\u001b[1;36m01\u001b[0m-\u001b[1;36m25\u001b[0m \u001b[1;92m23:32:54\u001b[0m   \n",
       "\u001b[1;36m100009\u001b[0m          \u001b[1;36m2018\u001b[0m-\u001b[1;36m03\u001b[0m-\u001b[1;36m09\u001b[0m \u001b[1;92m22:11:59\u001b[0m           \u001b[1;36m2018\u001b[0m-\u001b[1;36m03\u001b[0m-\u001b[1;36m16\u001b[0m \u001b[1;92m13:08:30\u001b[0m   \n",
       "\n",
       "       order_estimated_delivery_date                         seller_id  \\\n",
       "\u001b[1;36m0\u001b[0m                         \u001b[1;36m2017\u001b[0m-\u001b[1;36m10\u001b[0m-\u001b[1;36m18\u001b[0m  3504c0cb71d7fa48d967e0e4c94d59d9   \n",
       "\u001b[1;36m1\u001b[0m                         \u001b[1;36m2018\u001b[0m-\u001b[1;36m08\u001b[0m-\u001b[1;36m13\u001b[0m  289cdb325fb7e7f891c38608bf9e0962   \n",
       "\u001b[1;36m2\u001b[0m                         \u001b[1;36m2018\u001b[0m-\u001b[1;36m09\u001b[0m-\u001b[1;36m04\u001b[0m  4869f7a5dfa277a7dca6462dcf3b52b2   \n",
       "\u001b[1;36m3\u001b[0m                         \u001b[1;36m2017\u001b[0m-\u001b[1;36m12\u001b[0m-\u001b[1;36m15\u001b[0m  66922902710d126a0e7d26b0e3805106   \n",
       "\u001b[1;36m4\u001b[0m                         \u001b[1;36m2018\u001b[0m-\u001b[1;36m02\u001b[0m-\u001b[1;36m26\u001b[0m  2c9e548be18521d1c43cde1c582c6de8   \n",
       "\u001b[33m...\u001b[0m                              \u001b[33m...\u001b[0m                               \u001b[33m...\u001b[0m   \n",
       "\u001b[1;36m100005\u001b[0m                    \u001b[1;36m2017\u001b[0m-\u001b[1;36m03\u001b[0m-\u001b[1;36m28\u001b[0m  e24fc9fcd865784fb25705606fe3dfe7   \n",
       "\u001b[1;36m100006\u001b[0m                    \u001b[1;36m2018\u001b[0m-\u001b[1;36m03\u001b[0m-\u001b[1;36m02\u001b[0m  1f9ab4708f3056ede07124aad39a2554   \n",
       "\u001b[1;36m100007\u001b[0m                    \u001b[1;36m2017\u001b[0m-\u001b[1;36m09\u001b[0m-\u001b[1;36m27\u001b[0m  d50d79cb34e38265a8649c383dcffd48   \n",
       "\u001b[1;36m100008\u001b[0m                    \u001b[1;36m2018\u001b[0m-\u001b[1;36m02\u001b[0m-\u001b[1;36m15\u001b[0m  a1043bafd471dff536d0c462352beb48   \n",
       "\u001b[1;36m100009\u001b[0m                    \u001b[1;36m2018\u001b[0m-\u001b[1;36m04\u001b[0m-\u001b[1;36m03\u001b[0m  ececbfcff9804a2d6b40f589df8eef2b   \n",
       "\n",
       "        cohort_info  \n",
       "\u001b[1;36m0\u001b[0m            \u001b[1;36m201710\u001b[0m  \n",
       "\u001b[1;36m1\u001b[0m            \u001b[1;36m201807\u001b[0m  \n",
       "\u001b[1;36m2\u001b[0m            \u001b[1;36m201808\u001b[0m  \n",
       "\u001b[1;36m3\u001b[0m            \u001b[1;36m201711\u001b[0m  \n",
       "\u001b[1;36m4\u001b[0m            \u001b[1;36m201802\u001b[0m  \n",
       "\u001b[33m...\u001b[0m             \u001b[33m...\u001b[0m  \n",
       "\u001b[1;36m100005\u001b[0m       \u001b[1;36m201703\u001b[0m  \n",
       "\u001b[1;36m100006\u001b[0m       \u001b[1;36m201802\u001b[0m  \n",
       "\u001b[1;36m100007\u001b[0m       \u001b[1;36m201708\u001b[0m  \n",
       "\u001b[1;36m100008\u001b[0m       \u001b[1;36m201801\u001b[0m  \n",
       "\u001b[1;36m100009\u001b[0m       \u001b[1;36m201803\u001b[0m  \n",
       "\n",
       "\u001b[1m[\u001b[0m\u001b[1;36m100010\u001b[0m rows x \u001b[1;36m9\u001b[0m columns\u001b[1m]\u001b[0m"
      ]
     },
     "execution_count": 4,
     "metadata": {},
     "output_type": "execute_result"
    }
   ],
   "source": [
    "df_orders"
   ]
  },
  {
   "cell_type": "code",
   "execution_count": 5,
   "metadata": {},
   "outputs": [
    {
     "data": {
      "text/html": [
       "<pre style=\"white-space:pre;overflow-x:auto;line-height:normal;font-family:Menlo,'DejaVu Sans Mono',consolas,'Courier New',monospace\"></pre>\n"
      ],
      "text/plain": []
     },
     "metadata": {},
     "output_type": "display_data"
    },
    {
     "data": {
      "text/html": [
       "<div>\n",
       "<style scoped>\n",
       "    .dataframe tbody tr th:only-of-type {\n",
       "        vertical-align: middle;\n",
       "    }\n",
       "\n",
       "    .dataframe tbody tr th {\n",
       "        vertical-align: top;\n",
       "    }\n",
       "\n",
       "    .dataframe thead th {\n",
       "        text-align: right;\n",
       "    }\n",
       "</style>\n",
       "<table border=\"1\" class=\"dataframe\">\n",
       "  <thead>\n",
       "    <tr style=\"text-align: right;\">\n",
       "      <th></th>\n",
       "      <th>seller_id</th>\n",
       "      <th>order_purchase_timestamp</th>\n",
       "      <th>cohort_info</th>\n",
       "      <th>first_cohort_seller</th>\n",
       "      <th>months_bt</th>\n",
       "      <th>post_order_purchase_timestamp</th>\n",
       "      <th>inactivity_time</th>\n",
       "    </tr>\n",
       "  </thead>\n",
       "  <tbody>\n",
       "    <tr>\n",
       "      <th>30891</th>\n",
       "      <td>ecccfa2bb93b34a3bf033cc5d1dcdc69</td>\n",
       "      <td>2016-09-15 12:16:38</td>\n",
       "      <td>201609</td>\n",
       "      <td>201609</td>\n",
       "      <td>0</td>\n",
       "      <td>2016-10-04 13:30:13</td>\n",
       "      <td>19</td>\n",
       "    </tr>\n",
       "    <tr>\n",
       "      <th>93822</th>\n",
       "      <td>522620dcb18a6b31cd7bdf73665113a9</td>\n",
       "      <td>2016-10-03 09:44:50</td>\n",
       "      <td>201610</td>\n",
       "      <td>201610</td>\n",
       "      <td>0</td>\n",
       "      <td>2016-10-05 20:09:05</td>\n",
       "      <td>2</td>\n",
       "    </tr>\n",
       "    <tr>\n",
       "      <th>28587</th>\n",
       "      <td>f09b760d23495ac9a7e00d29b769007c</td>\n",
       "      <td>2016-10-03 16:56:50</td>\n",
       "      <td>201610</td>\n",
       "      <td>201610</td>\n",
       "      <td>0</td>\n",
       "      <td>2018-08-29 15:00:37</td>\n",
       "      <td>694</td>\n",
       "    </tr>\n",
       "    <tr>\n",
       "      <th>98542</th>\n",
       "      <td>45d33f715e24d15a6ccf5c17b3a23e3c</td>\n",
       "      <td>2016-10-03 21:13:36</td>\n",
       "      <td>201610</td>\n",
       "      <td>201610</td>\n",
       "      <td>0</td>\n",
       "      <td>2017-01-25 16:57:30</td>\n",
       "      <td>113</td>\n",
       "    </tr>\n",
       "    <tr>\n",
       "      <th>88962</th>\n",
       "      <td>cca3071e3e9bb7d12640c9fbe2301306</td>\n",
       "      <td>2016-10-03 22:06:03</td>\n",
       "      <td>201610</td>\n",
       "      <td>201610</td>\n",
       "      <td>0</td>\n",
       "      <td>2016-10-03 22:51:30</td>\n",
       "      <td>0</td>\n",
       "    </tr>\n",
       "    <tr>\n",
       "      <th>...</th>\n",
       "      <td>...</td>\n",
       "      <td>...</td>\n",
       "      <td>...</td>\n",
       "      <td>...</td>\n",
       "      <td>...</td>\n",
       "      <td>...</td>\n",
       "      <td>...</td>\n",
       "    </tr>\n",
       "    <tr>\n",
       "      <th>99939</th>\n",
       "      <td>5f2684dab12e59f83bef73ae57724e45</td>\n",
       "      <td>2018-08-29 12:25:59</td>\n",
       "      <td>201808</td>\n",
       "      <td>201701</td>\n",
       "      <td>19</td>\n",
       "      <td>2018-08-29 15:00:37</td>\n",
       "      <td>0</td>\n",
       "    </tr>\n",
       "    <tr>\n",
       "      <th>30253</th>\n",
       "      <td>67bf6941ba2f1fa1d02c375766bc3e53</td>\n",
       "      <td>2018-08-29 14:18:23</td>\n",
       "      <td>201808</td>\n",
       "      <td>201709</td>\n",
       "      <td>11</td>\n",
       "      <td>2018-08-29 15:00:37</td>\n",
       "      <td>0</td>\n",
       "    </tr>\n",
       "    <tr>\n",
       "      <th>31673</th>\n",
       "      <td>2a84855fd20af891be03bc5924d2b453</td>\n",
       "      <td>2018-08-29 14:18:28</td>\n",
       "      <td>201808</td>\n",
       "      <td>201712</td>\n",
       "      <td>8</td>\n",
       "      <td>2018-08-29 15:00:37</td>\n",
       "      <td>0</td>\n",
       "    </tr>\n",
       "    <tr>\n",
       "      <th>70081</th>\n",
       "      <td>7d7866a99a8656a42c7ff6352a433410</td>\n",
       "      <td>2018-08-29 14:52:00</td>\n",
       "      <td>201808</td>\n",
       "      <td>201807</td>\n",
       "      <td>1</td>\n",
       "      <td>2018-08-29 15:00:37</td>\n",
       "      <td>0</td>\n",
       "    </tr>\n",
       "    <tr>\n",
       "      <th>88585</th>\n",
       "      <td>9f505651f4a6abe901a56cdc21508025</td>\n",
       "      <td>2018-08-29 15:00:37</td>\n",
       "      <td>201808</td>\n",
       "      <td>201710</td>\n",
       "      <td>10</td>\n",
       "      <td>2018-08-29 15:00:37</td>\n",
       "      <td>0</td>\n",
       "    </tr>\n",
       "  </tbody>\n",
       "</table>\n",
       "<p>97819 rows × 7 columns</p>\n",
       "</div>"
      ],
      "text/plain": [
       "\n",
       "                              seller_id order_purchase_timestamp  cohort_info  \\\n",
       "\u001b[1;36m30891\u001b[0m  ecccfa2bb93b34a3bf033cc5d1dcdc69      \u001b[1;36m2016\u001b[0m-\u001b[1;36m09\u001b[0m-\u001b[1;36m15\u001b[0m \u001b[1;92m12:16:38\u001b[0m       \u001b[1;36m201609\u001b[0m   \n",
       "\u001b[1;36m93822\u001b[0m  522620dcb18a6b31cd7bdf73665113a9      \u001b[1;36m2016\u001b[0m-\u001b[1;36m10\u001b[0m-\u001b[1;36m03\u001b[0m \u001b[1;92m09:44:50\u001b[0m       \u001b[1;36m201610\u001b[0m   \n",
       "\u001b[1;36m28587\u001b[0m  f09b760d23495ac9a7e00d29b769007c      \u001b[1;36m2016\u001b[0m-\u001b[1;36m10\u001b[0m-\u001b[1;36m03\u001b[0m \u001b[1;92m16:56:50\u001b[0m       \u001b[1;36m201610\u001b[0m   \n",
       "\u001b[1;36m98542\u001b[0m  45d33f715e24d15a6ccf5c17b3a23e3c      \u001b[1;36m2016\u001b[0m-\u001b[1;36m10\u001b[0m-\u001b[1;36m03\u001b[0m \u001b[1;92m21:13:36\u001b[0m       \u001b[1;36m201610\u001b[0m   \n",
       "\u001b[1;36m88962\u001b[0m  cca3071e3e9bb7d12640c9fbe2301306      \u001b[1;36m2016\u001b[0m-\u001b[1;36m10\u001b[0m-\u001b[1;36m03\u001b[0m \u001b[1;92m22:06:03\u001b[0m       \u001b[1;36m201610\u001b[0m   \n",
       "\u001b[33m...\u001b[0m                                 \u001b[33m...\u001b[0m                      \u001b[33m...\u001b[0m          \u001b[33m...\u001b[0m   \n",
       "\u001b[1;36m99939\u001b[0m  5f2684dab12e59f83bef73ae57724e45      \u001b[1;36m2018\u001b[0m-\u001b[1;36m08\u001b[0m-\u001b[1;36m29\u001b[0m \u001b[1;92m12:25:59\u001b[0m       \u001b[1;36m201808\u001b[0m   \n",
       "\u001b[1;36m30253\u001b[0m  67bf6941ba2f1fa1d02c375766bc3e53      \u001b[1;36m2018\u001b[0m-\u001b[1;36m08\u001b[0m-\u001b[1;36m29\u001b[0m \u001b[1;92m14:18:23\u001b[0m       \u001b[1;36m201808\u001b[0m   \n",
       "\u001b[1;36m31673\u001b[0m  2a84855fd20af891be03bc5924d2b453      \u001b[1;36m2018\u001b[0m-\u001b[1;36m08\u001b[0m-\u001b[1;36m29\u001b[0m \u001b[1;92m14:18:28\u001b[0m       \u001b[1;36m201808\u001b[0m   \n",
       "\u001b[1;36m70081\u001b[0m  7d7866a99a8656a42c7ff6352a433410      \u001b[1;36m2018\u001b[0m-\u001b[1;36m08\u001b[0m-\u001b[1;36m29\u001b[0m \u001b[1;92m14:52:00\u001b[0m       \u001b[1;36m201808\u001b[0m   \n",
       "\u001b[1;36m88585\u001b[0m  9f505651f4a6abe901a56cdc21508025      \u001b[1;36m2018\u001b[0m-\u001b[1;36m08\u001b[0m-\u001b[1;36m29\u001b[0m \u001b[1;92m15:00:37\u001b[0m       \u001b[1;36m201808\u001b[0m   \n",
       "\n",
       "       first_cohort_seller  months_bt post_order_purchase_timestamp  \\\n",
       "\u001b[1;36m30891\u001b[0m               \u001b[1;36m201609\u001b[0m          \u001b[1;36m0\u001b[0m           \u001b[1;36m2016\u001b[0m-\u001b[1;36m10\u001b[0m-\u001b[1;36m04\u001b[0m \u001b[1;92m13:30:13\u001b[0m   \n",
       "\u001b[1;36m93822\u001b[0m               \u001b[1;36m201610\u001b[0m          \u001b[1;36m0\u001b[0m           \u001b[1;36m2016\u001b[0m-\u001b[1;36m10\u001b[0m-\u001b[1;36m05\u001b[0m \u001b[1;92m20:09:05\u001b[0m   \n",
       "\u001b[1;36m28587\u001b[0m               \u001b[1;36m201610\u001b[0m          \u001b[1;36m0\u001b[0m           \u001b[1;36m2018\u001b[0m-\u001b[1;36m08\u001b[0m-\u001b[1;36m29\u001b[0m \u001b[1;92m15:00:37\u001b[0m   \n",
       "\u001b[1;36m98542\u001b[0m               \u001b[1;36m201610\u001b[0m          \u001b[1;36m0\u001b[0m           \u001b[1;36m2017\u001b[0m-\u001b[1;36m01\u001b[0m-\u001b[1;36m25\u001b[0m \u001b[1;92m16:57:30\u001b[0m   \n",
       "\u001b[1;36m88962\u001b[0m               \u001b[1;36m201610\u001b[0m          \u001b[1;36m0\u001b[0m           \u001b[1;36m2016\u001b[0m-\u001b[1;36m10\u001b[0m-\u001b[1;36m03\u001b[0m \u001b[1;92m22:51:30\u001b[0m   \n",
       "\u001b[33m...\u001b[0m                    \u001b[33m...\u001b[0m        \u001b[33m...\u001b[0m                           \u001b[33m...\u001b[0m   \n",
       "\u001b[1;36m99939\u001b[0m               \u001b[1;36m201701\u001b[0m         \u001b[1;36m19\u001b[0m           \u001b[1;36m2018\u001b[0m-\u001b[1;36m08\u001b[0m-\u001b[1;36m29\u001b[0m \u001b[1;92m15:00:37\u001b[0m   \n",
       "\u001b[1;36m30253\u001b[0m               \u001b[1;36m201709\u001b[0m         \u001b[1;36m11\u001b[0m           \u001b[1;36m2018\u001b[0m-\u001b[1;36m08\u001b[0m-\u001b[1;36m29\u001b[0m \u001b[1;92m15:00:37\u001b[0m   \n",
       "\u001b[1;36m31673\u001b[0m               \u001b[1;36m201712\u001b[0m          \u001b[1;36m8\u001b[0m           \u001b[1;36m2018\u001b[0m-\u001b[1;36m08\u001b[0m-\u001b[1;36m29\u001b[0m \u001b[1;92m15:00:37\u001b[0m   \n",
       "\u001b[1;36m70081\u001b[0m               \u001b[1;36m201807\u001b[0m          \u001b[1;36m1\u001b[0m           \u001b[1;36m2018\u001b[0m-\u001b[1;36m08\u001b[0m-\u001b[1;36m29\u001b[0m \u001b[1;92m15:00:37\u001b[0m   \n",
       "\u001b[1;36m88585\u001b[0m               \u001b[1;36m201710\u001b[0m         \u001b[1;36m10\u001b[0m           \u001b[1;36m2018\u001b[0m-\u001b[1;36m08\u001b[0m-\u001b[1;36m29\u001b[0m \u001b[1;92m15:00:37\u001b[0m   \n",
       "\n",
       "       inactivity_time  \n",
       "\u001b[1;36m30891\u001b[0m               \u001b[1;36m19\u001b[0m  \n",
       "\u001b[1;36m93822\u001b[0m                \u001b[1;36m2\u001b[0m  \n",
       "\u001b[1;36m28587\u001b[0m              \u001b[1;36m694\u001b[0m  \n",
       "\u001b[1;36m98542\u001b[0m              \u001b[1;36m113\u001b[0m  \n",
       "\u001b[1;36m88962\u001b[0m                \u001b[1;36m0\u001b[0m  \n",
       "\u001b[33m...\u001b[0m                \u001b[33m...\u001b[0m  \n",
       "\u001b[1;36m99939\u001b[0m                \u001b[1;36m0\u001b[0m  \n",
       "\u001b[1;36m30253\u001b[0m                \u001b[1;36m0\u001b[0m  \n",
       "\u001b[1;36m31673\u001b[0m                \u001b[1;36m0\u001b[0m  \n",
       "\u001b[1;36m70081\u001b[0m                \u001b[1;36m0\u001b[0m  \n",
       "\u001b[1;36m88585\u001b[0m                \u001b[1;36m0\u001b[0m  \n",
       "\n",
       "\u001b[1m[\u001b[0m\u001b[1;36m97819\u001b[0m rows x \u001b[1;36m7\u001b[0m columns\u001b[1m]\u001b[0m"
      ]
     },
     "execution_count": 5,
     "metadata": {},
     "output_type": "execute_result"
    }
   ],
   "source": [
    "\n",
    "df_time_between_activities = (\n",
    "    df_orders\n",
    "    .query('order_status==\"delivered\"')\n",
    "    .filter(['seller_id','order_purchase_timestamp','cohort_info'])\n",
    "    .sort_values(['order_purchase_timestamp'])\n",
    "    .assign(\n",
    "        first_cohort_seller=lambda df: df.groupby('seller_id').cohort_info.transform('min'),\n",
    "        months_bt = lambda df: months_between_cohort(df.first_cohort_seller,df.cohort_info),\n",
    "        post_order_purchase_timestamp = lambda df: df.groupby('seller_id')['order_purchase_timestamp'].shift(-1).fillna(df.order_purchase_timestamp.max()),\n",
    "        inactivity_time = lambda df: (df.post_order_purchase_timestamp-df.order_purchase_timestamp).dt.days,\n",
    "    )\n",
    ")\n",
    "df_time_between_activities"
   ]
  },
  {
   "cell_type": "code",
   "execution_count": 125,
   "metadata": {},
   "outputs": [
    {
     "data": {
      "text/html": [
       "<pre style=\"white-space:pre;overflow-x:auto;line-height:normal;font-family:Menlo,'DejaVu Sans Mono',consolas,'Courier New',monospace\"></pre>\n"
      ],
      "text/plain": []
     },
     "metadata": {},
     "output_type": "display_data"
    },
    {
     "data": {
      "text/plain": [
       "\n",
       "first_cohort_seller\n",
       "\u001b[1;36m201609\u001b[0m       \u001b[1;36m12\u001b[0m\n",
       "\u001b[1;36m201610\u001b[0m    \u001b[1;36m10684\u001b[0m\n",
       "\u001b[1;36m201612\u001b[0m       \u001b[1;36m33\u001b[0m\n",
       "\u001b[1;36m201701\u001b[0m    \u001b[1;36m14874\u001b[0m\n",
       "\u001b[1;36m201702\u001b[0m    \u001b[1;36m13218\u001b[0m\n",
       "\u001b[1;36m201703\u001b[0m     \u001b[1;36m8568\u001b[0m\n",
       "\u001b[1;36m201704\u001b[0m     \u001b[1;36m4959\u001b[0m\n",
       "\u001b[1;36m201705\u001b[0m     \u001b[1;36m5086\u001b[0m\n",
       "\u001b[1;36m201706\u001b[0m     \u001b[1;36m1220\u001b[0m\n",
       "\u001b[1;36m201707\u001b[0m     \u001b[1;36m7235\u001b[0m\n",
       "\u001b[1;36m201708\u001b[0m     \u001b[1;36m3949\u001b[0m\n",
       "\u001b[1;36m201709\u001b[0m     \u001b[1;36m3098\u001b[0m\n",
       "\u001b[1;36m201710\u001b[0m     \u001b[1;36m5696\u001b[0m\n",
       "\u001b[1;36m201711\u001b[0m     \u001b[1;36m3988\u001b[0m\n",
       "\u001b[1;36m201712\u001b[0m     \u001b[1;36m1909\u001b[0m\n",
       "\u001b[1;36m201801\u001b[0m     \u001b[1;36m3295\u001b[0m\n",
       "\u001b[1;36m201802\u001b[0m     \u001b[1;36m2164\u001b[0m\n",
       "\u001b[1;36m201803\u001b[0m     \u001b[1;36m1303\u001b[0m\n",
       "\u001b[1;36m201804\u001b[0m     \u001b[1;36m2372\u001b[0m\n",
       "\u001b[1;36m201805\u001b[0m     \u001b[1;36m1723\u001b[0m\n",
       "\u001b[1;36m201806\u001b[0m     \u001b[1;36m1173\u001b[0m\n",
       "\u001b[1;36m201807\u001b[0m      \u001b[1;36m809\u001b[0m\n",
       "\u001b[1;36m201808\u001b[0m      \u001b[1;36m451\u001b[0m\n",
       "Name: count, dtype: Int64"
      ]
     },
     "execution_count": 125,
     "metadata": {},
     "output_type": "execute_result"
    }
   ],
   "source": [
    "# é notvável que apenas em 201701 começa a ter um entrada mais estável de\n",
    "df_time_between_activities.first_cohort_seller.value_counts().sort_index()"
   ]
  },
  {
   "cell_type": "code",
   "execution_count": 75,
   "metadata": {},
   "outputs": [
    {
     "data": {
      "text/html": [
       "<pre style=\"white-space:pre;overflow-x:auto;line-height:normal;font-family:Menlo,'DejaVu Sans Mono',consolas,'Courier New',monospace\"></pre>\n"
      ],
      "text/plain": []
     },
     "metadata": {},
     "output_type": "display_data"
    },
    {
     "data": {
      "text/plain": [
       "\u001b[1m<\u001b[0m\u001b[1;95mAxes:\u001b[0m\u001b[39m \u001b[0m\u001b[33mxlabel\u001b[0m\u001b[39m=\u001b[0m\u001b[32m'months_bt'\u001b[0m\u001b[39m, \u001b[0m\u001b[33mylabel\u001b[0m\u001b[39m=\u001b[0m\u001b[32m'cum_volume'\u001b[0m\u001b[1m>\u001b[0m"
      ]
     },
     "execution_count": 75,
     "metadata": {},
     "output_type": "execute_result"
    },
    {
     "data": {
      "text/html": [
       "<pre style=\"white-space:pre;overflow-x:auto;line-height:normal;font-family:Menlo,'DejaVu Sans Mono',consolas,'Courier New',monospace\"></pre>\n"
      ],
      "text/plain": []
     },
     "metadata": {},
     "output_type": "display_data"
    },
    {
     "data": {
      "image/png": "[encoded data removed]",
      "text/plain": [
       "\u001b[1m<\u001b[0m\u001b[1;95mFigure\u001b[0m\u001b[39m size 64\u001b[0m\u001b[1;36m0x480\u001b[0m\u001b[39m with \u001b[0m\u001b[1;36m1\u001b[0m\u001b[39m Axes\u001b[0m\u001b[1m>\u001b[0m"
      ]
     },
     "metadata": {},
     "output_type": "display_data"
    }
   ],
   "source": [
    "df_aux = (\n",
    "    df_time_between_activities\n",
    "    .query('(first_cohort_seller>=201701)&(first_cohort_seller<=201806)')\n",
    "    .sort_values(['first_cohort_seller','months_bt'])\n",
    "    .groupby(['first_cohort_seller','months_bt'], as_index=False)\n",
    "    .agg(\n",
    "        volume = ('first_cohort_seller','count'),\n",
    "    )\n",
    "    .assign(\n",
    "        cum_volume = lambda df: df.groupby('first_cohort_seller').volume.transform('cumsum')/df.groupby('first_cohort_seller').volume.transform('sum')\n",
    "    )\n",
    "    .astype({\"first_cohort_seller\":\"string\",\"months_bt\":\"int\",\"volume\":\"int\",\"cum_volume\":\"float\"})\n",
    ")\n",
    "sns.lineplot(data=df_aux, x=\"months_bt\", y='cum_volume', hue=\"first_cohort_seller\",)"
   ]
  },
  {
   "cell_type": "code",
   "execution_count": 159,
   "metadata": {},
   "outputs": [
    {
     "data": {
      "text/html": [
       "<pre style=\"white-space:pre;overflow-x:auto;line-height:normal;font-family:Menlo,'DejaVu Sans Mono',consolas,'Courier New',monospace\"></pre>\n"
      ],
      "text/plain": []
     },
     "metadata": {},
     "output_type": "display_data"
    },
    {
     "data": {
      "text/plain": [
       "\u001b[1m<\u001b[0m\u001b[1;95mAxes:\u001b[0m\u001b[39m \u001b[0m\u001b[33mxlabel\u001b[0m\u001b[39m=\u001b[0m\u001b[32m'limit'\u001b[0m\u001b[1m>\u001b[0m"
      ]
     },
     "execution_count": 159,
     "metadata": {},
     "output_type": "execute_result"
    },
    {
     "data": {
      "text/html": [
       "<pre style=\"white-space:pre;overflow-x:auto;line-height:normal;font-family:Menlo,'DejaVu Sans Mono',consolas,'Courier New',monospace\"></pre>\n"
      ],
      "text/plain": []
     },
     "metadata": {},
     "output_type": "display_data"
    },
    {
     "data": {
      "image/png": "[encoded data removed]",
      "text/plain": [
       "\u001b[1m<\u001b[0m\u001b[1;95mFigure\u001b[0m\u001b[39m size 64\u001b[0m\u001b[1;36m0x480\u001b[0m\u001b[39m with \u001b[0m\u001b[1;36m1\u001b[0m\u001b[39m Axes\u001b[0m\u001b[1m>\u001b[0m"
      ]
     },
     "metadata": {},
     "output_type": "display_data"
    },
    {
     "data": {
      "text/html": [
       "<pre style=\"white-space:pre;overflow-x:auto;line-height:normal;font-family:Menlo,'DejaVu Sans Mono',consolas,'Courier New',monospace\"></pre>\n"
      ],
      "text/plain": []
     },
     "metadata": {},
     "output_type": "display_data"
    },
    {
     "data": {
      "image/png": "[encoded data removed]",
      "text/plain": [
       "\u001b[1m<\u001b[0m\u001b[1;95mFigure\u001b[0m\u001b[39m size 64\u001b[0m\u001b[1;36m0x480\u001b[0m\u001b[39m with \u001b[0m\u001b[1;36m1\u001b[0m\u001b[39m Axes\u001b[0m\u001b[1m>\u001b[0m"
      ]
     },
     "metadata": {},
     "output_type": "display_data"
    }
   ],
   "source": [
    "rates = []\n",
    "inf_lim = 20\n",
    "limits = list(range(inf_lim,900,30))\n",
    "sns.ecdfplot(data=df_time_between_activities.query(f'inactivity_time>{inf_lim}'),x=\"inactivity_time\",stat='count')\n",
    "for i,limit in enumerate(limits):\n",
    "    n_sell = (df_time_between_activities.inactivity_time>limit).mean()\n",
    "    rates.append(n_sell)\n",
    "pd.DataFrame({'limit':limits,'rate': rates}).plot(x='limit',y='rate')"
   ]
  },
  {
   "cell_type": "code",
   "execution_count": 11,
   "metadata": {},
   "outputs": [
    {
     "data": {
      "text/html": [
       "<pre style=\"white-space:pre;overflow-x:auto;line-height:normal;font-family:Menlo,'DejaVu Sans Mono',consolas,'Courier New',monospace\"></pre>\n"
      ],
      "text/plain": []
     },
     "metadata": {},
     "output_type": "display_data"
    },
    {
     "data": {
      "text/plain": [
       "\u001b[1m<\u001b[0m\u001b[1;95mAxes:\u001b[0m\u001b[39m \u001b[0m\u001b[33mxlabel\u001b[0m\u001b[39m=\u001b[0m\u001b[32m'inactivity_time'\u001b[0m\u001b[39m, \u001b[0m\u001b[33mylabel\u001b[0m\u001b[39m=\u001b[0m\u001b[32m'Proportion'\u001b[0m\u001b[1m>\u001b[0m"
      ]
     },
     "execution_count": 11,
     "metadata": {},
     "output_type": "execute_result"
    },
    {
     "data": {
      "text/html": [
       "<pre style=\"white-space:pre;overflow-x:auto;line-height:normal;font-family:Menlo,'DejaVu Sans Mono',consolas,'Courier New',monospace\"></pre>\n"
      ],
      "text/plain": []
     },
     "metadata": {},
     "output_type": "display_data"
    },
    {
     "data": {
      "image/png": "[encoded data removed]",
      "text/plain": [
       "\u001b[1m<\u001b[0m\u001b[1;95mFigure\u001b[0m\u001b[39m size 64\u001b[0m\u001b[1;36m0x480\u001b[0m\u001b[39m with \u001b[0m\u001b[1;36m1\u001b[0m\u001b[39m Axes\u001b[0m\u001b[1m>\u001b[0m"
      ]
     },
     "metadata": {},
     "output_type": "display_data"
    }
   ],
   "source": [
    "df_aux = (\n",
    "    df_time_between_activities\n",
    "    .query('order_purchase_timestamp<\"2017-12-01\"')\n",
    "    .groupby(['seller_id','cohort_info'], as_index=False)\n",
    "    .inactivity_time.max()\n",
    ")\n",
    "sns.ecdfplot(data=df_aux,x=\"inactivity_time\")"
   ]
  },
  {
   "cell_type": "code",
   "execution_count": 12,
   "metadata": {},
   "outputs": [
    {
     "data": {
      "text/html": [
       "<pre style=\"white-space:pre;overflow-x:auto;line-height:normal;font-family:Menlo,'DejaVu Sans Mono',consolas,'Courier New',monospace\"></pre>\n"
      ],
      "text/plain": []
     },
     "metadata": {},
     "output_type": "display_data"
    },
    {
     "data": {
      "text/plain": [
       "\u001b[1m<\u001b[0m\u001b[1;95mAxes:\u001b[0m\u001b[39m \u001b[0m\u001b[33mxlabel\u001b[0m\u001b[39m=\u001b[0m\u001b[32m'limit'\u001b[0m\u001b[1m>\u001b[0m"
      ]
     },
     "execution_count": 12,
     "metadata": {},
     "output_type": "execute_result"
    },
    {
     "data": {
      "text/html": [
       "<pre style=\"white-space:pre;overflow-x:auto;line-height:normal;font-family:Menlo,'DejaVu Sans Mono',consolas,'Courier New',monospace\"></pre>\n"
      ],
      "text/plain": []
     },
     "metadata": {},
     "output_type": "display_data"
    },
    {
     "data": {
      "image/png": "[encoded data removed]",
      "text/plain": [
       "\u001b[1m<\u001b[0m\u001b[1;95mFigure\u001b[0m\u001b[39m size 64\u001b[0m\u001b[1;36m0x480\u001b[0m\u001b[39m with \u001b[0m\u001b[1;36m1\u001b[0m\u001b[39m Axes\u001b[0m\u001b[1m>\u001b[0m"
      ]
     },
     "metadata": {},
     "output_type": "display_data"
    }
   ],
   "source": [
    "rates = []\n",
    "limits = list(range(0,900,30))\n",
    "for i,limit in enumerate(limits):\n",
    "    n_sell = (df_aux.inactivity_time>limit).mean()\n",
    "    rates.append(n_sell)\n",
    "pd.DataFrame({'limit':limits,'rate': rates}).plot(x='limit',y='rate')"
   ]
  },
  {
   "cell_type": "markdown",
   "metadata": {},
   "source": [
    "# Análise de recuperação: alternativa 1"
   ]
  },
  {
   "cell_type": "code",
   "execution_count": 170,
   "metadata": {},
   "outputs": [
    {
     "data": {
      "text/html": [
       "<pre style=\"white-space:pre;overflow-x:auto;line-height:normal;font-family:Menlo,'DejaVu Sans Mono',consolas,'Courier New',monospace\"></pre>\n"
      ],
      "text/plain": []
     },
     "metadata": {},
     "output_type": "display_data"
    },
    {
     "data": {
      "text/html": [
       "<div>\n",
       "<style scoped>\n",
       "    .dataframe tbody tr th:only-of-type {\n",
       "        vertical-align: middle;\n",
       "    }\n",
       "\n",
       "    .dataframe tbody tr th {\n",
       "        vertical-align: top;\n",
       "    }\n",
       "\n",
       "    .dataframe thead th {\n",
       "        text-align: right;\n",
       "    }\n",
       "</style>\n",
       "<table border=\"1\" class=\"dataframe\">\n",
       "  <thead>\n",
       "    <tr style=\"text-align: right;\">\n",
       "      <th></th>\n",
       "      <th>faixas</th>\n",
       "      <th>cum_vol</th>\n",
       "      <th>post_vol</th>\n",
       "      <th>recovery</th>\n",
       "      <th>advance</th>\n",
       "    </tr>\n",
       "  </thead>\n",
       "  <tbody>\n",
       "    <tr>\n",
       "      <th>0</th>\n",
       "      <td>(-1, 15]</td>\n",
       "      <td>6483</td>\n",
       "      <td>3825.0</td>\n",
       "      <td>0.409995</td>\n",
       "      <td>0.590005</td>\n",
       "    </tr>\n",
       "    <tr>\n",
       "      <th>1</th>\n",
       "      <td>(15, 30]</td>\n",
       "      <td>3825</td>\n",
       "      <td>2350.0</td>\n",
       "      <td>0.385621</td>\n",
       "      <td>0.614379</td>\n",
       "    </tr>\n",
       "    <tr>\n",
       "      <th>2</th>\n",
       "      <td>(30, 60]</td>\n",
       "      <td>2350</td>\n",
       "      <td>1355.0</td>\n",
       "      <td>0.423404</td>\n",
       "      <td>0.576596</td>\n",
       "    </tr>\n",
       "    <tr>\n",
       "      <th>3</th>\n",
       "      <td>(60, 90]</td>\n",
       "      <td>1355</td>\n",
       "      <td>1003.0</td>\n",
       "      <td>0.259779</td>\n",
       "      <td>0.740221</td>\n",
       "    </tr>\n",
       "    <tr>\n",
       "      <th>4</th>\n",
       "      <td>(90, 120]</td>\n",
       "      <td>1003</td>\n",
       "      <td>810.0</td>\n",
       "      <td>0.192423</td>\n",
       "      <td>0.807577</td>\n",
       "    </tr>\n",
       "    <tr>\n",
       "      <th>5</th>\n",
       "      <td>(120, 150]</td>\n",
       "      <td>810</td>\n",
       "      <td>715.0</td>\n",
       "      <td>0.117284</td>\n",
       "      <td>0.882716</td>\n",
       "    </tr>\n",
       "    <tr>\n",
       "      <th>6</th>\n",
       "      <td>(150, 180]</td>\n",
       "      <td>715</td>\n",
       "      <td>653.0</td>\n",
       "      <td>0.086713</td>\n",
       "      <td>0.913287</td>\n",
       "    </tr>\n",
       "    <tr>\n",
       "      <th>7</th>\n",
       "      <td>(180, 210]</td>\n",
       "      <td>653</td>\n",
       "      <td>624.0</td>\n",
       "      <td>0.044410</td>\n",
       "      <td>0.955590</td>\n",
       "    </tr>\n",
       "    <tr>\n",
       "      <th>8</th>\n",
       "      <td>(210, 240]</td>\n",
       "      <td>624</td>\n",
       "      <td>609.0</td>\n",
       "      <td>0.024038</td>\n",
       "      <td>0.975962</td>\n",
       "    </tr>\n",
       "    <tr>\n",
       "      <th>9</th>\n",
       "      <td>(240, 695]</td>\n",
       "      <td>609</td>\n",
       "      <td>NaN</td>\n",
       "      <td>NaN</td>\n",
       "      <td>NaN</td>\n",
       "    </tr>\n",
       "  </tbody>\n",
       "</table>\n",
       "</div>"
      ],
      "text/plain": [
       "\n",
       "       faixas  cum_vol  post_vol  recovery   advance\n",
       "\u001b[1;36m0\u001b[0m    \u001b[1m(\u001b[0m\u001b[1;36m-1\u001b[0m, \u001b[1;36m15\u001b[0m\u001b[1m]\u001b[0m     \u001b[1;36m6483\u001b[0m    \u001b[1;36m3825.0\u001b[0m  \u001b[1;36m0.409995\u001b[0m  \u001b[1;36m0.590005\u001b[0m\n",
       "\u001b[1;36m1\u001b[0m    \u001b[1m(\u001b[0m\u001b[1;36m15\u001b[0m, \u001b[1;36m30\u001b[0m\u001b[1m]\u001b[0m     \u001b[1;36m3825\u001b[0m    \u001b[1;36m2350.0\u001b[0m  \u001b[1;36m0.385621\u001b[0m  \u001b[1;36m0.614379\u001b[0m\n",
       "\u001b[1;36m2\u001b[0m    \u001b[1m(\u001b[0m\u001b[1;36m30\u001b[0m, \u001b[1;36m60\u001b[0m\u001b[1m]\u001b[0m     \u001b[1;36m2350\u001b[0m    \u001b[1;36m1355.0\u001b[0m  \u001b[1;36m0.423404\u001b[0m  \u001b[1;36m0.576596\u001b[0m\n",
       "\u001b[1;36m3\u001b[0m    \u001b[1m(\u001b[0m\u001b[1;36m60\u001b[0m, \u001b[1;36m90\u001b[0m\u001b[1m]\u001b[0m     \u001b[1;36m1355\u001b[0m    \u001b[1;36m1003.0\u001b[0m  \u001b[1;36m0.259779\u001b[0m  \u001b[1;36m0.740221\u001b[0m\n",
       "\u001b[1;36m4\u001b[0m   \u001b[1m(\u001b[0m\u001b[1;36m90\u001b[0m, \u001b[1;36m120\u001b[0m\u001b[1m]\u001b[0m     \u001b[1;36m1003\u001b[0m     \u001b[1;36m810.0\u001b[0m  \u001b[1;36m0.192423\u001b[0m  \u001b[1;36m0.807577\u001b[0m\n",
       "\u001b[1;36m5\u001b[0m  \u001b[1m(\u001b[0m\u001b[1;36m120\u001b[0m, \u001b[1;36m150\u001b[0m\u001b[1m]\u001b[0m      \u001b[1;36m810\u001b[0m     \u001b[1;36m715.0\u001b[0m  \u001b[1;36m0.117284\u001b[0m  \u001b[1;36m0.882716\u001b[0m\n",
       "\u001b[1;36m6\u001b[0m  \u001b[1m(\u001b[0m\u001b[1;36m150\u001b[0m, \u001b[1;36m180\u001b[0m\u001b[1m]\u001b[0m      \u001b[1;36m715\u001b[0m     \u001b[1;36m653.0\u001b[0m  \u001b[1;36m0.086713\u001b[0m  \u001b[1;36m0.913287\u001b[0m\n",
       "\u001b[1;36m7\u001b[0m  \u001b[1m(\u001b[0m\u001b[1;36m180\u001b[0m, \u001b[1;36m210\u001b[0m\u001b[1m]\u001b[0m      \u001b[1;36m653\u001b[0m     \u001b[1;36m624.0\u001b[0m  \u001b[1;36m0.044410\u001b[0m  \u001b[1;36m0.955590\u001b[0m\n",
       "\u001b[1;36m8\u001b[0m  \u001b[1m(\u001b[0m\u001b[1;36m210\u001b[0m, \u001b[1;36m240\u001b[0m\u001b[1m]\u001b[0m      \u001b[1;36m624\u001b[0m     \u001b[1;36m609.0\u001b[0m  \u001b[1;36m0.024038\u001b[0m  \u001b[1;36m0.975962\u001b[0m\n",
       "\u001b[1;36m9\u001b[0m  \u001b[1m(\u001b[0m\u001b[1;36m240\u001b[0m, \u001b[1;36m695\u001b[0m\u001b[1m]\u001b[0m      \u001b[1;36m609\u001b[0m       NaN       NaN       NaN"
      ]
     },
     "metadata": {},
     "output_type": "display_data"
    },
    {
     "name": "stdout",
     "output_type": "stream",
     "text": [
      "Por essa análise percebemos que os clientes que chegam ao 150 ou 180 dias de inatividade\n",
      "90 a 95% avançam para períodos maiores de inatividade \n",
      "Isto é, clientes com 150 ou 180 dias de inatividade tem baixa chance de ralizar um nova venda\n",
      "Assim o churn pode ser definido com 150 ou 180 dias de inatividade\n"
     ]
    }
   ],
   "source": [
    "display(\n",
    "    df_time_between_activities\n",
    "    .query('order_purchase_timestamp<\"2017-12-01\"')\n",
    "    .groupby(['seller_id','cohort_info'],as_index=False)\n",
    "    .inactivity_time.max()\n",
    "    .sort_values('inactivity_time',ascending=False)\n",
    "    .reset_index(drop=True)\n",
    "    .dropna(subset=['inactivity_time'])\n",
    "    .assign(\n",
    "        cum_vol = lambda df: pd.Series([1]*len(df)).cumsum(),\n",
    "        faixas = lambda df: pd.cut(df.inactivity_time, bins=[-1,15,30,60,90,120,150,\n",
    "                                                             180,210,240,\n",
    "                                                             df.inactivity_time.max()+1])\n",
    "    )\n",
    "    .groupby('faixas', observed=False, as_index=False).cum_vol.max()\n",
    "    .assign(\n",
    "        post_vol = lambda df: df.cum_vol.shift(-1),\n",
    "        recovery = lambda df: (df.cum_vol - df.post_vol)/df.cum_vol,\n",
    "        advance = lambda df: 1-df.recovery,\n",
    "    )\n",
    ")\n",
    "print('Por essa análise percebemos que os clientes que chegam ao 150 ou 180 dias de inatividade')\n",
    "print('90 a 95% avançam para períodos maiores de inatividade ')\n",
    "print('Isto é, clientes com 150 ou 180 dias de inatividade tem baixa chance de ralizar um nova venda')\n",
    "print('Assim o churn pode ser definido com 150 ou 180 dias de inatividade')"
   ]
  },
  {
   "cell_type": "markdown",
   "metadata": {},
   "source": [
    "# Análise de recuperação: alternativa 2"
   ]
  },
  {
   "cell_type": "code",
   "execution_count": 51,
   "metadata": {},
   "outputs": [
    {
     "data": {
      "text/html": [
       "<pre style=\"white-space:pre;overflow-x:auto;line-height:normal;font-family:Menlo,'DejaVu Sans Mono',consolas,'Courier New',monospace\"></pre>\n"
      ],
      "text/plain": []
     },
     "metadata": {},
     "output_type": "display_data"
    },
    {
     "data": {
      "text/html": [
       "<div>\n",
       "<style scoped>\n",
       "    .dataframe tbody tr th:only-of-type {\n",
       "        vertical-align: middle;\n",
       "    }\n",
       "\n",
       "    .dataframe tbody tr th {\n",
       "        vertical-align: top;\n",
       "    }\n",
       "\n",
       "    .dataframe thead th {\n",
       "        text-align: right;\n",
       "    }\n",
       "</style>\n",
       "<table border=\"1\" class=\"dataframe\">\n",
       "  <thead>\n",
       "    <tr style=\"text-align: right;\">\n",
       "      <th></th>\n",
       "      <th>mt_bt</th>\n",
       "      <th>volume</th>\n",
       "      <th>cum_volume</th>\n",
       "      <th>next_volume</th>\n",
       "      <th>recovery</th>\n",
       "      <th>advanced</th>\n",
       "    </tr>\n",
       "  </thead>\n",
       "  <tbody>\n",
       "    <tr>\n",
       "      <th>0</th>\n",
       "      <td>0</td>\n",
       "      <td>519</td>\n",
       "      <td>2797</td>\n",
       "      <td>2278.0</td>\n",
       "      <td>0.185556</td>\n",
       "      <td>0.814444</td>\n",
       "    </tr>\n",
       "    <tr>\n",
       "      <th>1</th>\n",
       "      <td>1</td>\n",
       "      <td>1727</td>\n",
       "      <td>2278</td>\n",
       "      <td>551.0</td>\n",
       "      <td>0.758121</td>\n",
       "      <td>0.241879</td>\n",
       "    </tr>\n",
       "    <tr>\n",
       "      <th>2</th>\n",
       "      <td>2</td>\n",
       "      <td>233</td>\n",
       "      <td>551</td>\n",
       "      <td>318.0</td>\n",
       "      <td>0.422868</td>\n",
       "      <td>0.577132</td>\n",
       "    </tr>\n",
       "    <tr>\n",
       "      <th>3</th>\n",
       "      <td>3</td>\n",
       "      <td>165</td>\n",
       "      <td>318</td>\n",
       "      <td>153.0</td>\n",
       "      <td>0.518868</td>\n",
       "      <td>0.481132</td>\n",
       "    </tr>\n",
       "    <tr>\n",
       "      <th>4</th>\n",
       "      <td>4</td>\n",
       "      <td>93</td>\n",
       "      <td>153</td>\n",
       "      <td>60.0</td>\n",
       "      <td>0.607843</td>\n",
       "      <td>0.392157</td>\n",
       "    </tr>\n",
       "    <tr>\n",
       "      <th>5</th>\n",
       "      <td>5</td>\n",
       "      <td>26</td>\n",
       "      <td>60</td>\n",
       "      <td>34.0</td>\n",
       "      <td>0.433333</td>\n",
       "      <td>0.566667</td>\n",
       "    </tr>\n",
       "    <tr>\n",
       "      <th>6</th>\n",
       "      <td>6</td>\n",
       "      <td>5</td>\n",
       "      <td>34</td>\n",
       "      <td>29.0</td>\n",
       "      <td>0.147059</td>\n",
       "      <td>0.852941</td>\n",
       "    </tr>\n",
       "    <tr>\n",
       "      <th>7</th>\n",
       "      <td>7</td>\n",
       "      <td>1</td>\n",
       "      <td>29</td>\n",
       "      <td>28.0</td>\n",
       "      <td>0.034483</td>\n",
       "      <td>0.965517</td>\n",
       "    </tr>\n",
       "    <tr>\n",
       "      <th>8</th>\n",
       "      <td>8</td>\n",
       "      <td>28</td>\n",
       "      <td>28</td>\n",
       "      <td>NaN</td>\n",
       "      <td>NaN</td>\n",
       "      <td>NaN</td>\n",
       "    </tr>\n",
       "  </tbody>\n",
       "</table>\n",
       "</div>"
      ],
      "text/plain": [
       "\n",
       "   mt_bt  volume  cum_volume  next_volume  recovery  advanced\n",
       "\u001b[1;36m0\u001b[0m      \u001b[1;36m0\u001b[0m     \u001b[1;36m519\u001b[0m        \u001b[1;36m2797\u001b[0m       \u001b[1;36m2278.0\u001b[0m  \u001b[1;36m0.185556\u001b[0m  \u001b[1;36m0.814444\u001b[0m\n",
       "\u001b[1;36m1\u001b[0m      \u001b[1;36m1\u001b[0m    \u001b[1;36m1727\u001b[0m        \u001b[1;36m2278\u001b[0m        \u001b[1;36m551.0\u001b[0m  \u001b[1;36m0.758121\u001b[0m  \u001b[1;36m0.241879\u001b[0m\n",
       "\u001b[1;36m2\u001b[0m      \u001b[1;36m2\u001b[0m     \u001b[1;36m233\u001b[0m         \u001b[1;36m551\u001b[0m        \u001b[1;36m318.0\u001b[0m  \u001b[1;36m0.422868\u001b[0m  \u001b[1;36m0.577132\u001b[0m\n",
       "\u001b[1;36m3\u001b[0m      \u001b[1;36m3\u001b[0m     \u001b[1;36m165\u001b[0m         \u001b[1;36m318\u001b[0m        \u001b[1;36m153.0\u001b[0m  \u001b[1;36m0.518868\u001b[0m  \u001b[1;36m0.481132\u001b[0m\n",
       "\u001b[1;36m4\u001b[0m      \u001b[1;36m4\u001b[0m      \u001b[1;36m93\u001b[0m         \u001b[1;36m153\u001b[0m         \u001b[1;36m60.0\u001b[0m  \u001b[1;36m0.607843\u001b[0m  \u001b[1;36m0.392157\u001b[0m\n",
       "\u001b[1;36m5\u001b[0m      \u001b[1;36m5\u001b[0m      \u001b[1;36m26\u001b[0m          \u001b[1;36m60\u001b[0m         \u001b[1;36m34.0\u001b[0m  \u001b[1;36m0.433333\u001b[0m  \u001b[1;36m0.566667\u001b[0m\n",
       "\u001b[1;36m6\u001b[0m      \u001b[1;36m6\u001b[0m       \u001b[1;36m5\u001b[0m          \u001b[1;36m34\u001b[0m         \u001b[1;36m29.0\u001b[0m  \u001b[1;36m0.147059\u001b[0m  \u001b[1;36m0.852941\u001b[0m\n",
       "\u001b[1;36m7\u001b[0m      \u001b[1;36m7\u001b[0m       \u001b[1;36m1\u001b[0m          \u001b[1;36m29\u001b[0m         \u001b[1;36m28.0\u001b[0m  \u001b[1;36m0.034483\u001b[0m  \u001b[1;36m0.965517\u001b[0m\n",
       "\u001b[1;36m8\u001b[0m      \u001b[1;36m8\u001b[0m      \u001b[1;36m28\u001b[0m          \u001b[1;36m28\u001b[0m          NaN       NaN       NaN"
      ]
     },
     "execution_count": 51,
     "metadata": {},
     "output_type": "execute_result"
    }
   ],
   "source": [
    "\n",
    "(\n",
    "    df_time_between_activities[['seller_id','cohort_info','first_cohort_seller']]\n",
    "    .query('cohort_info<201707')\n",
    "    .drop_duplicates(subset=['seller_id','cohort_info'])\n",
    "    .assign(\n",
    "        next_1_order_cohort = lambda df: df.groupby('seller_id')['cohort_info'].shift(-1).fillna(df.cohort_info.max()),\n",
    "        # next_2_order_cohort = lambda df: df.groupby('seller_id')['cohort_info'].shift(-2).fillna(df.cohort_info.max()),\n",
    "        mt_bt = lambda df: months_between_cohort(df.cohort_info,df.next_1_order_cohort)\n",
    "    )\n",
    "    .groupby('mt_bt')\n",
    "    .agg(\n",
    "        volume = ('mt_bt','count')\n",
    "    )\n",
    "    .reset_index()\n",
    "    .sort_values('mt_bt', ascending=False)\n",
    "    .assign(\n",
    "        cum_volume = lambda df: df.volume.cumsum(),\n",
    "        next_volume = lambda df: df.cum_volume.shift(),\n",
    "        recovery = lambda df: (df.cum_volume - df.next_volume)/df.cum_volume,\n",
    "        advanced = lambda df: df.next_volume/df.cum_volume,\n",
    "    )\n",
    "    .sort_values('mt_bt', ascending=True)\n",
    ")"
   ]
  },
  {
   "cell_type": "markdown",
   "metadata": {},
   "source": [
    "# Análise de recuperação: alternativa 3"
   ]
  },
  {
   "cell_type": "code",
   "execution_count": 126,
   "metadata": {},
   "outputs": [
    {
     "data": {
      "text/html": [
       "<pre style=\"white-space:pre;overflow-x:auto;line-height:normal;font-family:Menlo,'DejaVu Sans Mono',consolas,'Courier New',monospace\"></pre>\n"
      ],
      "text/plain": []
     },
     "metadata": {},
     "output_type": "display_data"
    },
    {
     "data": {
      "text/html": [
       "<div>\n",
       "<style scoped>\n",
       "    .dataframe tbody tr th:only-of-type {\n",
       "        vertical-align: middle;\n",
       "    }\n",
       "\n",
       "    .dataframe tbody tr th {\n",
       "        vertical-align: top;\n",
       "    }\n",
       "\n",
       "    .dataframe thead th {\n",
       "        text-align: right;\n",
       "    }\n",
       "</style>\n",
       "<table border=\"1\" class=\"dataframe\">\n",
       "  <thead>\n",
       "    <tr style=\"text-align: right;\">\n",
       "      <th></th>\n",
       "      <th>cum_sum_flag_sell</th>\n",
       "      <th>volume</th>\n",
       "      <th>post_volume</th>\n",
       "      <th>recovery</th>\n",
       "      <th>advance</th>\n",
       "    </tr>\n",
       "  </thead>\n",
       "  <tbody>\n",
       "    <tr>\n",
       "      <th>0</th>\n",
       "      <td>0</td>\n",
       "      <td>16068</td>\n",
       "      <td>3923.0</td>\n",
       "      <td>0.755850</td>\n",
       "      <td>0.244150</td>\n",
       "    </tr>\n",
       "    <tr>\n",
       "      <th>1</th>\n",
       "      <td>1</td>\n",
       "      <td>3923</td>\n",
       "      <td>2309.0</td>\n",
       "      <td>0.411420</td>\n",
       "      <td>0.588580</td>\n",
       "    </tr>\n",
       "    <tr>\n",
       "      <th>2</th>\n",
       "      <td>2</td>\n",
       "      <td>2309</td>\n",
       "      <td>1636.0</td>\n",
       "      <td>0.291468</td>\n",
       "      <td>0.708532</td>\n",
       "    </tr>\n",
       "    <tr>\n",
       "      <th>3</th>\n",
       "      <td>3</td>\n",
       "      <td>1636</td>\n",
       "      <td>1271.0</td>\n",
       "      <td>0.223105</td>\n",
       "      <td>0.776895</td>\n",
       "    </tr>\n",
       "    <tr>\n",
       "      <th>4</th>\n",
       "      <td>4</td>\n",
       "      <td>1271</td>\n",
       "      <td>1040.0</td>\n",
       "      <td>0.181747</td>\n",
       "      <td>0.818253</td>\n",
       "    </tr>\n",
       "    <tr>\n",
       "      <th>5</th>\n",
       "      <td>5</td>\n",
       "      <td>1040</td>\n",
       "      <td>888.0</td>\n",
       "      <td>0.146154</td>\n",
       "      <td>0.853846</td>\n",
       "    </tr>\n",
       "    <tr>\n",
       "      <th>6</th>\n",
       "      <td>6</td>\n",
       "      <td>888</td>\n",
       "      <td>779.0</td>\n",
       "      <td>0.122748</td>\n",
       "      <td>0.877252</td>\n",
       "    </tr>\n",
       "    <tr>\n",
       "      <th>7</th>\n",
       "      <td>7</td>\n",
       "      <td>779</td>\n",
       "      <td>672.0</td>\n",
       "      <td>0.137356</td>\n",
       "      <td>0.862644</td>\n",
       "    </tr>\n",
       "    <tr>\n",
       "      <th>8</th>\n",
       "      <td>8</td>\n",
       "      <td>672</td>\n",
       "      <td>590.0</td>\n",
       "      <td>0.122024</td>\n",
       "      <td>0.877976</td>\n",
       "    </tr>\n",
       "    <tr>\n",
       "      <th>9</th>\n",
       "      <td>9</td>\n",
       "      <td>590</td>\n",
       "      <td>488.0</td>\n",
       "      <td>0.172881</td>\n",
       "      <td>0.827119</td>\n",
       "    </tr>\n",
       "    <tr>\n",
       "      <th>10</th>\n",
       "      <td>10</td>\n",
       "      <td>488</td>\n",
       "      <td>429.0</td>\n",
       "      <td>0.120902</td>\n",
       "      <td>0.879098</td>\n",
       "    </tr>\n",
       "    <tr>\n",
       "      <th>11</th>\n",
       "      <td>11</td>\n",
       "      <td>429</td>\n",
       "      <td>369.0</td>\n",
       "      <td>0.139860</td>\n",
       "      <td>0.860140</td>\n",
       "    </tr>\n",
       "    <tr>\n",
       "      <th>12</th>\n",
       "      <td>12</td>\n",
       "      <td>369</td>\n",
       "      <td>309.0</td>\n",
       "      <td>0.162602</td>\n",
       "      <td>0.837398</td>\n",
       "    </tr>\n",
       "    <tr>\n",
       "      <th>13</th>\n",
       "      <td>13</td>\n",
       "      <td>309</td>\n",
       "      <td>266.0</td>\n",
       "      <td>0.139159</td>\n",
       "      <td>0.860841</td>\n",
       "    </tr>\n",
       "    <tr>\n",
       "      <th>14</th>\n",
       "      <td>14</td>\n",
       "      <td>266</td>\n",
       "      <td>230.0</td>\n",
       "      <td>0.135338</td>\n",
       "      <td>0.864662</td>\n",
       "    </tr>\n",
       "    <tr>\n",
       "      <th>15</th>\n",
       "      <td>15</td>\n",
       "      <td>230</td>\n",
       "      <td>165.0</td>\n",
       "      <td>0.282609</td>\n",
       "      <td>0.717391</td>\n",
       "    </tr>\n",
       "    <tr>\n",
       "      <th>16</th>\n",
       "      <td>16</td>\n",
       "      <td>165</td>\n",
       "      <td>134.0</td>\n",
       "      <td>0.187879</td>\n",
       "      <td>0.812121</td>\n",
       "    </tr>\n",
       "    <tr>\n",
       "      <th>17</th>\n",
       "      <td>17</td>\n",
       "      <td>134</td>\n",
       "      <td>93.0</td>\n",
       "      <td>0.305970</td>\n",
       "      <td>0.694030</td>\n",
       "    </tr>\n",
       "    <tr>\n",
       "      <th>18</th>\n",
       "      <td>18</td>\n",
       "      <td>93</td>\n",
       "      <td>45.0</td>\n",
       "      <td>0.516129</td>\n",
       "      <td>0.483871</td>\n",
       "    </tr>\n",
       "    <tr>\n",
       "      <th>19</th>\n",
       "      <td>19</td>\n",
       "      <td>45</td>\n",
       "      <td>25.0</td>\n",
       "      <td>0.444444</td>\n",
       "      <td>0.555556</td>\n",
       "    </tr>\n",
       "    <tr>\n",
       "      <th>20</th>\n",
       "      <td>20</td>\n",
       "      <td>25</td>\n",
       "      <td>25.0</td>\n",
       "      <td>0.000000</td>\n",
       "      <td>1.000000</td>\n",
       "    </tr>\n",
       "    <tr>\n",
       "      <th>21</th>\n",
       "      <td>21</td>\n",
       "      <td>25</td>\n",
       "      <td>25.0</td>\n",
       "      <td>0.000000</td>\n",
       "      <td>1.000000</td>\n",
       "    </tr>\n",
       "    <tr>\n",
       "      <th>22</th>\n",
       "      <td>22</td>\n",
       "      <td>25</td>\n",
       "      <td>NaN</td>\n",
       "      <td>NaN</td>\n",
       "      <td>NaN</td>\n",
       "    </tr>\n",
       "  </tbody>\n",
       "</table>\n",
       "</div>"
      ],
      "text/plain": [
       "\n",
       "    cum_sum_flag_sell  volume  post_volume  recovery   advance\n",
       "\u001b[1;36m0\u001b[0m                   \u001b[1;36m0\u001b[0m   \u001b[1;36m16068\u001b[0m       \u001b[1;36m3923.0\u001b[0m  \u001b[1;36m0.755850\u001b[0m  \u001b[1;36m0.244150\u001b[0m\n",
       "\u001b[1;36m1\u001b[0m                   \u001b[1;36m1\u001b[0m    \u001b[1;36m3923\u001b[0m       \u001b[1;36m2309.0\u001b[0m  \u001b[1;36m0.411420\u001b[0m  \u001b[1;36m0.588580\u001b[0m\n",
       "\u001b[1;36m2\u001b[0m                   \u001b[1;36m2\u001b[0m    \u001b[1;36m2309\u001b[0m       \u001b[1;36m1636.0\u001b[0m  \u001b[1;36m0.291468\u001b[0m  \u001b[1;36m0.708532\u001b[0m\n",
       "\u001b[1;36m3\u001b[0m                   \u001b[1;36m3\u001b[0m    \u001b[1;36m1636\u001b[0m       \u001b[1;36m1271.0\u001b[0m  \u001b[1;36m0.223105\u001b[0m  \u001b[1;36m0.776895\u001b[0m\n",
       "\u001b[1;36m4\u001b[0m                   \u001b[1;36m4\u001b[0m    \u001b[1;36m1271\u001b[0m       \u001b[1;36m1040.0\u001b[0m  \u001b[1;36m0.181747\u001b[0m  \u001b[1;36m0.818253\u001b[0m\n",
       "\u001b[1;36m5\u001b[0m                   \u001b[1;36m5\u001b[0m    \u001b[1;36m1040\u001b[0m        \u001b[1;36m888.0\u001b[0m  \u001b[1;36m0.146154\u001b[0m  \u001b[1;36m0.853846\u001b[0m\n",
       "\u001b[1;36m6\u001b[0m                   \u001b[1;36m6\u001b[0m     \u001b[1;36m888\u001b[0m        \u001b[1;36m779.0\u001b[0m  \u001b[1;36m0.122748\u001b[0m  \u001b[1;36m0.877252\u001b[0m\n",
       "\u001b[1;36m7\u001b[0m                   \u001b[1;36m7\u001b[0m     \u001b[1;36m779\u001b[0m        \u001b[1;36m672.0\u001b[0m  \u001b[1;36m0.137356\u001b[0m  \u001b[1;36m0.862644\u001b[0m\n",
       "\u001b[1;36m8\u001b[0m                   \u001b[1;36m8\u001b[0m     \u001b[1;36m672\u001b[0m        \u001b[1;36m590.0\u001b[0m  \u001b[1;36m0.122024\u001b[0m  \u001b[1;36m0.877976\u001b[0m\n",
       "\u001b[1;36m9\u001b[0m                   \u001b[1;36m9\u001b[0m     \u001b[1;36m590\u001b[0m        \u001b[1;36m488.0\u001b[0m  \u001b[1;36m0.172881\u001b[0m  \u001b[1;36m0.827119\u001b[0m\n",
       "\u001b[1;36m10\u001b[0m                 \u001b[1;36m10\u001b[0m     \u001b[1;36m488\u001b[0m        \u001b[1;36m429.0\u001b[0m  \u001b[1;36m0.120902\u001b[0m  \u001b[1;36m0.879098\u001b[0m\n",
       "\u001b[1;36m11\u001b[0m                 \u001b[1;36m11\u001b[0m     \u001b[1;36m429\u001b[0m        \u001b[1;36m369.0\u001b[0m  \u001b[1;36m0.139860\u001b[0m  \u001b[1;36m0.860140\u001b[0m\n",
       "\u001b[1;36m12\u001b[0m                 \u001b[1;36m12\u001b[0m     \u001b[1;36m369\u001b[0m        \u001b[1;36m309.0\u001b[0m  \u001b[1;36m0.162602\u001b[0m  \u001b[1;36m0.837398\u001b[0m\n",
       "\u001b[1;36m13\u001b[0m                 \u001b[1;36m13\u001b[0m     \u001b[1;36m309\u001b[0m        \u001b[1;36m266.0\u001b[0m  \u001b[1;36m0.139159\u001b[0m  \u001b[1;36m0.860841\u001b[0m\n",
       "\u001b[1;36m14\u001b[0m                 \u001b[1;36m14\u001b[0m     \u001b[1;36m266\u001b[0m        \u001b[1;36m230.0\u001b[0m  \u001b[1;36m0.135338\u001b[0m  \u001b[1;36m0.864662\u001b[0m\n",
       "\u001b[1;36m15\u001b[0m                 \u001b[1;36m15\u001b[0m     \u001b[1;36m230\u001b[0m        \u001b[1;36m165.0\u001b[0m  \u001b[1;36m0.282609\u001b[0m  \u001b[1;36m0.717391\u001b[0m\n",
       "\u001b[1;36m16\u001b[0m                 \u001b[1;36m16\u001b[0m     \u001b[1;36m165\u001b[0m        \u001b[1;36m134.0\u001b[0m  \u001b[1;36m0.187879\u001b[0m  \u001b[1;36m0.812121\u001b[0m\n",
       "\u001b[1;36m17\u001b[0m                 \u001b[1;36m17\u001b[0m     \u001b[1;36m134\u001b[0m         \u001b[1;36m93.0\u001b[0m  \u001b[1;36m0.305970\u001b[0m  \u001b[1;36m0.694030\u001b[0m\n",
       "\u001b[1;36m18\u001b[0m                 \u001b[1;36m18\u001b[0m      \u001b[1;36m93\u001b[0m         \u001b[1;36m45.0\u001b[0m  \u001b[1;36m0.516129\u001b[0m  \u001b[1;36m0.483871\u001b[0m\n",
       "\u001b[1;36m19\u001b[0m                 \u001b[1;36m19\u001b[0m      \u001b[1;36m45\u001b[0m         \u001b[1;36m25.0\u001b[0m  \u001b[1;36m0.444444\u001b[0m  \u001b[1;36m0.555556\u001b[0m\n",
       "\u001b[1;36m20\u001b[0m                 \u001b[1;36m20\u001b[0m      \u001b[1;36m25\u001b[0m         \u001b[1;36m25.0\u001b[0m  \u001b[1;36m0.000000\u001b[0m  \u001b[1;36m1.000000\u001b[0m\n",
       "\u001b[1;36m21\u001b[0m                 \u001b[1;36m21\u001b[0m      \u001b[1;36m25\u001b[0m         \u001b[1;36m25.0\u001b[0m  \u001b[1;36m0.000000\u001b[0m  \u001b[1;36m1.000000\u001b[0m\n",
       "\u001b[1;36m22\u001b[0m                 \u001b[1;36m22\u001b[0m      \u001b[1;36m25\u001b[0m          NaN       NaN       NaN"
      ]
     },
     "metadata": {},
     "output_type": "display_data"
    }
   ],
   "source": [
    "df_aux = (\n",
    "    df_time_between_activities[['seller_id','first_cohort_seller']]\n",
    "    .drop_duplicates()\n",
    "    .assign(\n",
    "        last_cohort = df_time_between_activities.cohort_info.max(),\n",
    "        all_cohorts = lambda df: df.apply(lambda x: (\n",
    "            list_cohort_between(x,start_cohort_col='first_cohort_seller',end_cohort_col='last_cohort')\n",
    "        ),axis=1)\n",
    "    )\n",
    "    .drop(columns=['first_cohort_seller','last_cohort'])\n",
    "    .explode('all_cohorts')\n",
    "    .merge(\n",
    "       df_time_between_activities[['seller_id','cohort_info']]\n",
    "       .drop_duplicates(),\n",
    "       right_on=['seller_id','cohort_info'],\n",
    "       left_on=['seller_id','all_cohorts'],\n",
    "       how='left'\n",
    "    )\n",
    "    .sort_values(['seller_id','all_cohorts'])\n",
    "    .assign(\n",
    "        flag_not_sell = lambda df: df.cohort_info.isna().astype(int),\n",
    "        zero_group = lambda df: (df.flag_not_sell == 0).cumsum(),\n",
    "        cum_sum_flag_sell = lambda df: df.groupby(['seller_id', 'zero_group']).flag_not_sell.cumsum()\n",
    "    )\n",
    "    .drop(columns='cohort_info')\n",
    "    # .seller_id.value_counts()\n",
    "    # .query('seller_id==\"897060da8b9a21f655304d50fd935913\"')\n",
    ")\n",
    "display(\n",
    "    df_aux\n",
    "    .cum_sum_flag_sell.value_counts()\n",
    "    .reset_index(name='volume')\n",
    "    .assign(\n",
    "        post_volume = lambda df: df.volume.shift(-1),\n",
    "        recovery = lambda df: (df.volume-df.post_volume)/df.volume,\n",
    "        advance = lambda df: (df.post_volume)/df.volume,\n",
    "    )\n",
    ")"
   ]
  },
  {
   "cell_type": "markdown",
   "metadata": {},
   "source": [
    "# Análise de recuperação: alternativa 4\n",
    "- depois de x meses sem vender quantos % voltam a vender?"
   ]
  },
  {
   "cell_type": "code",
   "execution_count": 171,
   "metadata": {},
   "outputs": [
    {
     "data": {
      "text/html": [
       "<pre style=\"white-space:pre;overflow-x:auto;line-height:normal;font-family:Menlo,'DejaVu Sans Mono',consolas,'Courier New',monospace\"></pre>\n"
      ],
      "text/plain": []
     },
     "metadata": {},
     "output_type": "display_data"
    },
    {
     "data": {
      "text/plain": [
       "\n",
       "\u001b[1m{\u001b[0m\n",
       "    \u001b[1;36m1\u001b[0m: \u001b[1;36m0.5643640071373949\u001b[0m,\n",
       "    \u001b[1;36m2\u001b[0m: \u001b[1;36m0.40883499350368124\u001b[0m,\n",
       "    \u001b[1;36m3\u001b[0m: \u001b[1;36m0.2823960880195599\u001b[0m,\n",
       "    \u001b[1;36m4\u001b[0m: \u001b[1;36m0.1974822974036192\u001b[0m,\n",
       "    \u001b[1;36m5\u001b[0m: \u001b[1;36m0.13942307692307693\u001b[0m,\n",
       "    \u001b[1;36m6\u001b[0m: \u001b[1;36m0.08333333333333333\u001b[0m,\n",
       "    \u001b[1;36m7\u001b[0m: \u001b[1;36m0.06803594351732992\u001b[0m,\n",
       "    \u001b[1;36m8\u001b[0m: \u001b[1;36m0.047619047619047616\u001b[0m,\n",
       "    \u001b[1;36m9\u001b[0m: \u001b[1;36m0.03898305084745763\u001b[0m,\n",
       "    \u001b[1;36m10\u001b[0m: \u001b[1;36m0.0389344262295082\u001b[0m,\n",
       "    \u001b[1;36m11\u001b[0m: \u001b[1;36m0.03263403263403263\u001b[0m,\n",
       "    \u001b[1;36m12\u001b[0m: \u001b[1;36m0.02981029810298103\u001b[0m,\n",
       "    \u001b[1;36m13\u001b[0m: \u001b[1;36m0.019417475728155338\u001b[0m,\n",
       "    \u001b[1;36m14\u001b[0m: \u001b[1;36m0.011278195488721804\u001b[0m,\n",
       "    \u001b[1;36m15\u001b[0m: \u001b[1;36m0.013043478260869565\u001b[0m,\n",
       "    \u001b[1;36m16\u001b[0m: \u001b[1;36m0.012121212121212121\u001b[0m,\n",
       "    \u001b[1;36m17\u001b[0m: \u001b[1;36m0.014925373134328358\u001b[0m,\n",
       "    \u001b[1;36m18\u001b[0m: \u001b[1;36m0.021505376344086023\u001b[0m,\n",
       "    \u001b[1;36m19\u001b[0m: \u001b[1;36m0.0\u001b[0m,\n",
       "    \u001b[1;36m20\u001b[0m: \u001b[1;36m0.0\u001b[0m,\n",
       "    \u001b[1;36m21\u001b[0m: \u001b[1;36m0.0\u001b[0m,\n",
       "    \u001b[1;36m22\u001b[0m: \u001b[1;36m0.0\u001b[0m\n",
       "\u001b[1m}\u001b[0m"
      ]
     },
     "metadata": {},
     "output_type": "display_data"
    },
    {
     "name": "stdout",
     "output_type": "stream",
     "text": [
      "Observa-se que a partir de 6 meses de inatividade a taxa de recuperação é inferior a 10%\n"
     ]
    }
   ],
   "source": [
    "recoveries_rates = {}\n",
    "for i in range(1,23):\n",
    "    volume = df_aux.query(f\"cum_sum_flag_sell=={i}\").count().seller_id\n",
    "    n_recovery = pd.merge_asof(\n",
    "        df_aux.query(f\"cum_sum_flag_sell=={i}\")\n",
    "        .assign(\n",
    "            dt_all_cohorts = lambda df: cohort_to_date(df.all_cohorts)\n",
    "        )\n",
    "        .sort_values('dt_all_cohorts'),\n",
    "        df_aux.query(\"cum_sum_flag_sell==0\")\n",
    "        .assign(\n",
    "            dt_all_cohorts = lambda df: cohort_to_date(df.all_cohorts)\n",
    "        )\n",
    "        .sort_values('dt_all_cohorts'),\n",
    "        on='dt_all_cohorts',\n",
    "        by='seller_id',\n",
    "        direction='forward'\n",
    "    ).query('all_cohorts_y.notna()').count().seller_id\n",
    "    recoveries_rates[i]=(n_recovery/volume)\n",
    "display(recoveries_rates)\n",
    "print(\"Observa-se que a partir de 6 meses de inatividade a taxa de recuperação é inferior a 10%\")"
   ]
  },
  {
   "cell_type": "markdown",
   "metadata": {},
   "source": [
    "# Conclusão\n",
    "- As análises anteriores indicam uma definição de churn com 5 ou 6 meses de inatividade\n",
    "- Aqui, adotaremos que o cliente \"deu churn\" com 6 meses de inatividade, portanto usaremos essa definição para a marcação da target."
   ]
  }
 ],
 "metadata": {
  "kernelspec": {
   "display_name": ".venv",
   "language": "python",
   "name": "python3"
  },
  "language_info": {
   "codemirror_mode": {
    "name": "ipython",
    "version": 3
   },
   "file_extension": ".py",
   "mimetype": "text/x-python",
   "name": "python",
   "nbconvert_exporter": "python",
   "pygments_lexer": "ipython3",
   "version": "3.11.11"
  }
 },
 "nbformat": 4,
 "nbformat_minor": 2
}
