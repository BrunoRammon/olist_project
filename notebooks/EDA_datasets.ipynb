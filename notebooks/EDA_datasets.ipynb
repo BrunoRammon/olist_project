{
 "cells": [
  {
   "cell_type": "markdown",
   "metadata": {},
   "source": [
    "# Setting enviroment"
   ]
  },
  {
   "cell_type": "code",
   "execution_count": 4,
   "metadata": {},
   "outputs": [
    {
     "name": "stdout",
     "output_type": "stream",
     "text": [
      "The kedro.ipython extension is already loaded. To reload it, use:\n",
      "  %reload_ext kedro.ipython\n"
     ]
    }
   ],
   "source": [
    "%load_ext kedro.ipython"
   ]
  },
  {
   "cell_type": "markdown",
   "metadata": {},
   "source": [
    "# Load data"
   ]
  },
  {
   "cell_type": "code",
   "execution_count": 98,
   "metadata": {},
   "outputs": [
    {
     "data": {
      "text/html": [
       "<pre style=\"white-space:pre;overflow-x:auto;line-height:normal;font-family:Menlo,'DejaVu Sans Mono',consolas,'Courier New',monospace\"><span style=\"color: #7fbfbf; text-decoration-color: #7fbfbf\">[12/23/24 14:29:22] </span><span style=\"color: #000080; text-decoration-color: #000080\">INFO    </span> Loading data from <span style=\"color: #ff8700; text-decoration-color: #ff8700\">olist_customers_dataset</span> <span style=\"font-weight: bold\">(</span>CSVDataset<span style=\"font-weight: bold\">)</span><span style=\"color: #808000; text-decoration-color: #808000\">...</span>          <a href=\"file:///home/bruno/Documents/Programming/Programming_projects/olist_project/.venv/lib/python3.11/site-packages/kedro/io/data_catalog.py\" target=\"_blank\"><span style=\"color: #7f7f7f; text-decoration-color: #7f7f7f\">data_catalog.py</span></a><span style=\"color: #7f7f7f; text-decoration-color: #7f7f7f\">:</span><a href=\"file:///home/bruno/Documents/Programming/Programming_projects/olist_project/.venv/lib/python3.11/site-packages/kedro/io/data_catalog.py#389\" target=\"_blank\"><span style=\"color: #7f7f7f; text-decoration-color: #7f7f7f\">389</span></a>\n",
       "</pre>\n"
      ],
      "text/plain": [
       "\u001b[2;36m[12/23/24 14:29:22]\u001b[0m\u001b[2;36m \u001b[0m\u001b[34mINFO    \u001b[0m Loading data from \u001b[38;5;208molist_customers_dataset\u001b[0m \u001b[1m(\u001b[0mCSVDataset\u001b[1m)\u001b[0m\u001b[33m...\u001b[0m          \u001b]8;id=143228;file:///home/bruno/Documents/Programming/Programming_projects/olist_project/.venv/lib/python3.11/site-packages/kedro/io/data_catalog.py\u001b\\\u001b[2mdata_catalog.py\u001b[0m\u001b]8;;\u001b\\\u001b[2m:\u001b[0m\u001b]8;id=638161;file:///home/bruno/Documents/Programming/Programming_projects/olist_project/.venv/lib/python3.11/site-packages/kedro/io/data_catalog.py#389\u001b\\\u001b[2m389\u001b[0m\u001b]8;;\u001b\\\n"
      ]
     },
     "metadata": {},
     "output_type": "display_data"
    },
    {
     "data": {
      "text/html": [
       "<pre style=\"white-space:pre;overflow-x:auto;line-height:normal;font-family:Menlo,'DejaVu Sans Mono',consolas,'Courier New',monospace\"><span style=\"color: #7fbfbf; text-decoration-color: #7fbfbf\">                    </span><span style=\"color: #000080; text-decoration-color: #000080\">INFO    </span> Loading data from <span style=\"color: #ff8700; text-decoration-color: #ff8700\">olist_geolocation_dataset</span> <span style=\"font-weight: bold\">(</span>CSVDataset<span style=\"font-weight: bold\">)</span><span style=\"color: #808000; text-decoration-color: #808000\">...</span>        <a href=\"file:///home/bruno/Documents/Programming/Programming_projects/olist_project/.venv/lib/python3.11/site-packages/kedro/io/data_catalog.py\" target=\"_blank\"><span style=\"color: #7f7f7f; text-decoration-color: #7f7f7f\">data_catalog.py</span></a><span style=\"color: #7f7f7f; text-decoration-color: #7f7f7f\">:</span><a href=\"file:///home/bruno/Documents/Programming/Programming_projects/olist_project/.venv/lib/python3.11/site-packages/kedro/io/data_catalog.py#389\" target=\"_blank\"><span style=\"color: #7f7f7f; text-decoration-color: #7f7f7f\">389</span></a>\n",
       "</pre>\n"
      ],
      "text/plain": [
       "\u001b[2;36m                   \u001b[0m\u001b[2;36m \u001b[0m\u001b[34mINFO    \u001b[0m Loading data from \u001b[38;5;208molist_geolocation_dataset\u001b[0m \u001b[1m(\u001b[0mCSVDataset\u001b[1m)\u001b[0m\u001b[33m...\u001b[0m        \u001b]8;id=569695;file:///home/bruno/Documents/Programming/Programming_projects/olist_project/.venv/lib/python3.11/site-packages/kedro/io/data_catalog.py\u001b\\\u001b[2mdata_catalog.py\u001b[0m\u001b]8;;\u001b\\\u001b[2m:\u001b[0m\u001b]8;id=480476;file:///home/bruno/Documents/Programming/Programming_projects/olist_project/.venv/lib/python3.11/site-packages/kedro/io/data_catalog.py#389\u001b\\\u001b[2m389\u001b[0m\u001b]8;;\u001b\\\n"
      ]
     },
     "metadata": {},
     "output_type": "display_data"
    },
    {
     "data": {
      "text/html": [
       "<pre style=\"white-space:pre;overflow-x:auto;line-height:normal;font-family:Menlo,'DejaVu Sans Mono',consolas,'Courier New',monospace\"><span style=\"color: #7fbfbf; text-decoration-color: #7fbfbf\">[12/23/24 14:29:24] </span><span style=\"color: #000080; text-decoration-color: #000080\">INFO    </span> Loading data from <span style=\"color: #ff8700; text-decoration-color: #ff8700\">olist_order_items_dataset</span> <span style=\"font-weight: bold\">(</span>CSVDataset<span style=\"font-weight: bold\">)</span><span style=\"color: #808000; text-decoration-color: #808000\">...</span>        <a href=\"file:///home/bruno/Documents/Programming/Programming_projects/olist_project/.venv/lib/python3.11/site-packages/kedro/io/data_catalog.py\" target=\"_blank\"><span style=\"color: #7f7f7f; text-decoration-color: #7f7f7f\">data_catalog.py</span></a><span style=\"color: #7f7f7f; text-decoration-color: #7f7f7f\">:</span><a href=\"file:///home/bruno/Documents/Programming/Programming_projects/olist_project/.venv/lib/python3.11/site-packages/kedro/io/data_catalog.py#389\" target=\"_blank\"><span style=\"color: #7f7f7f; text-decoration-color: #7f7f7f\">389</span></a>\n",
       "</pre>\n"
      ],
      "text/plain": [
       "\u001b[2;36m[12/23/24 14:29:24]\u001b[0m\u001b[2;36m \u001b[0m\u001b[34mINFO    \u001b[0m Loading data from \u001b[38;5;208molist_order_items_dataset\u001b[0m \u001b[1m(\u001b[0mCSVDataset\u001b[1m)\u001b[0m\u001b[33m...\u001b[0m        \u001b]8;id=767156;file:///home/bruno/Documents/Programming/Programming_projects/olist_project/.venv/lib/python3.11/site-packages/kedro/io/data_catalog.py\u001b\\\u001b[2mdata_catalog.py\u001b[0m\u001b]8;;\u001b\\\u001b[2m:\u001b[0m\u001b]8;id=913527;file:///home/bruno/Documents/Programming/Programming_projects/olist_project/.venv/lib/python3.11/site-packages/kedro/io/data_catalog.py#389\u001b\\\u001b[2m389\u001b[0m\u001b]8;;\u001b\\\n"
      ]
     },
     "metadata": {},
     "output_type": "display_data"
    },
    {
     "data": {
      "text/html": [
       "<pre style=\"white-space:pre;overflow-x:auto;line-height:normal;font-family:Menlo,'DejaVu Sans Mono',consolas,'Courier New',monospace\"><span style=\"color: #7fbfbf; text-decoration-color: #7fbfbf\">[12/23/24 14:29:25] </span><span style=\"color: #000080; text-decoration-color: #000080\">INFO    </span> Loading data from <span style=\"color: #ff8700; text-decoration-color: #ff8700\">olist_order_payments_dataset</span> <span style=\"font-weight: bold\">(</span>CSVDataset<span style=\"font-weight: bold\">)</span><span style=\"color: #808000; text-decoration-color: #808000\">...</span>     <a href=\"file:///home/bruno/Documents/Programming/Programming_projects/olist_project/.venv/lib/python3.11/site-packages/kedro/io/data_catalog.py\" target=\"_blank\"><span style=\"color: #7f7f7f; text-decoration-color: #7f7f7f\">data_catalog.py</span></a><span style=\"color: #7f7f7f; text-decoration-color: #7f7f7f\">:</span><a href=\"file:///home/bruno/Documents/Programming/Programming_projects/olist_project/.venv/lib/python3.11/site-packages/kedro/io/data_catalog.py#389\" target=\"_blank\"><span style=\"color: #7f7f7f; text-decoration-color: #7f7f7f\">389</span></a>\n",
       "</pre>\n"
      ],
      "text/plain": [
       "\u001b[2;36m[12/23/24 14:29:25]\u001b[0m\u001b[2;36m \u001b[0m\u001b[34mINFO    \u001b[0m Loading data from \u001b[38;5;208molist_order_payments_dataset\u001b[0m \u001b[1m(\u001b[0mCSVDataset\u001b[1m)\u001b[0m\u001b[33m...\u001b[0m     \u001b]8;id=124688;file:///home/bruno/Documents/Programming/Programming_projects/olist_project/.venv/lib/python3.11/site-packages/kedro/io/data_catalog.py\u001b\\\u001b[2mdata_catalog.py\u001b[0m\u001b]8;;\u001b\\\u001b[2m:\u001b[0m\u001b]8;id=567015;file:///home/bruno/Documents/Programming/Programming_projects/olist_project/.venv/lib/python3.11/site-packages/kedro/io/data_catalog.py#389\u001b\\\u001b[2m389\u001b[0m\u001b]8;;\u001b\\\n"
      ]
     },
     "metadata": {},
     "output_type": "display_data"
    },
    {
     "data": {
      "text/html": [
       "<pre style=\"white-space:pre;overflow-x:auto;line-height:normal;font-family:Menlo,'DejaVu Sans Mono',consolas,'Courier New',monospace\"><span style=\"color: #7fbfbf; text-decoration-color: #7fbfbf\">                    </span><span style=\"color: #000080; text-decoration-color: #000080\">INFO    </span> Loading data from <span style=\"color: #ff8700; text-decoration-color: #ff8700\">olist_order_reviews_dataset</span> <span style=\"font-weight: bold\">(</span>CSVDataset<span style=\"font-weight: bold\">)</span><span style=\"color: #808000; text-decoration-color: #808000\">...</span>      <a href=\"file:///home/bruno/Documents/Programming/Programming_projects/olist_project/.venv/lib/python3.11/site-packages/kedro/io/data_catalog.py\" target=\"_blank\"><span style=\"color: #7f7f7f; text-decoration-color: #7f7f7f\">data_catalog.py</span></a><span style=\"color: #7f7f7f; text-decoration-color: #7f7f7f\">:</span><a href=\"file:///home/bruno/Documents/Programming/Programming_projects/olist_project/.venv/lib/python3.11/site-packages/kedro/io/data_catalog.py#389\" target=\"_blank\"><span style=\"color: #7f7f7f; text-decoration-color: #7f7f7f\">389</span></a>\n",
       "</pre>\n"
      ],
      "text/plain": [
       "\u001b[2;36m                   \u001b[0m\u001b[2;36m \u001b[0m\u001b[34mINFO    \u001b[0m Loading data from \u001b[38;5;208molist_order_reviews_dataset\u001b[0m \u001b[1m(\u001b[0mCSVDataset\u001b[1m)\u001b[0m\u001b[33m...\u001b[0m      \u001b]8;id=947554;file:///home/bruno/Documents/Programming/Programming_projects/olist_project/.venv/lib/python3.11/site-packages/kedro/io/data_catalog.py\u001b\\\u001b[2mdata_catalog.py\u001b[0m\u001b]8;;\u001b\\\u001b[2m:\u001b[0m\u001b]8;id=71309;file:///home/bruno/Documents/Programming/Programming_projects/olist_project/.venv/lib/python3.11/site-packages/kedro/io/data_catalog.py#389\u001b\\\u001b[2m389\u001b[0m\u001b]8;;\u001b\\\n"
      ]
     },
     "metadata": {},
     "output_type": "display_data"
    },
    {
     "data": {
      "text/html": [
       "<pre style=\"white-space:pre;overflow-x:auto;line-height:normal;font-family:Menlo,'DejaVu Sans Mono',consolas,'Courier New',monospace\"><span style=\"color: #7fbfbf; text-decoration-color: #7fbfbf\">                    </span><span style=\"color: #000080; text-decoration-color: #000080\">INFO    </span> Loading data from <span style=\"color: #ff8700; text-decoration-color: #ff8700\">olist_orders_dataset</span> <span style=\"font-weight: bold\">(</span>CSVDataset<span style=\"font-weight: bold\">)</span><span style=\"color: #808000; text-decoration-color: #808000\">...</span>             <a href=\"file:///home/bruno/Documents/Programming/Programming_projects/olist_project/.venv/lib/python3.11/site-packages/kedro/io/data_catalog.py\" target=\"_blank\"><span style=\"color: #7f7f7f; text-decoration-color: #7f7f7f\">data_catalog.py</span></a><span style=\"color: #7f7f7f; text-decoration-color: #7f7f7f\">:</span><a href=\"file:///home/bruno/Documents/Programming/Programming_projects/olist_project/.venv/lib/python3.11/site-packages/kedro/io/data_catalog.py#389\" target=\"_blank\"><span style=\"color: #7f7f7f; text-decoration-color: #7f7f7f\">389</span></a>\n",
       "</pre>\n"
      ],
      "text/plain": [
       "\u001b[2;36m                   \u001b[0m\u001b[2;36m \u001b[0m\u001b[34mINFO    \u001b[0m Loading data from \u001b[38;5;208molist_orders_dataset\u001b[0m \u001b[1m(\u001b[0mCSVDataset\u001b[1m)\u001b[0m\u001b[33m...\u001b[0m             \u001b]8;id=540079;file:///home/bruno/Documents/Programming/Programming_projects/olist_project/.venv/lib/python3.11/site-packages/kedro/io/data_catalog.py\u001b\\\u001b[2mdata_catalog.py\u001b[0m\u001b]8;;\u001b\\\u001b[2m:\u001b[0m\u001b]8;id=615345;file:///home/bruno/Documents/Programming/Programming_projects/olist_project/.venv/lib/python3.11/site-packages/kedro/io/data_catalog.py#389\u001b\\\u001b[2m389\u001b[0m\u001b]8;;\u001b\\\n"
      ]
     },
     "metadata": {},
     "output_type": "display_data"
    },
    {
     "data": {
      "text/html": [
       "<pre style=\"white-space:pre;overflow-x:auto;line-height:normal;font-family:Menlo,'DejaVu Sans Mono',consolas,'Courier New',monospace\"><span style=\"color: #7fbfbf; text-decoration-color: #7fbfbf\">                    </span><span style=\"color: #000080; text-decoration-color: #000080\">INFO    </span> Loading data from <span style=\"color: #ff8700; text-decoration-color: #ff8700\">olist_products_dataset</span> <span style=\"font-weight: bold\">(</span>CSVDataset<span style=\"font-weight: bold\">)</span><span style=\"color: #808000; text-decoration-color: #808000\">...</span>           <a href=\"file:///home/bruno/Documents/Programming/Programming_projects/olist_project/.venv/lib/python3.11/site-packages/kedro/io/data_catalog.py\" target=\"_blank\"><span style=\"color: #7f7f7f; text-decoration-color: #7f7f7f\">data_catalog.py</span></a><span style=\"color: #7f7f7f; text-decoration-color: #7f7f7f\">:</span><a href=\"file:///home/bruno/Documents/Programming/Programming_projects/olist_project/.venv/lib/python3.11/site-packages/kedro/io/data_catalog.py#389\" target=\"_blank\"><span style=\"color: #7f7f7f; text-decoration-color: #7f7f7f\">389</span></a>\n",
       "</pre>\n"
      ],
      "text/plain": [
       "\u001b[2;36m                   \u001b[0m\u001b[2;36m \u001b[0m\u001b[34mINFO    \u001b[0m Loading data from \u001b[38;5;208molist_products_dataset\u001b[0m \u001b[1m(\u001b[0mCSVDataset\u001b[1m)\u001b[0m\u001b[33m...\u001b[0m           \u001b]8;id=996720;file:///home/bruno/Documents/Programming/Programming_projects/olist_project/.venv/lib/python3.11/site-packages/kedro/io/data_catalog.py\u001b\\\u001b[2mdata_catalog.py\u001b[0m\u001b]8;;\u001b\\\u001b[2m:\u001b[0m\u001b]8;id=998702;file:///home/bruno/Documents/Programming/Programming_projects/olist_project/.venv/lib/python3.11/site-packages/kedro/io/data_catalog.py#389\u001b\\\u001b[2m389\u001b[0m\u001b]8;;\u001b\\\n"
      ]
     },
     "metadata": {},
     "output_type": "display_data"
    },
    {
     "data": {
      "text/html": [
       "<pre style=\"white-space:pre;overflow-x:auto;line-height:normal;font-family:Menlo,'DejaVu Sans Mono',consolas,'Courier New',monospace\"><span style=\"color: #7fbfbf; text-decoration-color: #7fbfbf\">                    </span><span style=\"color: #000080; text-decoration-color: #000080\">INFO    </span> Loading data from <span style=\"color: #ff8700; text-decoration-color: #ff8700\">olist_sellers_dataset</span> <span style=\"font-weight: bold\">(</span>CSVDataset<span style=\"font-weight: bold\">)</span><span style=\"color: #808000; text-decoration-color: #808000\">...</span>            <a href=\"file:///home/bruno/Documents/Programming/Programming_projects/olist_project/.venv/lib/python3.11/site-packages/kedro/io/data_catalog.py\" target=\"_blank\"><span style=\"color: #7f7f7f; text-decoration-color: #7f7f7f\">data_catalog.py</span></a><span style=\"color: #7f7f7f; text-decoration-color: #7f7f7f\">:</span><a href=\"file:///home/bruno/Documents/Programming/Programming_projects/olist_project/.venv/lib/python3.11/site-packages/kedro/io/data_catalog.py#389\" target=\"_blank\"><span style=\"color: #7f7f7f; text-decoration-color: #7f7f7f\">389</span></a>\n",
       "</pre>\n"
      ],
      "text/plain": [
       "\u001b[2;36m                   \u001b[0m\u001b[2;36m \u001b[0m\u001b[34mINFO    \u001b[0m Loading data from \u001b[38;5;208molist_sellers_dataset\u001b[0m \u001b[1m(\u001b[0mCSVDataset\u001b[1m)\u001b[0m\u001b[33m...\u001b[0m            \u001b]8;id=348261;file:///home/bruno/Documents/Programming/Programming_projects/olist_project/.venv/lib/python3.11/site-packages/kedro/io/data_catalog.py\u001b\\\u001b[2mdata_catalog.py\u001b[0m\u001b]8;;\u001b\\\u001b[2m:\u001b[0m\u001b]8;id=260430;file:///home/bruno/Documents/Programming/Programming_projects/olist_project/.venv/lib/python3.11/site-packages/kedro/io/data_catalog.py#389\u001b\\\u001b[2m389\u001b[0m\u001b]8;;\u001b\\\n"
      ]
     },
     "metadata": {},
     "output_type": "display_data"
    }
   ],
   "source": [
    "df_customers = catalog.load(\"olist_customers_dataset\")\n",
    "df_geo = (\n",
    "    catalog.load(\"olist_geolocation_dataset\")\n",
    "    .assign(\n",
    "        geolocation_city = lambda df: (\n",
    "            df\n",
    "            .groupby('geolocation_zip_code_prefix')\n",
    "            .geolocation_city.transform('first')\n",
    "            .str.normalize('NFKD')\n",
    "            .str.encode('ascii', errors='ignore')\n",
    "            .str.decode('utf-8')\n",
    "            .str.strip()\n",
    "        ),\n",
    "        geolocation_state = lambda df: (\n",
    "            df\n",
    "            .groupby('geolocation_zip_code_prefix')\n",
    "            .geolocation_state.transform('first')\n",
    "        )\n",
    "    )\n",
    "    .filter(['geolocation_zip_code_prefix', 'geolocation_city','geolocation_state'])\n",
    "    .drop_duplicates()\n",
    ")\n",
    "df_items = catalog.load(\"olist_order_items_dataset\")\n",
    "df_pay = catalog.load(\"olist_order_payments_dataset\")\n",
    "df_rev = catalog.load(\"olist_order_reviews_dataset\")\n",
    "df_orders = catalog.load(\"olist_orders_dataset\")\n",
    "df_prd = catalog.load(\"olist_products_dataset\")\n",
    "df_sel = catalog.load(\"olist_sellers_dataset\")\n"
   ]
  },
  {
   "cell_type": "markdown",
   "metadata": {},
   "source": [
    "# Pagamentos de pedidos"
   ]
  },
  {
   "cell_type": "code",
   "execution_count": 185,
   "metadata": {},
   "outputs": [
    {
     "name": "stdout",
     "output_type": "stream",
     "text": [
      "pode haver mais de um tipo de pagamento por pedido. \n",
      "no geral, esses pedidos com mais de um tipo de pagamento é por que o cliente \n",
      "coloca cupons no momento da compra\n"
     ]
    },
    {
     "data": {
      "text/html": [
       "<pre style=\"white-space:pre;overflow-x:auto;line-height:normal;font-family:Menlo,'DejaVu Sans Mono',consolas,'Courier New',monospace\"></pre>\n"
      ],
      "text/plain": []
     },
     "metadata": {},
     "output_type": "display_data"
    },
    {
     "data": {
      "text/plain": [
       "\n",
       "order_id\n",
       "00010242fe8c5a6d1ba2dd792cb16214    \u001b[1;36m1\u001b[0m\n",
       "aa3d4b2c0fb6da178364768f0d3008f2    \u001b[1;36m1\u001b[0m\n",
       "aa3d230ecbebaa35cea8fe4c24739dbc    \u001b[1;36m1\u001b[0m\n",
       "aa3bb8a5c7740d386e6318f44046ac14    \u001b[1;36m1\u001b[0m\n",
       "aa3babada56030c2ad79976c60d51e79    \u001b[1;36m1\u001b[0m\n",
       "                                   ..\n",
       "6a868efa34dccad934e939877994dafe    \u001b[1;36m2\u001b[0m\n",
       "2dcb16f827ccfc7bff5be2a6deb28bce    \u001b[1;36m2\u001b[0m\n",
       "0c3e2dc4a3eeb282bd4df0b620dcff6d    \u001b[1;36m2\u001b[0m\n",
       "257006b4652ed6214a889913fec6a5ca    \u001b[1;36m2\u001b[0m\n",
       "62b2d948f0d2de4fe48b034bbdedf94c    \u001b[1;36m2\u001b[0m\n",
       "Name: payment_type, Length: \u001b[1;36m99440\u001b[0m, dtype: int64"
      ]
     },
     "metadata": {},
     "output_type": "display_data"
    },
    {
     "name": "stdout",
     "output_type": "stream",
     "text": [
      "por exemplo\n"
     ]
    },
    {
     "data": {
      "text/html": [
       "<pre style=\"white-space:pre;overflow-x:auto;line-height:normal;font-family:Menlo,'DejaVu Sans Mono',consolas,'Courier New',monospace\"></pre>\n"
      ],
      "text/plain": []
     },
     "metadata": {},
     "output_type": "display_data"
    },
    {
     "data": {
      "text/html": [
       "<div>\n",
       "<style scoped>\n",
       "    .dataframe tbody tr th:only-of-type {\n",
       "        vertical-align: middle;\n",
       "    }\n",
       "\n",
       "    .dataframe tbody tr th {\n",
       "        vertical-align: top;\n",
       "    }\n",
       "\n",
       "    .dataframe thead th {\n",
       "        text-align: right;\n",
       "    }\n",
       "</style>\n",
       "<table border=\"1\" class=\"dataframe\">\n",
       "  <thead>\n",
       "    <tr style=\"text-align: right;\">\n",
       "      <th></th>\n",
       "      <th>order_id</th>\n",
       "      <th>payment_sequential</th>\n",
       "      <th>payment_type</th>\n",
       "      <th>payment_installments</th>\n",
       "      <th>payment_value</th>\n",
       "    </tr>\n",
       "  </thead>\n",
       "  <tbody>\n",
       "    <tr>\n",
       "      <th>17668</th>\n",
       "      <td>62b2d948f0d2de4fe48b034bbdedf94c</td>\n",
       "      <td>2</td>\n",
       "      <td>voucher</td>\n",
       "      <td>1</td>\n",
       "      <td>250.00</td>\n",
       "    </tr>\n",
       "    <tr>\n",
       "      <th>59535</th>\n",
       "      <td>62b2d948f0d2de4fe48b034bbdedf94c</td>\n",
       "      <td>1</td>\n",
       "      <td>credit_card</td>\n",
       "      <td>8</td>\n",
       "      <td>87.52</td>\n",
       "    </tr>\n",
       "  </tbody>\n",
       "</table>\n",
       "</div>"
      ],
      "text/plain": [
       "\n",
       "                               order_id  payment_sequential payment_type  \\\n",
       "\u001b[1;36m17668\u001b[0m  62b2d948f0d2de4fe48b034bbdedf94c                   \u001b[1;36m2\u001b[0m      voucher   \n",
       "\u001b[1;36m59535\u001b[0m  62b2d948f0d2de4fe48b034bbdedf94c                   \u001b[1;36m1\u001b[0m  credit_card   \n",
       "\n",
       "       payment_installments  payment_value  \n",
       "\u001b[1;36m17668\u001b[0m                     \u001b[1;36m1\u001b[0m         \u001b[1;36m250.00\u001b[0m  \n",
       "\u001b[1;36m59535\u001b[0m                     \u001b[1;36m8\u001b[0m          \u001b[1;36m87.52\u001b[0m  "
      ]
     },
     "metadata": {},
     "output_type": "display_data"
    }
   ],
   "source": [
    "print(\n",
    "    \"pode haver mais de um tipo de pagamento por pedido. \"\n",
    "    \"\\nno geral, esses pedidos com mais de um tipo de pagamento é por que o cliente \"\n",
    "    \"\\ncoloca cupons no momento da compra\"\n",
    ")\n",
    "display(df_pay.groupby('order_id').payment_type.nunique().sort_values())\n",
    "print(\"por exemplo\")\n",
    "display(df_pay.query('order_id==\"62b2d948f0d2de4fe48b034bbdedf94c\"'))"
   ]
  },
  {
   "cell_type": "code",
   "execution_count": 188,
   "metadata": {},
   "outputs": [
    {
     "name": "stdout",
     "output_type": "stream",
     "text": [
      "mesmo tirando os cupons ainda pode haver mais de um tipo de pagamento por pedido\n"
     ]
    },
    {
     "data": {
      "text/html": [
       "<pre style=\"white-space:pre;overflow-x:auto;line-height:normal;font-family:Menlo,'DejaVu Sans Mono',consolas,'Courier New',monospace\"></pre>\n"
      ],
      "text/plain": []
     },
     "metadata": {},
     "output_type": "display_data"
    },
    {
     "data": {
      "text/plain": [
       "\n",
       "order_id\n",
       "00010242fe8c5a6d1ba2dd792cb16214    \u001b[1;36m1\u001b[0m\n",
       "ab5628545011511727a47e013585705d    \u001b[1;36m1\u001b[0m\n",
       "ab53b19e9f59776c6556ebf49e85a52c    \u001b[1;36m1\u001b[0m\n",
       "ab537f9c58a21747d30d02a43d2763a7    \u001b[1;36m1\u001b[0m\n",
       "ab532e8d49a6cd8848ec641843b39b93    \u001b[1;36m1\u001b[0m\n",
       "                                   ..\n",
       "557de3912df820904b9204e0d1879256    \u001b[1;36m1\u001b[0m\n",
       "557d6978e67b46040feebb5bf50e62d2    \u001b[1;36m1\u001b[0m\n",
       "557cc2675910c4a6c9b54ad276f25097    \u001b[1;36m1\u001b[0m\n",
       "557c1116cc609730b617567dec5790b3    \u001b[1;36m1\u001b[0m\n",
       "a079628ac8002126e75f86b0f87332e4    \u001b[1;36m2\u001b[0m\n",
       "Name: payment_type, Length: \u001b[1;36m97819\u001b[0m, dtype: int64"
      ]
     },
     "metadata": {},
     "output_type": "display_data"
    },
    {
     "name": "stdout",
     "output_type": "stream",
     "text": [
      "mas isso só acontece em um pedido:\n"
     ]
    },
    {
     "data": {
      "text/html": [
       "<pre style=\"white-space:pre;overflow-x:auto;line-height:normal;font-family:Menlo,'DejaVu Sans Mono',consolas,'Courier New',monospace\"></pre>\n"
      ],
      "text/plain": []
     },
     "metadata": {},
     "output_type": "display_data"
    },
    {
     "data": {
      "text/html": [
       "<div>\n",
       "<style scoped>\n",
       "    .dataframe tbody tr th:only-of-type {\n",
       "        vertical-align: middle;\n",
       "    }\n",
       "\n",
       "    .dataframe tbody tr th {\n",
       "        vertical-align: top;\n",
       "    }\n",
       "\n",
       "    .dataframe thead th {\n",
       "        text-align: right;\n",
       "    }\n",
       "</style>\n",
       "<table border=\"1\" class=\"dataframe\">\n",
       "  <thead>\n",
       "    <tr style=\"text-align: right;\">\n",
       "      <th></th>\n",
       "      <th>order_id</th>\n",
       "      <th>payment_sequential</th>\n",
       "      <th>payment_type</th>\n",
       "      <th>payment_installments</th>\n",
       "      <th>payment_value</th>\n",
       "    </tr>\n",
       "  </thead>\n",
       "  <tbody>\n",
       "    <tr>\n",
       "      <th>36471</th>\n",
       "      <td>a079628ac8002126e75f86b0f87332e4</td>\n",
       "      <td>2</td>\n",
       "      <td>debit_card</td>\n",
       "      <td>1</td>\n",
       "      <td>50.00</td>\n",
       "    </tr>\n",
       "    <tr>\n",
       "      <th>10258</th>\n",
       "      <td>a079628ac8002126e75f86b0f87332e4</td>\n",
       "      <td>3</td>\n",
       "      <td>credit_card</td>\n",
       "      <td>3</td>\n",
       "      <td>102.82</td>\n",
       "    </tr>\n",
       "  </tbody>\n",
       "</table>\n",
       "</div>"
      ],
      "text/plain": [
       "\n",
       "                               order_id  payment_sequential payment_type  \\\n",
       "\u001b[1;36m36471\u001b[0m  a079628ac8002126e75f86b0f87332e4                   \u001b[1;36m2\u001b[0m   debit_card   \n",
       "\u001b[1;36m10258\u001b[0m  a079628ac8002126e75f86b0f87332e4                   \u001b[1;36m3\u001b[0m  credit_card   \n",
       "\n",
       "       payment_installments  payment_value  \n",
       "\u001b[1;36m36471\u001b[0m                     \u001b[1;36m1\u001b[0m          \u001b[1;36m50.00\u001b[0m  \n",
       "\u001b[1;36m10258\u001b[0m                     \u001b[1;36m3\u001b[0m         \u001b[1;36m102.82\u001b[0m  "
      ]
     },
     "metadata": {},
     "output_type": "display_data"
    }
   ],
   "source": [
    "\n",
    "print(\n",
    "    \"mesmo tirando os cupons ainda pode haver mais de um tipo de pagamento por pedido\"\n",
    ")\n",
    "display(df_pay.query('payment_type!=\"voucher\"').groupby('order_id').payment_type.nunique().sort_values())\n",
    "print(\"mas isso só acontece em um pedido:\")\n",
    "display(df_pay.query('order_id==\"a079628ac8002126e75f86b0f87332e4\"').sort_values('payment_sequential'))"
   ]
  },
  {
   "cell_type": "markdown",
   "metadata": {},
   "source": [
    "# Review de pedidos"
   ]
  },
  {
   "cell_type": "code",
   "execution_count": null,
   "metadata": {},
   "outputs": [
    {
     "data": {
      "text/html": [
       "<pre style=\"white-space:pre;overflow-x:auto;line-height:normal;font-family:Menlo,'DejaVu Sans Mono',consolas,'Courier New',monospace\"></pre>\n"
      ],
      "text/plain": []
     },
     "metadata": {},
     "output_type": "display_data"
    },
    {
     "data": {
      "text/plain": [
       "\n",
       "order_id\n",
       "c88b1d1b157a9999ce368f218a407141    \u001b[1;36m3\u001b[0m\n",
       "8e17072ec97ce29f0e1f111e598b0c85    \u001b[1;36m3\u001b[0m\n",
       "df56136b8031ecd28e200bb18e6ddb2e    \u001b[1;36m3\u001b[0m\n",
       "03c939fd7fd3b38f8485a0f95798f1f6    \u001b[1;36m3\u001b[0m\n",
       "5cb890a68b91b6158d69257e4e2bc359    \u001b[1;36m2\u001b[0m\n",
       "                                   ..\n",
       "5b4e9a12d219f34f5c2de9f8d620b19d    \u001b[1;36m1\u001b[0m\n",
       "a6da096d974acc000962856d7386448a    \u001b[1;36m1\u001b[0m\n",
       "75e0647c26de647eca3421e9cc66c9da    \u001b[1;36m1\u001b[0m\n",
       "bad0467c52f23cdc71e9fa139d4a8afd    \u001b[1;36m1\u001b[0m\n",
       "90531360ecb1eec2a1fbb265a0db0508    \u001b[1;36m1\u001b[0m\n",
       "Name: count, Length: \u001b[1;36m98673\u001b[0m, dtype: int64"
      ]
     },
     "metadata": {},
     "output_type": "display_data"
    },
    {
     "data": {
      "text/html": [
       "<pre style=\"white-space:pre;overflow-x:auto;line-height:normal;font-family:Menlo,'DejaVu Sans Mono',consolas,'Courier New',monospace\"></pre>\n"
      ],
      "text/plain": []
     },
     "metadata": {},
     "output_type": "display_data"
    },
    {
     "data": {
      "text/html": [
       "<div>\n",
       "<style scoped>\n",
       "    .dataframe tbody tr th:only-of-type {\n",
       "        vertical-align: middle;\n",
       "    }\n",
       "\n",
       "    .dataframe tbody tr th {\n",
       "        vertical-align: top;\n",
       "    }\n",
       "\n",
       "    .dataframe thead th {\n",
       "        text-align: right;\n",
       "    }\n",
       "</style>\n",
       "<table border=\"1\" class=\"dataframe\">\n",
       "  <thead>\n",
       "    <tr style=\"text-align: right;\">\n",
       "      <th></th>\n",
       "      <th>review_id</th>\n",
       "      <th>order_id</th>\n",
       "      <th>review_score</th>\n",
       "      <th>review_comment_title</th>\n",
       "      <th>review_comment_message</th>\n",
       "      <th>review_creation_date</th>\n",
       "      <th>review_answer_timestamp</th>\n",
       "    </tr>\n",
       "  </thead>\n",
       "  <tbody>\n",
       "    <tr>\n",
       "      <th>44694</th>\n",
       "      <td>67c2557eb0bd72e3ece1e03477c9dff5</td>\n",
       "      <td>8e17072ec97ce29f0e1f111e598b0c85</td>\n",
       "      <td>1</td>\n",
       "      <td>NaN</td>\n",
       "      <td>Entregou o produto errado.</td>\n",
       "      <td>2018-04-07 00:00:00</td>\n",
       "      <td>2018-04-08 22:48:27</td>\n",
       "    </tr>\n",
       "    <tr>\n",
       "      <th>64510</th>\n",
       "      <td>2d6ac45f859465b5c185274a1c929637</td>\n",
       "      <td>8e17072ec97ce29f0e1f111e598b0c85</td>\n",
       "      <td>1</td>\n",
       "      <td>NaN</td>\n",
       "      <td>Comprei 3 unidades do produto vieram 2 unidade...</td>\n",
       "      <td>2018-04-07 00:00:00</td>\n",
       "      <td>2018-04-07 21:13:05</td>\n",
       "    </tr>\n",
       "    <tr>\n",
       "      <th>92300</th>\n",
       "      <td>6e4c4086d9611ae4cc0cc65a262751fe</td>\n",
       "      <td>8e17072ec97ce29f0e1f111e598b0c85</td>\n",
       "      <td>1</td>\n",
       "      <td>NaN</td>\n",
       "      <td>Embora tenha entregue dentro do prazo, não env...</td>\n",
       "      <td>2018-04-14 00:00:00</td>\n",
       "      <td>2018-04-16 11:37:31</td>\n",
       "    </tr>\n",
       "  </tbody>\n",
       "</table>\n",
       "</div>"
      ],
      "text/plain": [
       "\n",
       "                              review_id                          order_id  \\\n",
       "\u001b[1;36m44694\u001b[0m  67c2557eb0bd72e3ece1e03477c9dff5  8e17072ec97ce29f0e1f111e598b0c85   \n",
       "\u001b[1;36m64510\u001b[0m  2d6ac45f859465b5c185274a1c929637  8e17072ec97ce29f0e1f111e598b0c85   \n",
       "\u001b[1;36m92300\u001b[0m  6e4c4086d9611ae4cc0cc65a262751fe  8e17072ec97ce29f0e1f111e598b0c85   \n",
       "\n",
       "       review_score review_comment_title  \\\n",
       "\u001b[1;36m44694\u001b[0m             \u001b[1;36m1\u001b[0m                  NaN   \n",
       "\u001b[1;36m64510\u001b[0m             \u001b[1;36m1\u001b[0m                  NaN   \n",
       "\u001b[1;36m92300\u001b[0m             \u001b[1;36m1\u001b[0m                  NaN   \n",
       "\n",
       "                                  review_comment_message review_creation_date  \\\n",
       "\u001b[1;36m44694\u001b[0m                         Entregou o produto errado.  \u001b[1;36m2018\u001b[0m-\u001b[1;36m04\u001b[0m-\u001b[1;36m07\u001b[0m \u001b[1;92m00:00:00\u001b[0m   \n",
       "\u001b[1;36m64510\u001b[0m  Comprei \u001b[1;36m3\u001b[0m unidades do produto vieram \u001b[1;36m2\u001b[0m unidade\u001b[33m...\u001b[0m  \u001b[1;36m2018\u001b[0m-\u001b[1;36m04\u001b[0m-\u001b[1;36m07\u001b[0m \u001b[1;92m00:00:00\u001b[0m   \n",
       "\u001b[1;36m92300\u001b[0m  Embora tenha entregue dentro do prazo, não env\u001b[33m...\u001b[0m  \u001b[1;36m2018\u001b[0m-\u001b[1;36m04\u001b[0m-\u001b[1;36m14\u001b[0m \u001b[1;92m00:00:00\u001b[0m   \n",
       "\n",
       "      review_answer_timestamp  \n",
       "\u001b[1;36m44694\u001b[0m     \u001b[1;36m2018\u001b[0m-\u001b[1;36m04\u001b[0m-\u001b[1;36m08\u001b[0m \u001b[1;92m22:48:27\u001b[0m  \n",
       "\u001b[1;36m64510\u001b[0m     \u001b[1;36m2018\u001b[0m-\u001b[1;36m04\u001b[0m-\u001b[1;36m07\u001b[0m \u001b[1;92m21:13:05\u001b[0m  \n",
       "\u001b[1;36m92300\u001b[0m     \u001b[1;36m2018\u001b[0m-\u001b[1;36m04\u001b[0m-\u001b[1;36m16\u001b[0m \u001b[1;92m11:37:31\u001b[0m  "
      ]
     },
     "execution_count": 160,
     "metadata": {},
     "output_type": "execute_result"
    }
   ],
   "source": [
    "print(\"pode haver mais de um review para cada pedido\")\n",
    "display(df_rev.order_id.value_counts())\n",
    "print(\"por exemplo\")\n",
    "df_rev.query('order_id==\"8e17072ec97ce29f0e1f111e598b0c85\"')"
   ]
  },
  {
   "cell_type": "code",
   "execution_count": 164,
   "metadata": {},
   "outputs": [
    {
     "data": {
      "text/html": [
       "<pre style=\"white-space:pre;overflow-x:auto;line-height:normal;font-family:Menlo,'DejaVu Sans Mono',consolas,'Courier New',monospace\"></pre>\n"
      ],
      "text/plain": []
     },
     "metadata": {},
     "output_type": "display_data"
    },
    {
     "data": {
      "text/html": [
       "<div>\n",
       "<style scoped>\n",
       "    .dataframe tbody tr th:only-of-type {\n",
       "        vertical-align: middle;\n",
       "    }\n",
       "\n",
       "    .dataframe tbody tr th {\n",
       "        vertical-align: top;\n",
       "    }\n",
       "\n",
       "    .dataframe thead th {\n",
       "        text-align: right;\n",
       "    }\n",
       "</style>\n",
       "<table border=\"1\" class=\"dataframe\">\n",
       "  <thead>\n",
       "    <tr style=\"text-align: right;\">\n",
       "      <th></th>\n",
       "      <th>order_id</th>\n",
       "      <th>customer_id</th>\n",
       "      <th>order_status</th>\n",
       "      <th>order_purchase_timestamp</th>\n",
       "      <th>order_approved_at</th>\n",
       "      <th>order_delivered_carrier_date</th>\n",
       "      <th>order_delivered_customer_date</th>\n",
       "      <th>order_estimated_delivery_date</th>\n",
       "      <th>payment_sequential</th>\n",
       "      <th>payment_type</th>\n",
       "      <th>payment_installments</th>\n",
       "      <th>payment_value</th>\n",
       "      <th>_merge</th>\n",
       "    </tr>\n",
       "  </thead>\n",
       "  <tbody>\n",
       "    <tr>\n",
       "      <th>32133</th>\n",
       "      <td>bfbd0f9bdef84302105ad712db648a6c</td>\n",
       "      <td>86dc2ffce2dfff336de2f386a786e574</td>\n",
       "      <td>delivered</td>\n",
       "      <td>2016-09-15 12:16:38</td>\n",
       "      <td>2016-09-15 12:16:38</td>\n",
       "      <td>2016-11-07 17:11:53</td>\n",
       "      <td>2016-11-09 07:47:38</td>\n",
       "      <td>2016-10-04 00:00:00</td>\n",
       "      <td>NaN</td>\n",
       "      <td>NaN</td>\n",
       "      <td>NaN</td>\n",
       "      <td>NaN</td>\n",
       "      <td>left_only</td>\n",
       "    </tr>\n",
       "  </tbody>\n",
       "</table>\n",
       "</div>"
      ],
      "text/plain": [
       "\n",
       "                               order_id                       customer_id  \\\n",
       "\u001b[1;36m32133\u001b[0m  bfbd0f9bdef84302105ad712db648a6c  86dc2ffce2dfff336de2f386a786e574   \n",
       "\n",
       "      order_status order_purchase_timestamp    order_approved_at  \\\n",
       "\u001b[1;36m32133\u001b[0m    delivered      \u001b[1;36m2016\u001b[0m-\u001b[1;36m09\u001b[0m-\u001b[1;36m15\u001b[0m \u001b[1;92m12:16:38\u001b[0m  \u001b[1;36m2016\u001b[0m-\u001b[1;36m09\u001b[0m-\u001b[1;36m15\u001b[0m \u001b[1;92m12:16:38\u001b[0m   \n",
       "\n",
       "      order_delivered_carrier_date order_delivered_customer_date  \\\n",
       "\u001b[1;36m32133\u001b[0m          \u001b[1;36m2016\u001b[0m-\u001b[1;36m11\u001b[0m-\u001b[1;36m07\u001b[0m \u001b[1;92m17:11:53\u001b[0m           \u001b[1;36m2016\u001b[0m-\u001b[1;36m11\u001b[0m-\u001b[1;36m09\u001b[0m \u001b[1;92m07:47:38\u001b[0m   \n",
       "\n",
       "      order_estimated_delivery_date  payment_sequential payment_type  \\\n",
       "\u001b[1;36m32133\u001b[0m           \u001b[1;36m2016\u001b[0m-\u001b[1;36m10\u001b[0m-\u001b[1;36m04\u001b[0m \u001b[1;92m00:00:00\u001b[0m                 NaN          NaN   \n",
       "\n",
       "       payment_installments  payment_value     _merge  \n",
       "\u001b[1;36m32133\u001b[0m                   NaN            NaN  left_only  "
      ]
     },
     "execution_count": 164,
     "metadata": {},
     "output_type": "execute_result"
    }
   ],
   "source": [
    "(\n",
    "    df_orders\n",
    "    .merge(df_pay,\n",
    "           on=['order_id'],\n",
    "           validate='1:m',\n",
    "           how='left',\n",
    "           indicator=True)\n",
    "    # ._merge.value_counts()\n",
    "    .query('_merge!=\"both\"')\n",
    ")"
   ]
  },
  {
   "cell_type": "markdown",
   "metadata": {},
   "source": [
    "# Carrinhos de compras"
   ]
  },
  {
   "cell_type": "code",
   "execution_count": 180,
   "metadata": {},
   "outputs": [
    {
     "name": "stdout",
     "output_type": "stream",
     "text": [
      "pode haver mais de um vendedor em cada pedido\n"
     ]
    },
    {
     "data": {
      "text/html": [
       "<pre style=\"white-space:pre;overflow-x:auto;line-height:normal;font-family:Menlo,'DejaVu Sans Mono',consolas,'Courier New',monospace\"></pre>\n"
      ],
      "text/plain": []
     },
     "metadata": {},
     "output_type": "display_data"
    },
    {
     "data": {
      "text/plain": [
       "\n",
       "order_id\n",
       "00010242fe8c5a6d1ba2dd792cb16214    \u001b[1;36m1\u001b[0m\n",
       "aaaf314a8cf0d0da71e52c6cd4184cbd    \u001b[1;36m1\u001b[0m\n",
       "aaaea350ff8a957595f3c631d6b63d1b    \u001b[1;36m1\u001b[0m\n",
       "aaae80f5b6239bd9e1b22e9aa542c3e8    \u001b[1;36m1\u001b[0m\n",
       "aaabf43feb9498d9de4588eb73231c25    \u001b[1;36m1\u001b[0m\n",
       "                                   ..\n",
       "1d23106803c48c391366ff224513fb7f    \u001b[1;36m4\u001b[0m\n",
       "8c2b13adf3f377c8f2b06b04321b0925    \u001b[1;36m4\u001b[0m\n",
       "91be51c856a90d7efe86cf9d082d6ae3    \u001b[1;36m4\u001b[0m\n",
       "cf5c8d9f52807cb2d2f0a0ff54c478da    \u001b[1;36m5\u001b[0m\n",
       "1c11d0f4353b31ac3417fbfa5f0f2a8a    \u001b[1;36m5\u001b[0m\n",
       "Name: seller_id, Length: \u001b[1;36m98666\u001b[0m, dtype: int64"
      ]
     },
     "metadata": {},
     "output_type": "display_data"
    },
    {
     "name": "stdout",
     "output_type": "stream",
     "text": [
      "por exemplo: \n"
     ]
    },
    {
     "data": {
      "text/html": [
       "<pre style=\"white-space:pre;overflow-x:auto;line-height:normal;font-family:Menlo,'DejaVu Sans Mono',consolas,'Courier New',monospace\"></pre>\n"
      ],
      "text/plain": []
     },
     "metadata": {},
     "output_type": "display_data"
    },
    {
     "data": {
      "text/html": [
       "<div>\n",
       "<style scoped>\n",
       "    .dataframe tbody tr th:only-of-type {\n",
       "        vertical-align: middle;\n",
       "    }\n",
       "\n",
       "    .dataframe tbody tr th {\n",
       "        vertical-align: top;\n",
       "    }\n",
       "\n",
       "    .dataframe thead th {\n",
       "        text-align: right;\n",
       "    }\n",
       "</style>\n",
       "<table border=\"1\" class=\"dataframe\">\n",
       "  <thead>\n",
       "    <tr style=\"text-align: right;\">\n",
       "      <th></th>\n",
       "      <th>order_id</th>\n",
       "      <th>order_item_id</th>\n",
       "      <th>product_id</th>\n",
       "      <th>seller_id</th>\n",
       "      <th>shipping_limit_date</th>\n",
       "      <th>price</th>\n",
       "      <th>freight_value</th>\n",
       "    </tr>\n",
       "  </thead>\n",
       "  <tbody>\n",
       "    <tr>\n",
       "      <th>12378</th>\n",
       "      <td>1c11d0f4353b31ac3417fbfa5f0f2a8a</td>\n",
       "      <td>1</td>\n",
       "      <td>d64738c7b2e2d1778a51e835d8f02568</td>\n",
       "      <td>609e1a9a6c2539919b8205cf7c4e6ff0</td>\n",
       "      <td>2018-02-02 11:31:03</td>\n",
       "      <td>43.90</td>\n",
       "      <td>12.77</td>\n",
       "    </tr>\n",
       "    <tr>\n",
       "      <th>12379</th>\n",
       "      <td>1c11d0f4353b31ac3417fbfa5f0f2a8a</td>\n",
       "      <td>2</td>\n",
       "      <td>a3a10562c9d134b92f04b8cce298d037</td>\n",
       "      <td>822166ed1e47908f7cfb49946d03c726</td>\n",
       "      <td>2018-02-02 11:31:03</td>\n",
       "      <td>22.49</td>\n",
       "      <td>25.54</td>\n",
       "    </tr>\n",
       "    <tr>\n",
       "      <th>12380</th>\n",
       "      <td>1c11d0f4353b31ac3417fbfa5f0f2a8a</td>\n",
       "      <td>3</td>\n",
       "      <td>d80fce9f775927c7d602c2de926759f1</td>\n",
       "      <td>747c1cdcd1737dcfbd1547f6eb6f2cf3</td>\n",
       "      <td>2018-02-02 11:31:03</td>\n",
       "      <td>88.00</td>\n",
       "      <td>12.77</td>\n",
       "    </tr>\n",
       "    <tr>\n",
       "      <th>12381</th>\n",
       "      <td>1c11d0f4353b31ac3417fbfa5f0f2a8a</td>\n",
       "      <td>4</td>\n",
       "      <td>ddbf57e4559f03c003fc3708d4860c5e</td>\n",
       "      <td>1835b56ce799e6a4dc4eddc053f04066</td>\n",
       "      <td>2018-02-02 11:31:03</td>\n",
       "      <td>29.99</td>\n",
       "      <td>12.77</td>\n",
       "    </tr>\n",
       "    <tr>\n",
       "      <th>12382</th>\n",
       "      <td>1c11d0f4353b31ac3417fbfa5f0f2a8a</td>\n",
       "      <td>5</td>\n",
       "      <td>a3a10562c9d134b92f04b8cce298d037</td>\n",
       "      <td>822166ed1e47908f7cfb49946d03c726</td>\n",
       "      <td>2018-02-02 11:31:03</td>\n",
       "      <td>22.49</td>\n",
       "      <td>25.54</td>\n",
       "    </tr>\n",
       "    <tr>\n",
       "      <th>12383</th>\n",
       "      <td>1c11d0f4353b31ac3417fbfa5f0f2a8a</td>\n",
       "      <td>6</td>\n",
       "      <td>d3a386ad58b99f0ddcc216ed9efb03c3</td>\n",
       "      <td>609e1a9a6c2539919b8205cf7c4e6ff0</td>\n",
       "      <td>2018-02-02 11:31:03</td>\n",
       "      <td>43.90</td>\n",
       "      <td>12.77</td>\n",
       "    </tr>\n",
       "    <tr>\n",
       "      <th>12384</th>\n",
       "      <td>1c11d0f4353b31ac3417fbfa5f0f2a8a</td>\n",
       "      <td>7</td>\n",
       "      <td>61b6e5d2e3ee58d2b341b8ef1a652b26</td>\n",
       "      <td>c7fdb77fdbff3c41981bc52f787e959e</td>\n",
       "      <td>2018-02-02 11:31:03</td>\n",
       "      <td>56.00</td>\n",
       "      <td>12.77</td>\n",
       "    </tr>\n",
       "  </tbody>\n",
       "</table>\n",
       "</div>"
      ],
      "text/plain": [
       "\n",
       "                               order_id  order_item_id  \\\n",
       "\u001b[1;36m12378\u001b[0m  1c11d0f4353b31ac3417fbfa5f0f2a8a              \u001b[1;36m1\u001b[0m   \n",
       "\u001b[1;36m12379\u001b[0m  1c11d0f4353b31ac3417fbfa5f0f2a8a              \u001b[1;36m2\u001b[0m   \n",
       "\u001b[1;36m12380\u001b[0m  1c11d0f4353b31ac3417fbfa5f0f2a8a              \u001b[1;36m3\u001b[0m   \n",
       "\u001b[1;36m12381\u001b[0m  1c11d0f4353b31ac3417fbfa5f0f2a8a              \u001b[1;36m4\u001b[0m   \n",
       "\u001b[1;36m12382\u001b[0m  1c11d0f4353b31ac3417fbfa5f0f2a8a              \u001b[1;36m5\u001b[0m   \n",
       "\u001b[1;36m12383\u001b[0m  1c11d0f4353b31ac3417fbfa5f0f2a8a              \u001b[1;36m6\u001b[0m   \n",
       "\u001b[1;36m12384\u001b[0m  1c11d0f4353b31ac3417fbfa5f0f2a8a              \u001b[1;36m7\u001b[0m   \n",
       "\n",
       "                             product_id                         seller_id  \\\n",
       "\u001b[1;36m12378\u001b[0m  d64738c7b2e2d1778a51e835d8f02568  609e1a9a6c2539919b8205cf7c4e6ff0   \n",
       "\u001b[1;36m12379\u001b[0m  a3a10562c9d134b92f04b8cce298d037  822166ed1e47908f7cfb49946d03c726   \n",
       "\u001b[1;36m12380\u001b[0m  d80fce9f775927c7d602c2de926759f1  747c1cdcd1737dcfbd1547f6eb6f2cf3   \n",
       "\u001b[1;36m12381\u001b[0m  ddbf57e4559f03c003fc3708d4860c5e  1835b56ce799e6a4dc4eddc053f04066   \n",
       "\u001b[1;36m12382\u001b[0m  a3a10562c9d134b92f04b8cce298d037  822166ed1e47908f7cfb49946d03c726   \n",
       "\u001b[1;36m12383\u001b[0m  d3a386ad58b99f0ddcc216ed9efb03c3  609e1a9a6c2539919b8205cf7c4e6ff0   \n",
       "\u001b[1;36m12384\u001b[0m  61b6e5d2e3ee58d2b341b8ef1a652b26  c7fdb77fdbff3c41981bc52f787e959e   \n",
       "\n",
       "       shipping_limit_date  price  freight_value  \n",
       "\u001b[1;36m12378\u001b[0m  \u001b[1;36m2018\u001b[0m-\u001b[1;36m02\u001b[0m-\u001b[1;36m02\u001b[0m \u001b[1;92m11:31:03\u001b[0m  \u001b[1;36m43.90\u001b[0m          \u001b[1;36m12.77\u001b[0m  \n",
       "\u001b[1;36m12379\u001b[0m  \u001b[1;36m2018\u001b[0m-\u001b[1;36m02\u001b[0m-\u001b[1;36m02\u001b[0m \u001b[1;92m11:31:03\u001b[0m  \u001b[1;36m22.49\u001b[0m          \u001b[1;36m25.54\u001b[0m  \n",
       "\u001b[1;36m12380\u001b[0m  \u001b[1;36m2018\u001b[0m-\u001b[1;36m02\u001b[0m-\u001b[1;36m02\u001b[0m \u001b[1;92m11:31:03\u001b[0m  \u001b[1;36m88.00\u001b[0m          \u001b[1;36m12.77\u001b[0m  \n",
       "\u001b[1;36m12381\u001b[0m  \u001b[1;36m2018\u001b[0m-\u001b[1;36m02\u001b[0m-\u001b[1;36m02\u001b[0m \u001b[1;92m11:31:03\u001b[0m  \u001b[1;36m29.99\u001b[0m          \u001b[1;36m12.77\u001b[0m  \n",
       "\u001b[1;36m12382\u001b[0m  \u001b[1;36m2018\u001b[0m-\u001b[1;36m02\u001b[0m-\u001b[1;36m02\u001b[0m \u001b[1;92m11:31:03\u001b[0m  \u001b[1;36m22.49\u001b[0m          \u001b[1;36m25.54\u001b[0m  \n",
       "\u001b[1;36m12383\u001b[0m  \u001b[1;36m2018\u001b[0m-\u001b[1;36m02\u001b[0m-\u001b[1;36m02\u001b[0m \u001b[1;92m11:31:03\u001b[0m  \u001b[1;36m43.90\u001b[0m          \u001b[1;36m12.77\u001b[0m  \n",
       "\u001b[1;36m12384\u001b[0m  \u001b[1;36m2018\u001b[0m-\u001b[1;36m02\u001b[0m-\u001b[1;36m02\u001b[0m \u001b[1;92m11:31:03\u001b[0m  \u001b[1;36m56.00\u001b[0m          \u001b[1;36m12.77\u001b[0m  "
      ]
     },
     "metadata": {},
     "output_type": "display_data"
    },
    {
     "name": "stdout",
     "output_type": "stream",
     "text": [
      "Mas para cada produto em um pedido há apenas um único vendedor :\n"
     ]
    },
    {
     "data": {
      "text/html": [
       "<pre style=\"white-space:pre;overflow-x:auto;line-height:normal;font-family:Menlo,'DejaVu Sans Mono',consolas,'Courier New',monospace\"></pre>\n"
      ],
      "text/plain": []
     },
     "metadata": {},
     "output_type": "display_data"
    },
    {
     "data": {
      "text/plain": [
       "\n",
       "order_id                          product_id                      \n",
       "00010242fe8c5a6d1ba2dd792cb16214  4244733e06e7ecb4970a6e2683c13e61    \u001b[1;36m1\u001b[0m\n",
       "ab5048879a15f9f713725c37c5eb43ef  adae758556f8338f07f3064736416064    \u001b[1;36m1\u001b[0m\n",
       "ab500cb1d60a0e2ae7ce02ef4e8236d9  8473872cbf0ba205b447e8651bd6e03e    \u001b[1;36m1\u001b[0m\n",
       "ab4fc7cc026a9ea1a616584f9cfe4b9a  bb6b6e173472747c5b94c0b72c4fe56c    \u001b[1;36m1\u001b[0m\n",
       "ab4f963cf3f826eda5b1b000a7af4de8  1279fba7025d91dadde108559a8d0485    \u001b[1;36m1\u001b[0m\n",
       "                                                                     ..\n",
       "556689f3e30f4662d3ec219bdc556b93  915ff35b0555b98fe64bc60674da4c43    \u001b[1;36m1\u001b[0m\n",
       "5564c14d026bf6c92241f070bb98fb5b  b84c4c7f1845f068f40e350865b803fa    \u001b[1;36m1\u001b[0m\n",
       "5561adcb0fd46da4cad3048fa4e7fc00  4d071a22b9cc548b64a75075a4c63151    \u001b[1;36m1\u001b[0m\n",
       "556bb5c8ecb64be5ee1ee039d4376432  f5d5fa2bc95883494c61ae05a351348a    \u001b[1;36m1\u001b[0m\n",
       "fffe41c64501cc87c801fd61db3f6244  350688d9dc1e75ff97be326363655e01    \u001b[1;36m1\u001b[0m\n",
       "Name: seller_id, Length: \u001b[1;36m102425\u001b[0m, dtype: int64"
      ]
     },
     "metadata": {},
     "output_type": "display_data"
    }
   ],
   "source": [
    "print('pode haver mais de um vendedor em cada pedido')\n",
    "display(\n",
    "    df_items\n",
    "    .groupby('order_id').seller_id.nunique()\n",
    "    .sort_values()\n",
    ")\n",
    "print(\"por exemplo: \")\n",
    "display(df_items.query('order_id==\"1c11d0f4353b31ac3417fbfa5f0f2a8a\" '))\n",
    "\n",
    "print(\"Mas para cada produto em um pedido há apenas um único vendedor :\")\n",
    "display(\n",
    "    df_items\n",
    "    .groupby(['order_id','product_id']).seller_id.nunique()\n",
    "    .sort_values()\n",
    ")"
   ]
  },
  {
   "cell_type": "code",
   "execution_count": null,
   "metadata": {},
   "outputs": [],
   "source": [
    "\n",
    "df_order_prd_seller = (\n",
    "    df_items\n",
    "    .merge(df_prd,\n",
    "           on=['product_id'],\n",
    "           validate='m:1',\n",
    "           how='left',\n",
    "           indicator=True)\n",
    "    .rename(columns={'_merge':'_merge_itm_prd'})\n",
    ")\n",
    "\n",
    "assert all(df_order_prd_seller._merge_itm_prd==\"both\")\n",
    "# o dataset resultante deve ter o mesmo tamnho \n",
    "assert len(df_order_prd_seller) == len(df_items)"
   ]
  },
  {
   "cell_type": "markdown",
   "metadata": {},
   "source": [
    "# Clientes"
   ]
  },
  {
   "cell_type": "code",
   "execution_count": 202,
   "metadata": {},
   "outputs": [
    {
     "name": "stdout",
     "output_type": "stream",
     "text": [
      "só existem 1 customer_id por linha na base\n"
     ]
    },
    {
     "data": {
      "text/html": [
       "<pre style=\"white-space:pre;overflow-x:auto;line-height:normal;font-family:Menlo,'DejaVu Sans Mono',consolas,'Courier New',monospace\"></pre>\n"
      ],
      "text/plain": []
     },
     "metadata": {},
     "output_type": "display_data"
    },
    {
     "data": {
      "text/plain": [
       "\n",
       "customer_id\n",
       "06b8999e2fba1a1fbc88172c00ba8bc7    \u001b[1;36m1\u001b[0m\n",
       "c023f30c1147aeb0358474f3b1dbc707    \u001b[1;36m1\u001b[0m\n",
       "b5cbf43f42281920a175fc99650c91d6    \u001b[1;36m1\u001b[0m\n",
       "19f4e983f8f05b7de16670f8a0cf0ac7    \u001b[1;36m1\u001b[0m\n",
       "229ac14c6ee6d6a606264ebcc861beb7    \u001b[1;36m1\u001b[0m\n",
       "                                   ..\n",
       "31665bd5bc542687ab54c9fd9ed9917b    \u001b[1;36m1\u001b[0m\n",
       "37fb9cce079a4887c96b59bae2011d05    \u001b[1;36m1\u001b[0m\n",
       "1d815f3ad9b2017b6da2c4f1cbb1180b    \u001b[1;36m1\u001b[0m\n",
       "6b05c8f3a25a71005d5eb9b51766c333    \u001b[1;36m1\u001b[0m\n",
       "274fa6071e5e17fe303b9748641082c8    \u001b[1;36m1\u001b[0m\n",
       "Name: count, Length: \u001b[1;36m99441\u001b[0m, dtype: int64"
      ]
     },
     "metadata": {},
     "output_type": "display_data"
    },
    {
     "name": "stdout",
     "output_type": "stream",
     "text": [
      "Mas podem ter vários customer_unique_id para cada linha\n"
     ]
    },
    {
     "data": {
      "text/html": [
       "<pre style=\"white-space:pre;overflow-x:auto;line-height:normal;font-family:Menlo,'DejaVu Sans Mono',consolas,'Courier New',monospace\"></pre>\n"
      ],
      "text/plain": []
     },
     "metadata": {},
     "output_type": "display_data"
    },
    {
     "data": {
      "text/plain": [
       "\n",
       "customer_unique_id\n",
       "8d50f5eadf50201ccdcedfb9e2ac8455    \u001b[1;36m17\u001b[0m\n",
       "3e43e6105506432c953e165fb2acf44c     \u001b[1;36m9\u001b[0m\n",
       "1b6c7548a2a1f9037c1fd3ddfed95f33     \u001b[1;36m7\u001b[0m\n",
       "ca77025e7201e3b30c44b472ff346268     \u001b[1;36m7\u001b[0m\n",
       "6469f99c1f9dfae7733b25662e7f1782     \u001b[1;36m7\u001b[0m\n",
       "                                    ..\n",
       "081f07439678af2da7755a0aa572154d     \u001b[1;36m1\u001b[0m\n",
       "9c57789a6a587f4efcfb01e36c106014     \u001b[1;36m1\u001b[0m\n",
       "9e4c21635f640562de1a6976374fba03     \u001b[1;36m1\u001b[0m\n",
       "06c0ea6ee892364d1608ee47aa9f56a0     \u001b[1;36m1\u001b[0m\n",
       "84732c5050c01db9b23e19ba39899398     \u001b[1;36m1\u001b[0m\n",
       "Name: count, Length: \u001b[1;36m96096\u001b[0m, dtype: int64"
      ]
     },
     "metadata": {},
     "output_type": "display_data"
    },
    {
     "name": "stdout",
     "output_type": "stream",
     "text": [
      "por exemplo:\n"
     ]
    },
    {
     "data": {
      "text/html": [
       "<pre style=\"white-space:pre;overflow-x:auto;line-height:normal;font-family:Menlo,'DejaVu Sans Mono',consolas,'Courier New',monospace\"></pre>\n"
      ],
      "text/plain": []
     },
     "metadata": {},
     "output_type": "display_data"
    },
    {
     "data": {
      "text/html": [
       "<div>\n",
       "<style scoped>\n",
       "    .dataframe tbody tr th:only-of-type {\n",
       "        vertical-align: middle;\n",
       "    }\n",
       "\n",
       "    .dataframe tbody tr th {\n",
       "        vertical-align: top;\n",
       "    }\n",
       "\n",
       "    .dataframe thead th {\n",
       "        text-align: right;\n",
       "    }\n",
       "</style>\n",
       "<table border=\"1\" class=\"dataframe\">\n",
       "  <thead>\n",
       "    <tr style=\"text-align: right;\">\n",
       "      <th></th>\n",
       "      <th>customer_id</th>\n",
       "      <th>customer_unique_id</th>\n",
       "      <th>customer_zip_code_prefix</th>\n",
       "      <th>customer_city</th>\n",
       "      <th>customer_state</th>\n",
       "    </tr>\n",
       "  </thead>\n",
       "  <tbody>\n",
       "    <tr>\n",
       "      <th>14186</th>\n",
       "      <td>1bd3585471932167ab72a84955ebefea</td>\n",
       "      <td>8d50f5eadf50201ccdcedfb9e2ac8455</td>\n",
       "      <td>4045</td>\n",
       "      <td>sao paulo</td>\n",
       "      <td>SP</td>\n",
       "    </tr>\n",
       "    <tr>\n",
       "      <th>15321</th>\n",
       "      <td>a8fabc805e9a10a3c93ae5bff642b86b</td>\n",
       "      <td>8d50f5eadf50201ccdcedfb9e2ac8455</td>\n",
       "      <td>4045</td>\n",
       "      <td>sao paulo</td>\n",
       "      <td>SP</td>\n",
       "    </tr>\n",
       "    <tr>\n",
       "      <th>16654</th>\n",
       "      <td>897b7f72042714efaa64ac306ba0cafc</td>\n",
       "      <td>8d50f5eadf50201ccdcedfb9e2ac8455</td>\n",
       "      <td>4045</td>\n",
       "      <td>sao paulo</td>\n",
       "      <td>SP</td>\n",
       "    </tr>\n",
       "    <tr>\n",
       "      <th>36122</th>\n",
       "      <td>b2b13de0770e06de50080fea77c459e6</td>\n",
       "      <td>8d50f5eadf50201ccdcedfb9e2ac8455</td>\n",
       "      <td>4045</td>\n",
       "      <td>sao paulo</td>\n",
       "      <td>SP</td>\n",
       "    </tr>\n",
       "    <tr>\n",
       "      <th>38073</th>\n",
       "      <td>42dbc1ad9d560637c9c4c1533746f86d</td>\n",
       "      <td>8d50f5eadf50201ccdcedfb9e2ac8455</td>\n",
       "      <td>4045</td>\n",
       "      <td>sao paulo</td>\n",
       "      <td>SP</td>\n",
       "    </tr>\n",
       "    <tr>\n",
       "      <th>40141</th>\n",
       "      <td>dfb941d6f7b02f57a44c3b7c3fefb44b</td>\n",
       "      <td>8d50f5eadf50201ccdcedfb9e2ac8455</td>\n",
       "      <td>4045</td>\n",
       "      <td>sao paulo</td>\n",
       "      <td>SP</td>\n",
       "    </tr>\n",
       "    <tr>\n",
       "      <th>48614</th>\n",
       "      <td>65f9db9dd07a4e79b625effa4c868fcb</td>\n",
       "      <td>8d50f5eadf50201ccdcedfb9e2ac8455</td>\n",
       "      <td>4045</td>\n",
       "      <td>sao paulo</td>\n",
       "      <td>SP</td>\n",
       "    </tr>\n",
       "    <tr>\n",
       "      <th>52574</th>\n",
       "      <td>1c62b48fb34ee043310dcb233caabd2e</td>\n",
       "      <td>8d50f5eadf50201ccdcedfb9e2ac8455</td>\n",
       "      <td>4045</td>\n",
       "      <td>sao paulo</td>\n",
       "      <td>SP</td>\n",
       "    </tr>\n",
       "    <tr>\n",
       "      <th>58707</th>\n",
       "      <td>a682769c4bc10fc6ef2101337a6c83c9</td>\n",
       "      <td>8d50f5eadf50201ccdcedfb9e2ac8455</td>\n",
       "      <td>4045</td>\n",
       "      <td>sao paulo</td>\n",
       "      <td>SP</td>\n",
       "    </tr>\n",
       "    <tr>\n",
       "      <th>67996</th>\n",
       "      <td>6289b75219d757a56c0cce8d9e427900</td>\n",
       "      <td>8d50f5eadf50201ccdcedfb9e2ac8455</td>\n",
       "      <td>4045</td>\n",
       "      <td>sao paulo</td>\n",
       "      <td>SP</td>\n",
       "    </tr>\n",
       "    <tr>\n",
       "      <th>72745</th>\n",
       "      <td>3414a9c813e3ca02504b8be8b2deb27f</td>\n",
       "      <td>8d50f5eadf50201ccdcedfb9e2ac8455</td>\n",
       "      <td>4045</td>\n",
       "      <td>sao paulo</td>\n",
       "      <td>SP</td>\n",
       "    </tr>\n",
       "    <tr>\n",
       "      <th>74510</th>\n",
       "      <td>0e4fdc084a6b9329ed55d62dcd653ccf</td>\n",
       "      <td>8d50f5eadf50201ccdcedfb9e2ac8455</td>\n",
       "      <td>4045</td>\n",
       "      <td>sao paulo</td>\n",
       "      <td>SP</td>\n",
       "    </tr>\n",
       "    <tr>\n",
       "      <th>83363</th>\n",
       "      <td>f5188d99e9281e214a4a7d1b139a8229</td>\n",
       "      <td>8d50f5eadf50201ccdcedfb9e2ac8455</td>\n",
       "      <td>4045</td>\n",
       "      <td>sao paulo</td>\n",
       "      <td>SP</td>\n",
       "    </tr>\n",
       "    <tr>\n",
       "      <th>85507</th>\n",
       "      <td>89be66634d68fa73a95499b6352e085d</td>\n",
       "      <td>8d50f5eadf50201ccdcedfb9e2ac8455</td>\n",
       "      <td>4045</td>\n",
       "      <td>sao paulo</td>\n",
       "      <td>SP</td>\n",
       "    </tr>\n",
       "    <tr>\n",
       "      <th>90268</th>\n",
       "      <td>0bf8bf19944a7f8b40ba86fef778ca7c</td>\n",
       "      <td>8d50f5eadf50201ccdcedfb9e2ac8455</td>\n",
       "      <td>4045</td>\n",
       "      <td>sao paulo</td>\n",
       "      <td>SP</td>\n",
       "    </tr>\n",
       "    <tr>\n",
       "      <th>93591</th>\n",
       "      <td>9a1afef458843a022e431f4cb304dfe9</td>\n",
       "      <td>8d50f5eadf50201ccdcedfb9e2ac8455</td>\n",
       "      <td>4045</td>\n",
       "      <td>sao paulo</td>\n",
       "      <td>SP</td>\n",
       "    </tr>\n",
       "    <tr>\n",
       "      <th>96652</th>\n",
       "      <td>31dd055624c66f291578297a551a6cdf</td>\n",
       "      <td>8d50f5eadf50201ccdcedfb9e2ac8455</td>\n",
       "      <td>4045</td>\n",
       "      <td>sao paulo</td>\n",
       "      <td>SP</td>\n",
       "    </tr>\n",
       "  </tbody>\n",
       "</table>\n",
       "</div>"
      ],
      "text/plain": [
       "\n",
       "                            customer_id                customer_unique_id  \\\n",
       "\u001b[1;36m14186\u001b[0m  1bd3585471932167ab72a84955ebefea  8d50f5eadf50201ccdcedfb9e2ac8455   \n",
       "\u001b[1;36m15321\u001b[0m  a8fabc805e9a10a3c93ae5bff642b86b  8d50f5eadf50201ccdcedfb9e2ac8455   \n",
       "\u001b[1;36m16654\u001b[0m  897b7f72042714efaa64ac306ba0cafc  8d50f5eadf50201ccdcedfb9e2ac8455   \n",
       "\u001b[1;36m36122\u001b[0m  b2b13de0770e06de50080fea77c459e6  8d50f5eadf50201ccdcedfb9e2ac8455   \n",
       "\u001b[1;36m38073\u001b[0m  42dbc1ad9d560637c9c4c1533746f86d  8d50f5eadf50201ccdcedfb9e2ac8455   \n",
       "\u001b[1;36m40141\u001b[0m  dfb941d6f7b02f57a44c3b7c3fefb44b  8d50f5eadf50201ccdcedfb9e2ac8455   \n",
       "\u001b[1;36m48614\u001b[0m  65f9db9dd07a4e79b625effa4c868fcb  8d50f5eadf50201ccdcedfb9e2ac8455   \n",
       "\u001b[1;36m52574\u001b[0m  1c62b48fb34ee043310dcb233caabd2e  8d50f5eadf50201ccdcedfb9e2ac8455   \n",
       "\u001b[1;36m58707\u001b[0m  a682769c4bc10fc6ef2101337a6c83c9  8d50f5eadf50201ccdcedfb9e2ac8455   \n",
       "\u001b[1;36m67996\u001b[0m  6289b75219d757a56c0cce8d9e427900  8d50f5eadf50201ccdcedfb9e2ac8455   \n",
       "\u001b[1;36m72745\u001b[0m  3414a9c813e3ca02504b8be8b2deb27f  8d50f5eadf50201ccdcedfb9e2ac8455   \n",
       "\u001b[1;36m74510\u001b[0m  0e4fdc084a6b9329ed55d62dcd653ccf  8d50f5eadf50201ccdcedfb9e2ac8455   \n",
       "\u001b[1;36m83363\u001b[0m  f5188d99e9281e214a4a7d1b139a8229  8d50f5eadf50201ccdcedfb9e2ac8455   \n",
       "\u001b[1;36m85507\u001b[0m  89be66634d68fa73a95499b6352e085d  8d50f5eadf50201ccdcedfb9e2ac8455   \n",
       "\u001b[1;36m90268\u001b[0m  0bf8bf19944a7f8b40ba86fef778ca7c  8d50f5eadf50201ccdcedfb9e2ac8455   \n",
       "\u001b[1;36m93591\u001b[0m  9a1afef458843a022e431f4cb304dfe9  8d50f5eadf50201ccdcedfb9e2ac8455   \n",
       "\u001b[1;36m96652\u001b[0m  31dd055624c66f291578297a551a6cdf  8d50f5eadf50201ccdcedfb9e2ac8455   \n",
       "\n",
       "       customer_zip_code_prefix customer_city customer_state  \n",
       "\u001b[1;36m14186\u001b[0m                      \u001b[1;36m4045\u001b[0m     sao paulo             SP  \n",
       "\u001b[1;36m15321\u001b[0m                      \u001b[1;36m4045\u001b[0m     sao paulo             SP  \n",
       "\u001b[1;36m16654\u001b[0m                      \u001b[1;36m4045\u001b[0m     sao paulo             SP  \n",
       "\u001b[1;36m36122\u001b[0m                      \u001b[1;36m4045\u001b[0m     sao paulo             SP  \n",
       "\u001b[1;36m38073\u001b[0m                      \u001b[1;36m4045\u001b[0m     sao paulo             SP  \n",
       "\u001b[1;36m40141\u001b[0m                      \u001b[1;36m4045\u001b[0m     sao paulo             SP  \n",
       "\u001b[1;36m48614\u001b[0m                      \u001b[1;36m4045\u001b[0m     sao paulo             SP  \n",
       "\u001b[1;36m52574\u001b[0m                      \u001b[1;36m4045\u001b[0m     sao paulo             SP  \n",
       "\u001b[1;36m58707\u001b[0m                      \u001b[1;36m4045\u001b[0m     sao paulo             SP  \n",
       "\u001b[1;36m67996\u001b[0m                      \u001b[1;36m4045\u001b[0m     sao paulo             SP  \n",
       "\u001b[1;36m72745\u001b[0m                      \u001b[1;36m4045\u001b[0m     sao paulo             SP  \n",
       "\u001b[1;36m74510\u001b[0m                      \u001b[1;36m4045\u001b[0m     sao paulo             SP  \n",
       "\u001b[1;36m83363\u001b[0m                      \u001b[1;36m4045\u001b[0m     sao paulo             SP  \n",
       "\u001b[1;36m85507\u001b[0m                      \u001b[1;36m4045\u001b[0m     sao paulo             SP  \n",
       "\u001b[1;36m90268\u001b[0m                      \u001b[1;36m4045\u001b[0m     sao paulo             SP  \n",
       "\u001b[1;36m93591\u001b[0m                      \u001b[1;36m4045\u001b[0m     sao paulo             SP  \n",
       "\u001b[1;36m96652\u001b[0m                      \u001b[1;36m4045\u001b[0m     sao paulo             SP  "
      ]
     },
     "metadata": {},
     "output_type": "display_data"
    }
   ],
   "source": [
    "print(\"só existem 1 customer_id por linha na base\")\n",
    "display(df_customers.customer_id.value_counts())\n",
    "print(\"Mas podem ter vários customer_unique_id para cada linha\")\n",
    "display(df_customers.customer_unique_id.value_counts())\n",
    "print(\"por exemplo:\")\n",
    "display(df_customers.query(\"customer_unique_id=='8d50f5eadf50201ccdcedfb9e2ac8455'\"))"
   ]
  },
  {
   "cell_type": "code",
   "execution_count": 222,
   "metadata": {},
   "outputs": [
    {
     "name": "stdout",
     "output_type": "stream",
     "text": [
      "as informações de um customer_unique_id mudam em diferentes linhas? \n"
     ]
    },
    {
     "data": {
      "text/html": [
       "<pre style=\"white-space:pre;overflow-x:auto;line-height:normal;font-family:Menlo,'DejaVu Sans Mono',consolas,'Courier New',monospace\"></pre>\n"
      ],
      "text/plain": []
     },
     "metadata": {},
     "output_type": "display_data"
    },
    {
     "data": {
      "text/plain": [
       "\n",
       "customer_unique_id\n",
       "0000366f3b9a7992bf8c76cfdf3221e2    \u001b[1;36m3\u001b[0m\n",
       "aa53470c30cfd5c372dd45a57203e529    \u001b[1;36m3\u001b[0m\n",
       "aa514cd67b53c21de47c7dc5972555e7    \u001b[1;36m3\u001b[0m\n",
       "aa5014f5a39d8869707206c78f15ba07    \u001b[1;36m3\u001b[0m\n",
       "aa4fc6bd5cf9d541b5a808cdada1301c    \u001b[1;36m3\u001b[0m\n",
       "                                   ..\n",
       "ee4a5dab94b427525ea24bc30d4442fb    \u001b[1;36m6\u001b[0m\n",
       "8c21dd8c37144807c601f99f2a209dfb    \u001b[1;36m6\u001b[0m\n",
       "2c45ab66a3dae52960147e76a35740ff    \u001b[1;36m6\u001b[0m\n",
       "b9badb100ff8ecc16a403111209e3a06    \u001b[1;36m7\u001b[0m\n",
       "d44ccec15f5f86d14d6a2cfa67da1975    \u001b[1;36m9\u001b[0m\n",
       "Length: \u001b[1;36m96096\u001b[0m, dtype: int64"
      ]
     },
     "metadata": {},
     "output_type": "display_data"
    },
    {
     "name": "stdout",
     "output_type": "stream",
     "text": [
      "Sim, 0.26% mudam. Por exemplo:\n"
     ]
    },
    {
     "data": {
      "text/html": [
       "<pre style=\"white-space:pre;overflow-x:auto;line-height:normal;font-family:Menlo,'DejaVu Sans Mono',consolas,'Courier New',monospace\"></pre>\n"
      ],
      "text/plain": []
     },
     "metadata": {},
     "output_type": "display_data"
    },
    {
     "data": {
      "text/html": [
       "<div>\n",
       "<style scoped>\n",
       "    .dataframe tbody tr th:only-of-type {\n",
       "        vertical-align: middle;\n",
       "    }\n",
       "\n",
       "    .dataframe tbody tr th {\n",
       "        vertical-align: top;\n",
       "    }\n",
       "\n",
       "    .dataframe thead th {\n",
       "        text-align: right;\n",
       "    }\n",
       "</style>\n",
       "<table border=\"1\" class=\"dataframe\">\n",
       "  <thead>\n",
       "    <tr style=\"text-align: right;\">\n",
       "      <th></th>\n",
       "      <th>customer_id</th>\n",
       "      <th>customer_unique_id</th>\n",
       "      <th>customer_zip_code_prefix</th>\n",
       "      <th>customer_city</th>\n",
       "      <th>customer_state</th>\n",
       "    </tr>\n",
       "  </thead>\n",
       "  <tbody>\n",
       "    <tr>\n",
       "      <th>45851</th>\n",
       "      <td>844a7e5d2737f2f6667a5242486cbcb1</td>\n",
       "      <td>d44ccec15f5f86d14d6a2cfa67da1975</td>\n",
       "      <td>3533</td>\n",
       "      <td>sao paulo</td>\n",
       "      <td>SP</td>\n",
       "    </tr>\n",
       "    <tr>\n",
       "      <th>57951</th>\n",
       "      <td>105e31e3b36d904c70058578126c4d12</td>\n",
       "      <td>d44ccec15f5f86d14d6a2cfa67da1975</td>\n",
       "      <td>62800</td>\n",
       "      <td>aracati</td>\n",
       "      <td>CE</td>\n",
       "    </tr>\n",
       "    <tr>\n",
       "      <th>83347</th>\n",
       "      <td>488dd91f70d8404b2aa677cdc8a0de68</td>\n",
       "      <td>d44ccec15f5f86d14d6a2cfa67da1975</td>\n",
       "      <td>88371</td>\n",
       "      <td>navegantes</td>\n",
       "      <td>SC</td>\n",
       "    </tr>\n",
       "  </tbody>\n",
       "</table>\n",
       "</div>"
      ],
      "text/plain": [
       "\n",
       "                            customer_id                customer_unique_id  \\\n",
       "\u001b[1;36m45851\u001b[0m  844a7e5d2737f2f6667a5242486cbcb1  d44ccec15f5f86d14d6a2cfa67da1975   \n",
       "\u001b[1;36m57951\u001b[0m  105e31e3b36d904c70058578126c4d12  d44ccec15f5f86d14d6a2cfa67da1975   \n",
       "\u001b[1;36m83347\u001b[0m  488dd91f70d8404b2aa677cdc8a0de68  d44ccec15f5f86d14d6a2cfa67da1975   \n",
       "\n",
       "       customer_zip_code_prefix customer_city customer_state  \n",
       "\u001b[1;36m45851\u001b[0m                      \u001b[1;36m3533\u001b[0m     sao paulo             SP  \n",
       "\u001b[1;36m57951\u001b[0m                     \u001b[1;36m62800\u001b[0m       aracati             CE  \n",
       "\u001b[1;36m83347\u001b[0m                     \u001b[1;36m88371\u001b[0m    navegantes             SC  "
      ]
     },
     "metadata": {},
     "output_type": "display_data"
    }
   ],
   "source": [
    "print(\"as informações de um customer_unique_id mudam em diferentes linhas? \")\n",
    "df_aux = (\n",
    "    df_customers\n",
    "    .groupby('customer_unique_id')\n",
    "    .nunique()\n",
    "    .drop(columns=['customer_id'])\n",
    "    .sum(axis=1)\n",
    "    .sort_values()\n",
    ")\n",
    "display(\n",
    "    df_aux\n",
    ")\n",
    "print(f\"Sim, {(df_aux>3).mean():2.2%} mudam. Por exemplo:\")\n",
    "display(\n",
    "    df_customers.query(\"customer_unique_id=='d44ccec15f5f86d14d6a2cfa67da1975'\")\n",
    ")"
   ]
  },
  {
   "cell_type": "code",
   "execution_count": null,
   "metadata": {},
   "outputs": [],
   "source": [
    "assert all(df_customers.customer_id != df_customers.customer_unique_id)"
   ]
  },
  {
   "cell_type": "code",
   "execution_count": null,
   "metadata": {},
   "outputs": [
    {
     "name": "stdout",
     "output_type": "stream",
     "text": [
      "Dos 96096 apenas 2997(3.12%) tem mais de um pedido.\n"
     ]
    }
   ],
   "source": [
    "# quantos pedidos por cada clientes:\n",
    "n_customer_with_n_orders_gt_1 = (\n",
    "    df_customers\n",
    "    .merge(\n",
    "        df_orders,\n",
    "        on='customer_id',\n",
    "        validate='1:m',\n",
    "        how='left',\n",
    "    )\n",
    "    .groupby('customer_unique_id')\n",
    "    .order_id.nunique()\n",
    "    .sort_values()\n",
    "     > 1\n",
    ").sum()\n",
    "n_customers = df_customers.customer_unique_id.nunique()\n",
    "print(f'Dos {n_customers} apenas {n_customer_with_n_orders_gt_1}({n_customer_with_n_orders_gt_1/n_customers:2.2%}) tem mais de um pedido.')\n",
    "print('Isso inviabiliza problemas a nível de clientes, pois há pouco histórico de compras do clintes. Por exemplo, churn de cliente')\n",
    "print(\"Isto é, não existem clientes com histórico muito longo na plataforma\")"
   ]
  },
  {
   "cell_type": "markdown",
   "metadata": {},
   "source": [
    "# Vendedores"
   ]
  },
  {
   "cell_type": "code",
   "execution_count": 249,
   "metadata": {},
   "outputs": [
    {
     "name": "stdout",
     "output_type": "stream",
     "text": [
      "Existem 3095 vendedores na base.\n"
     ]
    }
   ],
   "source": [
    "print(f\"Existem {df_sel.seller_id.nunique()} vendedores na base.\")"
   ]
  },
  {
   "cell_type": "code",
   "execution_count": 250,
   "metadata": {},
   "outputs": [
    {
     "data": {
      "text/html": [
       "<pre style=\"white-space:pre;overflow-x:auto;line-height:normal;font-family:Menlo,'DejaVu Sans Mono',consolas,'Courier New',monospace\"></pre>\n"
      ],
      "text/plain": []
     },
     "metadata": {},
     "output_type": "display_data"
    },
    {
     "data": {
      "text/html": [
       "<div>\n",
       "<style scoped>\n",
       "    .dataframe tbody tr th:only-of-type {\n",
       "        vertical-align: middle;\n",
       "    }\n",
       "\n",
       "    .dataframe tbody tr th {\n",
       "        vertical-align: top;\n",
       "    }\n",
       "\n",
       "    .dataframe thead th {\n",
       "        text-align: right;\n",
       "    }\n",
       "</style>\n",
       "<table border=\"1\" class=\"dataframe\">\n",
       "  <thead>\n",
       "    <tr style=\"text-align: right;\">\n",
       "      <th></th>\n",
       "      <th>order_id</th>\n",
       "      <th>order_item_id</th>\n",
       "      <th>product_id</th>\n",
       "      <th>seller_id</th>\n",
       "      <th>shipping_limit_date</th>\n",
       "      <th>price</th>\n",
       "      <th>freight_value</th>\n",
       "    </tr>\n",
       "  </thead>\n",
       "  <tbody>\n",
       "    <tr>\n",
       "      <th>0</th>\n",
       "      <td>00010242fe8c5a6d1ba2dd792cb16214</td>\n",
       "      <td>1</td>\n",
       "      <td>4244733e06e7ecb4970a6e2683c13e61</td>\n",
       "      <td>48436dade18ac8b2bce089ec2a041202</td>\n",
       "      <td>2017-09-19 09:45:35</td>\n",
       "      <td>58.90</td>\n",
       "      <td>13.29</td>\n",
       "    </tr>\n",
       "    <tr>\n",
       "      <th>1</th>\n",
       "      <td>00018f77f2f0320c557190d7a144bdd3</td>\n",
       "      <td>1</td>\n",
       "      <td>e5f2d52b802189ee658865ca93d83a8f</td>\n",
       "      <td>dd7ddc04e1b6c2c614352b383efe2d36</td>\n",
       "      <td>2017-05-03 11:05:13</td>\n",
       "      <td>239.90</td>\n",
       "      <td>19.93</td>\n",
       "    </tr>\n",
       "    <tr>\n",
       "      <th>2</th>\n",
       "      <td>000229ec398224ef6ca0657da4fc703e</td>\n",
       "      <td>1</td>\n",
       "      <td>c777355d18b72b67abbeef9df44fd0fd</td>\n",
       "      <td>5b51032eddd242adc84c38acab88f23d</td>\n",
       "      <td>2018-01-18 14:48:30</td>\n",
       "      <td>199.00</td>\n",
       "      <td>17.87</td>\n",
       "    </tr>\n",
       "    <tr>\n",
       "      <th>3</th>\n",
       "      <td>00024acbcdf0a6daa1e931b038114c75</td>\n",
       "      <td>1</td>\n",
       "      <td>7634da152a4610f1595efa32f14722fc</td>\n",
       "      <td>9d7a1d34a5052409006425275ba1c2b4</td>\n",
       "      <td>2018-08-15 10:10:18</td>\n",
       "      <td>12.99</td>\n",
       "      <td>12.79</td>\n",
       "    </tr>\n",
       "    <tr>\n",
       "      <th>4</th>\n",
       "      <td>00042b26cf59d7ce69dfabb4e55b4fd9</td>\n",
       "      <td>1</td>\n",
       "      <td>ac6c3623068f30de03045865e4e10089</td>\n",
       "      <td>df560393f3a51e74553ab94004ba5c87</td>\n",
       "      <td>2017-02-13 13:57:51</td>\n",
       "      <td>199.90</td>\n",
       "      <td>18.14</td>\n",
       "    </tr>\n",
       "    <tr>\n",
       "      <th>...</th>\n",
       "      <td>...</td>\n",
       "      <td>...</td>\n",
       "      <td>...</td>\n",
       "      <td>...</td>\n",
       "      <td>...</td>\n",
       "      <td>...</td>\n",
       "      <td>...</td>\n",
       "    </tr>\n",
       "    <tr>\n",
       "      <th>112645</th>\n",
       "      <td>fffc94f6ce00a00581880bf54a75a037</td>\n",
       "      <td>1</td>\n",
       "      <td>4aa6014eceb682077f9dc4bffebc05b0</td>\n",
       "      <td>b8bc237ba3788b23da09c0f1f3a3288c</td>\n",
       "      <td>2018-05-02 04:11:01</td>\n",
       "      <td>299.99</td>\n",
       "      <td>43.41</td>\n",
       "    </tr>\n",
       "    <tr>\n",
       "      <th>112646</th>\n",
       "      <td>fffcd46ef2263f404302a634eb57f7eb</td>\n",
       "      <td>1</td>\n",
       "      <td>32e07fd915822b0765e448c4dd74c828</td>\n",
       "      <td>f3c38ab652836d21de61fb8314b69182</td>\n",
       "      <td>2018-07-20 04:31:48</td>\n",
       "      <td>350.00</td>\n",
       "      <td>36.53</td>\n",
       "    </tr>\n",
       "    <tr>\n",
       "      <th>112647</th>\n",
       "      <td>fffce4705a9662cd70adb13d4a31832d</td>\n",
       "      <td>1</td>\n",
       "      <td>72a30483855e2eafc67aee5dc2560482</td>\n",
       "      <td>c3cfdc648177fdbbbb35635a37472c53</td>\n",
       "      <td>2017-10-30 17:14:25</td>\n",
       "      <td>99.90</td>\n",
       "      <td>16.95</td>\n",
       "    </tr>\n",
       "    <tr>\n",
       "      <th>112648</th>\n",
       "      <td>fffe18544ffabc95dfada21779c9644f</td>\n",
       "      <td>1</td>\n",
       "      <td>9c422a519119dcad7575db5af1ba540e</td>\n",
       "      <td>2b3e4a2a3ea8e01938cabda2a3e5cc79</td>\n",
       "      <td>2017-08-21 00:04:32</td>\n",
       "      <td>55.99</td>\n",
       "      <td>8.72</td>\n",
       "    </tr>\n",
       "    <tr>\n",
       "      <th>112649</th>\n",
       "      <td>fffe41c64501cc87c801fd61db3f6244</td>\n",
       "      <td>1</td>\n",
       "      <td>350688d9dc1e75ff97be326363655e01</td>\n",
       "      <td>f7ccf836d21b2fb1de37564105216cc1</td>\n",
       "      <td>2018-06-12 17:10:13</td>\n",
       "      <td>43.00</td>\n",
       "      <td>12.79</td>\n",
       "    </tr>\n",
       "  </tbody>\n",
       "</table>\n",
       "<p>112650 rows × 7 columns</p>\n",
       "</div>"
      ],
      "text/plain": [
       "\n",
       "                                order_id  order_item_id  \\\n",
       "\u001b[1;36m0\u001b[0m       00010242fe8c5a6d1ba2dd792cb16214              \u001b[1;36m1\u001b[0m   \n",
       "\u001b[1;36m1\u001b[0m       00018f77f2f0320c557190d7a144bdd3              \u001b[1;36m1\u001b[0m   \n",
       "\u001b[1;36m2\u001b[0m       000229ec398224ef6ca0657da4fc703e              \u001b[1;36m1\u001b[0m   \n",
       "\u001b[1;36m3\u001b[0m       00024acbcdf0a6daa1e931b038114c75              \u001b[1;36m1\u001b[0m   \n",
       "\u001b[1;36m4\u001b[0m       00042b26cf59d7ce69dfabb4e55b4fd9              \u001b[1;36m1\u001b[0m   \n",
       "\u001b[33m...\u001b[0m                                  \u001b[33m...\u001b[0m            \u001b[33m...\u001b[0m   \n",
       "\u001b[1;36m112645\u001b[0m  fffc94f6ce00a00581880bf54a75a037              \u001b[1;36m1\u001b[0m   \n",
       "\u001b[1;36m112646\u001b[0m  fffcd46ef2263f404302a634eb57f7eb              \u001b[1;36m1\u001b[0m   \n",
       "\u001b[1;36m112647\u001b[0m  fffce4705a9662cd70adb13d4a31832d              \u001b[1;36m1\u001b[0m   \n",
       "\u001b[1;36m112648\u001b[0m  fffe18544ffabc95dfada21779c9644f              \u001b[1;36m1\u001b[0m   \n",
       "\u001b[1;36m112649\u001b[0m  fffe41c64501cc87c801fd61db3f6244              \u001b[1;36m1\u001b[0m   \n",
       "\n",
       "                              product_id                         seller_id  \\\n",
       "\u001b[1;36m0\u001b[0m       4244733e06e7ecb4970a6e2683c13e61  48436dade18ac8b2bce089ec2a041202   \n",
       "\u001b[1;36m1\u001b[0m       e5f2d52b802189ee658865ca93d83a8f  dd7ddc04e1b6c2c614352b383efe2d36   \n",
       "\u001b[1;36m2\u001b[0m       c777355d18b72b67abbeef9df44fd0fd  5b51032eddd242adc84c38acab88f23d   \n",
       "\u001b[1;36m3\u001b[0m       7634da152a4610f1595efa32f14722fc  9d7a1d34a5052409006425275ba1c2b4   \n",
       "\u001b[1;36m4\u001b[0m       ac6c3623068f30de03045865e4e10089  df560393f3a51e74553ab94004ba5c87   \n",
       "\u001b[33m...\u001b[0m                                  \u001b[33m...\u001b[0m                               \u001b[33m...\u001b[0m   \n",
       "\u001b[1;36m112645\u001b[0m  4aa6014eceb682077f9dc4bffebc05b0  b8bc237ba3788b23da09c0f1f3a3288c   \n",
       "\u001b[1;36m112646\u001b[0m  32e07fd915822b0765e448c4dd74c828  f3c38ab652836d21de61fb8314b69182   \n",
       "\u001b[1;36m112647\u001b[0m  72a30483855e2eafc67aee5dc2560482  c3cfdc648177fdbbbb35635a37472c53   \n",
       "\u001b[1;36m112648\u001b[0m  9c422a519119dcad7575db5af1ba540e  2b3e4a2a3ea8e01938cabda2a3e5cc79   \n",
       "\u001b[1;36m112649\u001b[0m  350688d9dc1e75ff97be326363655e01  f7ccf836d21b2fb1de37564105216cc1   \n",
       "\n",
       "        shipping_limit_date   price  freight_value  \n",
       "\u001b[1;36m0\u001b[0m       \u001b[1;36m2017\u001b[0m-\u001b[1;36m09\u001b[0m-\u001b[1;36m19\u001b[0m \u001b[1;92m09:45:35\u001b[0m   \u001b[1;36m58.90\u001b[0m          \u001b[1;36m13.29\u001b[0m  \n",
       "\u001b[1;36m1\u001b[0m       \u001b[1;36m2017\u001b[0m-\u001b[1;36m05\u001b[0m-\u001b[1;36m03\u001b[0m \u001b[1;92m11:05:13\u001b[0m  \u001b[1;36m239.90\u001b[0m          \u001b[1;36m19.93\u001b[0m  \n",
       "\u001b[1;36m2\u001b[0m       \u001b[1;36m2018\u001b[0m-\u001b[1;36m01\u001b[0m-\u001b[1;36m18\u001b[0m \u001b[1;92m14:48:30\u001b[0m  \u001b[1;36m199.00\u001b[0m          \u001b[1;36m17.87\u001b[0m  \n",
       "\u001b[1;36m3\u001b[0m       \u001b[1;36m2018\u001b[0m-\u001b[1;36m08\u001b[0m-\u001b[1;36m15\u001b[0m \u001b[1;92m10:10:18\u001b[0m   \u001b[1;36m12.99\u001b[0m          \u001b[1;36m12.79\u001b[0m  \n",
       "\u001b[1;36m4\u001b[0m       \u001b[1;36m2017\u001b[0m-\u001b[1;36m02\u001b[0m-\u001b[1;36m13\u001b[0m \u001b[1;92m13:57:51\u001b[0m  \u001b[1;36m199.90\u001b[0m          \u001b[1;36m18.14\u001b[0m  \n",
       "\u001b[33m...\u001b[0m                     \u001b[33m...\u001b[0m     \u001b[33m...\u001b[0m            \u001b[33m...\u001b[0m  \n",
       "\u001b[1;36m112645\u001b[0m  \u001b[1;36m2018\u001b[0m-\u001b[1;36m05\u001b[0m-\u001b[1;36m02\u001b[0m \u001b[1;92m04:11:01\u001b[0m  \u001b[1;36m299.99\u001b[0m          \u001b[1;36m43.41\u001b[0m  \n",
       "\u001b[1;36m112646\u001b[0m  \u001b[1;36m2018\u001b[0m-\u001b[1;36m07\u001b[0m-\u001b[1;36m20\u001b[0m \u001b[1;92m04:31:48\u001b[0m  \u001b[1;36m350.00\u001b[0m          \u001b[1;36m36.53\u001b[0m  \n",
       "\u001b[1;36m112647\u001b[0m  \u001b[1;36m2017\u001b[0m-\u001b[1;36m10\u001b[0m-\u001b[1;36m30\u001b[0m \u001b[1;92m17:14:25\u001b[0m   \u001b[1;36m99.90\u001b[0m          \u001b[1;36m16.95\u001b[0m  \n",
       "\u001b[1;36m112648\u001b[0m  \u001b[1;36m2017\u001b[0m-\u001b[1;36m08\u001b[0m-\u001b[1;36m21\u001b[0m \u001b[1;92m00:04:32\u001b[0m   \u001b[1;36m55.99\u001b[0m           \u001b[1;36m8.72\u001b[0m  \n",
       "\u001b[1;36m112649\u001b[0m  \u001b[1;36m2018\u001b[0m-\u001b[1;36m06\u001b[0m-\u001b[1;36m12\u001b[0m \u001b[1;92m17:10:13\u001b[0m   \u001b[1;36m43.00\u001b[0m          \u001b[1;36m12.79\u001b[0m  \n",
       "\n",
       "\u001b[1m[\u001b[0m\u001b[1;36m112650\u001b[0m rows x \u001b[1;36m7\u001b[0m columns\u001b[1m]\u001b[0m"
      ]
     },
     "execution_count": 250,
     "metadata": {},
     "output_type": "execute_result"
    }
   ],
   "source": [
    "df_items"
   ]
  },
  {
   "cell_type": "code",
   "execution_count": 260,
   "metadata": {},
   "outputs": [
    {
     "data": {
      "text/html": [
       "<pre style=\"white-space:pre;overflow-x:auto;line-height:normal;font-family:Menlo,'DejaVu Sans Mono',consolas,'Courier New',monospace\"></pre>\n"
      ],
      "text/plain": []
     },
     "metadata": {},
     "output_type": "display_data"
    },
    {
     "data": {
      "text/plain": [
       "\n",
       "count    \u001b[1;36m3095.000000\u001b[0m\n",
       "mean       \u001b[1;36m32.313409\u001b[0m\n",
       "std       \u001b[1;36m105.139763\u001b[0m\n",
       "min         \u001b[1;36m1.000000\u001b[0m\n",
       "\u001b[1;36m25\u001b[0m%         \u001b[1;36m2.000000\u001b[0m\n",
       "\u001b[1;36m50\u001b[0m%         \u001b[1;36m6.000000\u001b[0m\n",
       "\u001b[1;36m75\u001b[0m%        \u001b[1;36m21.500000\u001b[0m\n",
       "max      \u001b[1;36m1854.000000\u001b[0m\n",
       "Name: order_id, dtype: float64"
      ]
     },
     "metadata": {},
     "output_type": "display_data"
    },
    {
     "name": "stdout",
     "output_type": "stream",
     "text": [
      "Dos 3095 vendedores 2524(81.55%) tem mais de uma venda\n",
      "Parece ser possível fazer um problema de machine learning a nível de vendedores\n",
      "Um exemplo é o risco do vendedor ficar sem vender nos próximos x meses\n",
      "Outro exemplo é o volume de vendas (quantidade ou monetário) de um vendedor nos próximos x meses\n"
     ]
    }
   ],
   "source": [
    "n_sellers = df_sel.seller_id.nunique()\n",
    "s = (\n",
    "    df_sel\n",
    "    .merge(df_items[['seller_id','order_id']], on=['seller_id'], how='left')\n",
    "    .groupby('seller_id')\n",
    "    .order_id.nunique()\n",
    ")\n",
    "n_sellers_with_gt_1 = len(s[s>1])\n",
    "display(s.describe())\n",
    "print(f\"Dos {n_sellers} vendedores {n_sellers_with_gt_1}({n_sellers_with_gt_1/n_sellers:2.2%}) tem mais de uma venda\")\n",
    "print(\"Parece ser possível fazer um problema de machine learning a nível de vendedores\")\n",
    "print(\"Um exemplo é o risco do vendedor ficar sem vender nos próximos x meses\")\n",
    "print(\"Outro exemplo é o volume de vendas (quantidade ou monetário)\"\n",
    "      \" de um vendedor nos próximos x meses\")"
   ]
  },
  {
   "cell_type": "code",
   "execution_count": 262,
   "metadata": {},
   "outputs": [
    {
     "data": {
      "text/html": [
       "<pre style=\"white-space:pre;overflow-x:auto;line-height:normal;font-family:Menlo,'DejaVu Sans Mono',consolas,'Courier New',monospace\"></pre>\n"
      ],
      "text/plain": []
     },
     "metadata": {},
     "output_type": "display_data"
    },
    {
     "data": {
      "text/plain": [
       "\n",
       "_merge\n",
       "both          \u001b[1;36m1.0\u001b[0m\n",
       "left_only     \u001b[1;36m0.0\u001b[0m\n",
       "right_only    \u001b[1;36m0.0\u001b[0m\n",
       "Name: proportion, dtype: float64"
      ]
     },
     "execution_count": 262,
     "metadata": {},
     "output_type": "execute_result"
    }
   ],
   "source": [
    "(\n",
    "    df_sel\n",
    "    .merge(df_items[['seller_id','order_id']],\n",
    "           on=['seller_id'],\n",
    "           how='outer',\n",
    "           indicator=True)\n",
    "    ._merge.value_counts(normalize=True)\n",
    ")"
   ]
  },
  {
   "cell_type": "markdown",
   "metadata": {},
   "source": [
    "# Pedidos"
   ]
  },
  {
   "cell_type": "code",
   "execution_count": 245,
   "metadata": {},
   "outputs": [
    {
     "data": {
      "text/html": [
       "<pre style=\"white-space:pre;overflow-x:auto;line-height:normal;font-family:Menlo,'DejaVu Sans Mono',consolas,'Courier New',monospace\"></pre>\n"
      ],
      "text/plain": []
     },
     "metadata": {},
     "output_type": "display_data"
    },
    {
     "data": {
      "text/plain": [
       "\u001b[1m(\u001b[0m\u001b[32m'2016-09-04 21:15:19'\u001b[0m, \u001b[32m'2018-10-17 17:30:18'\u001b[0m\u001b[1m)\u001b[0m"
      ]
     },
     "execution_count": 245,
     "metadata": {},
     "output_type": "execute_result"
    }
   ],
   "source": [
    "df_orders.order_purchase_timestamp.min(),df_orders.order_purchase_timestamp.max()"
   ]
  },
  {
   "cell_type": "code",
   "execution_count": 264,
   "metadata": {},
   "outputs": [
    {
     "data": {
      "text/html": [
       "<pre style=\"white-space:pre;overflow-x:auto;line-height:normal;font-family:Menlo,'DejaVu Sans Mono',consolas,'Courier New',monospace\"></pre>\n"
      ],
      "text/plain": []
     },
     "metadata": {},
     "output_type": "display_data"
    },
    {
     "data": {
      "text/plain": [
       "\n",
       "order_id\n",
       "e481f51cbdc54678b7cc49136f2d6af7    \u001b[1;36m1\u001b[0m\n",
       "f01059d0d674e1282df4e8fbbe015aa2    \u001b[1;36m1\u001b[0m\n",
       "fbc17f0f2a2125054d5ac5c22d2d5120    \u001b[1;36m1\u001b[0m\n",
       "9373150545066777b1cd2bc20e93cf8e    \u001b[1;36m1\u001b[0m\n",
       "917399e96f92268dfa2c0351b1b75fba    \u001b[1;36m1\u001b[0m\n",
       "                                   ..\n",
       "6b8986012d61963295ffa3ea869aff86    \u001b[1;36m1\u001b[0m\n",
       "be879f757debd3b384b540daa6ddd97e    \u001b[1;36m1\u001b[0m\n",
       "ac3ce7eda1246f39509a505242fcc169    \u001b[1;36m1\u001b[0m\n",
       "e801a93b3904ca9e8350f176a037047b    \u001b[1;36m1\u001b[0m\n",
       "66dea50a8b16d9b4dee7af250b4be1a5    \u001b[1;36m1\u001b[0m\n",
       "Name: count, Length: \u001b[1;36m99441\u001b[0m, dtype: int64"
      ]
     },
     "execution_count": 264,
     "metadata": {},
     "output_type": "execute_result"
    }
   ],
   "source": [
    "df_orders.order_id.value_counts()"
   ]
  },
  {
   "cell_type": "code",
   "execution_count": 268,
   "metadata": {},
   "outputs": [
    {
     "data": {
      "text/html": [
       "<pre style=\"white-space:pre;overflow-x:auto;line-height:normal;font-family:Menlo,'DejaVu Sans Mono',consolas,'Courier New',monospace\"></pre>\n"
      ],
      "text/plain": []
     },
     "metadata": {},
     "output_type": "display_data"
    },
    {
     "data": {
      "text/html": [
       "<div>\n",
       "<style scoped>\n",
       "    .dataframe tbody tr th:only-of-type {\n",
       "        vertical-align: middle;\n",
       "    }\n",
       "\n",
       "    .dataframe tbody tr th {\n",
       "        vertical-align: top;\n",
       "    }\n",
       "\n",
       "    .dataframe thead th {\n",
       "        text-align: right;\n",
       "    }\n",
       "</style>\n",
       "<table border=\"1\" class=\"dataframe\">\n",
       "  <thead>\n",
       "    <tr style=\"text-align: right;\">\n",
       "      <th></th>\n",
       "      <th>order_id</th>\n",
       "      <th>order_item_id</th>\n",
       "      <th>product_id</th>\n",
       "      <th>seller_id</th>\n",
       "      <th>shipping_limit_date</th>\n",
       "      <th>price</th>\n",
       "      <th>freight_value</th>\n",
       "    </tr>\n",
       "  </thead>\n",
       "  <tbody>\n",
       "    <tr>\n",
       "      <th>0</th>\n",
       "      <td>00010242fe8c5a6d1ba2dd792cb16214</td>\n",
       "      <td>1</td>\n",
       "      <td>4244733e06e7ecb4970a6e2683c13e61</td>\n",
       "      <td>48436dade18ac8b2bce089ec2a041202</td>\n",
       "      <td>2017-09-19 09:45:35</td>\n",
       "      <td>58.90</td>\n",
       "      <td>13.29</td>\n",
       "    </tr>\n",
       "    <tr>\n",
       "      <th>1</th>\n",
       "      <td>00018f77f2f0320c557190d7a144bdd3</td>\n",
       "      <td>1</td>\n",
       "      <td>e5f2d52b802189ee658865ca93d83a8f</td>\n",
       "      <td>dd7ddc04e1b6c2c614352b383efe2d36</td>\n",
       "      <td>2017-05-03 11:05:13</td>\n",
       "      <td>239.90</td>\n",
       "      <td>19.93</td>\n",
       "    </tr>\n",
       "    <tr>\n",
       "      <th>2</th>\n",
       "      <td>000229ec398224ef6ca0657da4fc703e</td>\n",
       "      <td>1</td>\n",
       "      <td>c777355d18b72b67abbeef9df44fd0fd</td>\n",
       "      <td>5b51032eddd242adc84c38acab88f23d</td>\n",
       "      <td>2018-01-18 14:48:30</td>\n",
       "      <td>199.00</td>\n",
       "      <td>17.87</td>\n",
       "    </tr>\n",
       "    <tr>\n",
       "      <th>3</th>\n",
       "      <td>00024acbcdf0a6daa1e931b038114c75</td>\n",
       "      <td>1</td>\n",
       "      <td>7634da152a4610f1595efa32f14722fc</td>\n",
       "      <td>9d7a1d34a5052409006425275ba1c2b4</td>\n",
       "      <td>2018-08-15 10:10:18</td>\n",
       "      <td>12.99</td>\n",
       "      <td>12.79</td>\n",
       "    </tr>\n",
       "    <tr>\n",
       "      <th>4</th>\n",
       "      <td>00042b26cf59d7ce69dfabb4e55b4fd9</td>\n",
       "      <td>1</td>\n",
       "      <td>ac6c3623068f30de03045865e4e10089</td>\n",
       "      <td>df560393f3a51e74553ab94004ba5c87</td>\n",
       "      <td>2017-02-13 13:57:51</td>\n",
       "      <td>199.90</td>\n",
       "      <td>18.14</td>\n",
       "    </tr>\n",
       "    <tr>\n",
       "      <th>...</th>\n",
       "      <td>...</td>\n",
       "      <td>...</td>\n",
       "      <td>...</td>\n",
       "      <td>...</td>\n",
       "      <td>...</td>\n",
       "      <td>...</td>\n",
       "      <td>...</td>\n",
       "    </tr>\n",
       "    <tr>\n",
       "      <th>112645</th>\n",
       "      <td>fffc94f6ce00a00581880bf54a75a037</td>\n",
       "      <td>1</td>\n",
       "      <td>4aa6014eceb682077f9dc4bffebc05b0</td>\n",
       "      <td>b8bc237ba3788b23da09c0f1f3a3288c</td>\n",
       "      <td>2018-05-02 04:11:01</td>\n",
       "      <td>299.99</td>\n",
       "      <td>43.41</td>\n",
       "    </tr>\n",
       "    <tr>\n",
       "      <th>112646</th>\n",
       "      <td>fffcd46ef2263f404302a634eb57f7eb</td>\n",
       "      <td>1</td>\n",
       "      <td>32e07fd915822b0765e448c4dd74c828</td>\n",
       "      <td>f3c38ab652836d21de61fb8314b69182</td>\n",
       "      <td>2018-07-20 04:31:48</td>\n",
       "      <td>350.00</td>\n",
       "      <td>36.53</td>\n",
       "    </tr>\n",
       "    <tr>\n",
       "      <th>112647</th>\n",
       "      <td>fffce4705a9662cd70adb13d4a31832d</td>\n",
       "      <td>1</td>\n",
       "      <td>72a30483855e2eafc67aee5dc2560482</td>\n",
       "      <td>c3cfdc648177fdbbbb35635a37472c53</td>\n",
       "      <td>2017-10-30 17:14:25</td>\n",
       "      <td>99.90</td>\n",
       "      <td>16.95</td>\n",
       "    </tr>\n",
       "    <tr>\n",
       "      <th>112648</th>\n",
       "      <td>fffe18544ffabc95dfada21779c9644f</td>\n",
       "      <td>1</td>\n",
       "      <td>9c422a519119dcad7575db5af1ba540e</td>\n",
       "      <td>2b3e4a2a3ea8e01938cabda2a3e5cc79</td>\n",
       "      <td>2017-08-21 00:04:32</td>\n",
       "      <td>55.99</td>\n",
       "      <td>8.72</td>\n",
       "    </tr>\n",
       "    <tr>\n",
       "      <th>112649</th>\n",
       "      <td>fffe41c64501cc87c801fd61db3f6244</td>\n",
       "      <td>1</td>\n",
       "      <td>350688d9dc1e75ff97be326363655e01</td>\n",
       "      <td>f7ccf836d21b2fb1de37564105216cc1</td>\n",
       "      <td>2018-06-12 17:10:13</td>\n",
       "      <td>43.00</td>\n",
       "      <td>12.79</td>\n",
       "    </tr>\n",
       "  </tbody>\n",
       "</table>\n",
       "<p>112650 rows × 7 columns</p>\n",
       "</div>"
      ],
      "text/plain": [
       "\n",
       "                                order_id  order_item_id  \\\n",
       "\u001b[1;36m0\u001b[0m       00010242fe8c5a6d1ba2dd792cb16214              \u001b[1;36m1\u001b[0m   \n",
       "\u001b[1;36m1\u001b[0m       00018f77f2f0320c557190d7a144bdd3              \u001b[1;36m1\u001b[0m   \n",
       "\u001b[1;36m2\u001b[0m       000229ec398224ef6ca0657da4fc703e              \u001b[1;36m1\u001b[0m   \n",
       "\u001b[1;36m3\u001b[0m       00024acbcdf0a6daa1e931b038114c75              \u001b[1;36m1\u001b[0m   \n",
       "\u001b[1;36m4\u001b[0m       00042b26cf59d7ce69dfabb4e55b4fd9              \u001b[1;36m1\u001b[0m   \n",
       "\u001b[33m...\u001b[0m                                  \u001b[33m...\u001b[0m            \u001b[33m...\u001b[0m   \n",
       "\u001b[1;36m112645\u001b[0m  fffc94f6ce00a00581880bf54a75a037              \u001b[1;36m1\u001b[0m   \n",
       "\u001b[1;36m112646\u001b[0m  fffcd46ef2263f404302a634eb57f7eb              \u001b[1;36m1\u001b[0m   \n",
       "\u001b[1;36m112647\u001b[0m  fffce4705a9662cd70adb13d4a31832d              \u001b[1;36m1\u001b[0m   \n",
       "\u001b[1;36m112648\u001b[0m  fffe18544ffabc95dfada21779c9644f              \u001b[1;36m1\u001b[0m   \n",
       "\u001b[1;36m112649\u001b[0m  fffe41c64501cc87c801fd61db3f6244              \u001b[1;36m1\u001b[0m   \n",
       "\n",
       "                              product_id                         seller_id  \\\n",
       "\u001b[1;36m0\u001b[0m       4244733e06e7ecb4970a6e2683c13e61  48436dade18ac8b2bce089ec2a041202   \n",
       "\u001b[1;36m1\u001b[0m       e5f2d52b802189ee658865ca93d83a8f  dd7ddc04e1b6c2c614352b383efe2d36   \n",
       "\u001b[1;36m2\u001b[0m       c777355d18b72b67abbeef9df44fd0fd  5b51032eddd242adc84c38acab88f23d   \n",
       "\u001b[1;36m3\u001b[0m       7634da152a4610f1595efa32f14722fc  9d7a1d34a5052409006425275ba1c2b4   \n",
       "\u001b[1;36m4\u001b[0m       ac6c3623068f30de03045865e4e10089  df560393f3a51e74553ab94004ba5c87   \n",
       "\u001b[33m...\u001b[0m                                  \u001b[33m...\u001b[0m                               \u001b[33m...\u001b[0m   \n",
       "\u001b[1;36m112645\u001b[0m  4aa6014eceb682077f9dc4bffebc05b0  b8bc237ba3788b23da09c0f1f3a3288c   \n",
       "\u001b[1;36m112646\u001b[0m  32e07fd915822b0765e448c4dd74c828  f3c38ab652836d21de61fb8314b69182   \n",
       "\u001b[1;36m112647\u001b[0m  72a30483855e2eafc67aee5dc2560482  c3cfdc648177fdbbbb35635a37472c53   \n",
       "\u001b[1;36m112648\u001b[0m  9c422a519119dcad7575db5af1ba540e  2b3e4a2a3ea8e01938cabda2a3e5cc79   \n",
       "\u001b[1;36m112649\u001b[0m  350688d9dc1e75ff97be326363655e01  f7ccf836d21b2fb1de37564105216cc1   \n",
       "\n",
       "        shipping_limit_date   price  freight_value  \n",
       "\u001b[1;36m0\u001b[0m       \u001b[1;36m2017\u001b[0m-\u001b[1;36m09\u001b[0m-\u001b[1;36m19\u001b[0m \u001b[1;92m09:45:35\u001b[0m   \u001b[1;36m58.90\u001b[0m          \u001b[1;36m13.29\u001b[0m  \n",
       "\u001b[1;36m1\u001b[0m       \u001b[1;36m2017\u001b[0m-\u001b[1;36m05\u001b[0m-\u001b[1;36m03\u001b[0m \u001b[1;92m11:05:13\u001b[0m  \u001b[1;36m239.90\u001b[0m          \u001b[1;36m19.93\u001b[0m  \n",
       "\u001b[1;36m2\u001b[0m       \u001b[1;36m2018\u001b[0m-\u001b[1;36m01\u001b[0m-\u001b[1;36m18\u001b[0m \u001b[1;92m14:48:30\u001b[0m  \u001b[1;36m199.00\u001b[0m          \u001b[1;36m17.87\u001b[0m  \n",
       "\u001b[1;36m3\u001b[0m       \u001b[1;36m2018\u001b[0m-\u001b[1;36m08\u001b[0m-\u001b[1;36m15\u001b[0m \u001b[1;92m10:10:18\u001b[0m   \u001b[1;36m12.99\u001b[0m          \u001b[1;36m12.79\u001b[0m  \n",
       "\u001b[1;36m4\u001b[0m       \u001b[1;36m2017\u001b[0m-\u001b[1;36m02\u001b[0m-\u001b[1;36m13\u001b[0m \u001b[1;92m13:57:51\u001b[0m  \u001b[1;36m199.90\u001b[0m          \u001b[1;36m18.14\u001b[0m  \n",
       "\u001b[33m...\u001b[0m                     \u001b[33m...\u001b[0m     \u001b[33m...\u001b[0m            \u001b[33m...\u001b[0m  \n",
       "\u001b[1;36m112645\u001b[0m  \u001b[1;36m2018\u001b[0m-\u001b[1;36m05\u001b[0m-\u001b[1;36m02\u001b[0m \u001b[1;92m04:11:01\u001b[0m  \u001b[1;36m299.99\u001b[0m          \u001b[1;36m43.41\u001b[0m  \n",
       "\u001b[1;36m112646\u001b[0m  \u001b[1;36m2018\u001b[0m-\u001b[1;36m07\u001b[0m-\u001b[1;36m20\u001b[0m \u001b[1;92m04:31:48\u001b[0m  \u001b[1;36m350.00\u001b[0m          \u001b[1;36m36.53\u001b[0m  \n",
       "\u001b[1;36m112647\u001b[0m  \u001b[1;36m2017\u001b[0m-\u001b[1;36m10\u001b[0m-\u001b[1;36m30\u001b[0m \u001b[1;92m17:14:25\u001b[0m   \u001b[1;36m99.90\u001b[0m          \u001b[1;36m16.95\u001b[0m  \n",
       "\u001b[1;36m112648\u001b[0m  \u001b[1;36m2017\u001b[0m-\u001b[1;36m08\u001b[0m-\u001b[1;36m21\u001b[0m \u001b[1;92m00:04:32\u001b[0m   \u001b[1;36m55.99\u001b[0m           \u001b[1;36m8.72\u001b[0m  \n",
       "\u001b[1;36m112649\u001b[0m  \u001b[1;36m2018\u001b[0m-\u001b[1;36m06\u001b[0m-\u001b[1;36m12\u001b[0m \u001b[1;92m17:10:13\u001b[0m   \u001b[1;36m43.00\u001b[0m          \u001b[1;36m12.79\u001b[0m  \n",
       "\n",
       "\u001b[1m[\u001b[0m\u001b[1;36m112650\u001b[0m rows x \u001b[1;36m7\u001b[0m columns\u001b[1m]\u001b[0m"
      ]
     },
     "execution_count": 268,
     "metadata": {},
     "output_type": "execute_result"
    }
   ],
   "source": [
    "df_items"
   ]
  },
  {
   "cell_type": "code",
   "execution_count": 270,
   "metadata": {},
   "outputs": [
    {
     "data": {
      "text/html": [
       "<pre style=\"white-space:pre;overflow-x:auto;line-height:normal;font-family:Menlo,'DejaVu Sans Mono',consolas,'Courier New',monospace\"></pre>\n"
      ],
      "text/plain": []
     },
     "metadata": {},
     "output_type": "display_data"
    },
    {
     "data": {
      "text/plain": [
       "\n",
       "order_id                          product_id                        order_item_id\n",
       "00010242fe8c5a6d1ba2dd792cb16214  4244733e06e7ecb4970a6e2683c13e61  \u001b[1;36m1\u001b[0m                \u001b[1;36m1\u001b[0m\n",
       "ab114f47094abcacaf5888844db683ff  1efd84ba20d23186f576a37baf64ae9d  \u001b[1;36m1\u001b[0m                \u001b[1;36m1\u001b[0m\n",
       "ab14fdcfbe524636d65ee38360e22ce8  9571759451b1d780ee7c15012ea109d4  \u001b[1;36m4\u001b[0m                \u001b[1;36m1\u001b[0m\n",
       "                                                                    \u001b[1;36m3\u001b[0m                \u001b[1;36m1\u001b[0m\n",
       "                                                                    \u001b[1;36m2\u001b[0m                \u001b[1;36m1\u001b[0m\n",
       "                                                                                    ..\n",
       "553a1f1b74cf15fe6cb4a01a627ab41f  e8316a4667e5870c85e906b1f062bde1  \u001b[1;36m1\u001b[0m                \u001b[1;36m1\u001b[0m\n",
       "553a0f2feba6fd288aaea2986ca2f94a  d9bdf643d95cb89844c0da1a0df1d16e  \u001b[1;36m1\u001b[0m                \u001b[1;36m1\u001b[0m\n",
       "5539bd029cf95d97ba8f51f6f323c839  3bab56924ec762e9340478909312d5c7  \u001b[1;36m1\u001b[0m                \u001b[1;36m1\u001b[0m\n",
       "553901a853048dcd33ec8de19f90c5d0  ac034106148bc5d510565d4b640f74c2  \u001b[1;36m1\u001b[0m                \u001b[1;36m1\u001b[0m\n",
       "fffe41c64501cc87c801fd61db3f6244  350688d9dc1e75ff97be326363655e01  \u001b[1;36m1\u001b[0m                \u001b[1;36m1\u001b[0m\n",
       "Name: count, Length: \u001b[1;36m112650\u001b[0m, dtype: int64"
      ]
     },
     "execution_count": 270,
     "metadata": {},
     "output_type": "execute_result"
    }
   ],
   "source": [
    "df_items[['order_id','product_id','order_item_id']].value_counts()"
   ]
  },
  {
   "cell_type": "code",
   "execution_count": null,
   "metadata": {},
   "outputs": [
    {
     "data": {
      "text/html": [
       "<pre style=\"white-space:pre;overflow-x:auto;line-height:normal;font-family:Menlo,'DejaVu Sans Mono',consolas,'Courier New',monospace\"></pre>\n"
      ],
      "text/plain": []
     },
     "metadata": {},
     "output_type": "display_data"
    },
    {
     "data": {
      "text/plain": [
       "\n",
       "_merge_order_item  order_status\n",
       "left_only          canceled        \u001b[1;36m0.001627\u001b[0m\n",
       "                   created         \u001b[1;36m0.000050\u001b[0m\n",
       "                   invoiced        \u001b[1;36m0.000020\u001b[0m\n",
       "                   shipped         \u001b[1;36m0.000010\u001b[0m\n",
       "                   unavailable     \u001b[1;36m0.005983\u001b[0m\n",
       "both               approved        \u001b[1;36m0.000020\u001b[0m\n",
       "                   canceled        \u001b[1;36m0.004574\u001b[0m\n",
       "                   delivered       \u001b[1;36m0.970571\u001b[0m\n",
       "                   invoiced        \u001b[1;36m0.003096\u001b[0m\n",
       "                   processing      \u001b[1;36m0.002987\u001b[0m\n",
       "                   shipped         \u001b[1;36m0.010994\u001b[0m\n",
       "                   unavailable     \u001b[1;36m0.000069\u001b[0m\n",
       "Name: proportion, dtype: float64"
      ]
     },
     "execution_count": 281,
     "metadata": {},
     "output_type": "execute_result"
    }
   ],
   "source": [
    "# faz sentido considerar apenas os pedidos entregues\n",
    "# já que os demais tem poucos casos\n",
    "(\n",
    "    df_orders\n",
    "    .merge(df_items[['seller_id','order_id']].drop_duplicates(),\n",
    "           on=['order_id'],\n",
    "           how='left',\n",
    "           indicator=True)\n",
    "    .rename(columns={'_merge':'_merge_order_item'})\n",
    "    [[\"_merge_order_item\",\"order_status\"]].value_counts(normalize=True)\n",
    "    .sort_index()\n",
    ")"
   ]
  },
  {
   "cell_type": "code",
   "execution_count": 288,
   "metadata": {},
   "outputs": [
    {
     "data": {
      "text/html": [
       "<pre style=\"white-space:pre;overflow-x:auto;line-height:normal;font-family:Menlo,'DejaVu Sans Mono',consolas,'Courier New',monospace\"></pre>\n"
      ],
      "text/plain": []
     },
     "metadata": {},
     "output_type": "display_data"
    },
    {
     "data": {
      "text/plain": [
       "\n",
       "\u001b[1;35mIndex\u001b[0m\u001b[1m(\u001b[0m\u001b[1m[\u001b[0m\u001b[32m'order_id'\u001b[0m, \u001b[32m'customer_id'\u001b[0m, \u001b[32m'order_status'\u001b[0m, \u001b[32m'order_purchase_timestamp'\u001b[0m,\n",
       "       \u001b[32m'order_approved_at'\u001b[0m, \u001b[32m'order_delivered_carrier_date'\u001b[0m,\n",
       "       \u001b[32m'order_delivered_customer_date'\u001b[0m, \u001b[32m'order_estimated_delivery_date'\u001b[0m\u001b[1m]\u001b[0m,\n",
       "      \u001b[33mdtype\u001b[0m=\u001b[32m'object'\u001b[0m\u001b[1m)\u001b[0m"
      ]
     },
     "execution_count": 288,
     "metadata": {},
     "output_type": "execute_result"
    }
   ],
   "source": [
    "df_orders.columns"
   ]
  },
  {
   "cell_type": "code",
   "execution_count": null,
   "metadata": {},
   "outputs": [
    {
     "data": {
      "text/html": [
       "<pre style=\"white-space:pre;overflow-x:auto;line-height:normal;font-family:Menlo,'DejaVu Sans Mono',consolas,'Courier New',monospace\"></pre>\n"
      ],
      "text/plain": []
     },
     "metadata": {},
     "output_type": "display_data"
    },
    {
     "data": {
      "text/plain": [
       "\u001b[1;36m2970\u001b[0m"
      ]
     },
     "execution_count": 284,
     "metadata": {},
     "output_type": "execute_result"
    }
   ],
   "source": [
    "(\n",
    "    df_orders\n",
    "    .query(\"order_status=='delivered'\")\n",
    "    .merge(df_items[['seller_id','order_id']].drop_duplicates(),\n",
    "           on=['order_id'],\n",
    "           how='left')\n",
    ")"
   ]
  }
 ],
 "metadata": {
  "kernelspec": {
   "display_name": ".venv",
   "language": "python",
   "name": "python3"
  },
  "language_info": {
   "codemirror_mode": {
    "name": "ipython",
    "version": 3
   },
   "file_extension": ".py",
   "mimetype": "text/x-python",
   "name": "python",
   "nbconvert_exporter": "python",
   "pygments_lexer": "ipython3",
   "version": "3.11.11"
  }
 },
 "nbformat": 4,
 "nbformat_minor": 2
}
